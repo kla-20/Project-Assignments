{
  "nbformat": 4,
  "nbformat_minor": 0,
  "metadata": {
    "colab": {
      "provenance": []
    },
    "kernelspec": {
      "name": "python3",
      "display_name": "Python 3"
    },
    "language_info": {
      "name": "python"
    }
  },
  "cells": [
    {
      "cell_type": "markdown",
      "source": [
        "### Name: Lalith Aditya\n",
        "### Regd No: 22231\n",
        "### MSC 1st Year\n",
        "### House Price Prediction\n",
        "### MDH campus"
      ],
      "metadata": {
        "id": "pqQkhy349lDo"
      }
    },
    {
      "cell_type": "code",
      "execution_count": 1,
      "metadata": {
        "id": "cnUay_RE8xNy"
      },
      "outputs": [],
      "source": [
        "import pandas as pd\n",
        "import matplotlib.pyplot as plt\n",
        "import numpy as np"
      ]
    },
    {
      "cell_type": "markdown",
      "source": [
        "# 1.Getting the Dataset\n",
        "### Download the datasets (train and test) from the following link –\n",
        "https://www.kaggle.com/c/house-prices-advanced-regression-techniques/leaderboard"
      ],
      "metadata": {
        "id": "BK0HUdVt9sZH"
      }
    },
    {
      "cell_type": "code",
      "source": [
        "df = pd.read_csv('/content/drive/MyDrive/Datasets/hpp_train.csv')"
      ],
      "metadata": {
        "id": "7uS05fQA9pih"
      },
      "execution_count": 2,
      "outputs": []
    },
    {
      "cell_type": "code",
      "source": [
        "df.head(5)"
      ],
      "metadata": {
        "colab": {
          "base_uri": "https://localhost:8080/",
          "height": 299
        },
        "id": "NV0fMsil-AMH",
        "outputId": "e940d3fb-3dd0-477b-acd2-32a171c03656"
      },
      "execution_count": 3,
      "outputs": [
        {
          "output_type": "execute_result",
          "data": {
            "text/plain": [
              "   Id  MSSubClass MSZoning  LotFrontage  LotArea Street Alley LotShape  \\\n",
              "0   1          60       RL         65.0     8450   Pave   NaN      Reg   \n",
              "1   2          20       RL         80.0     9600   Pave   NaN      Reg   \n",
              "2   3          60       RL         68.0    11250   Pave   NaN      IR1   \n",
              "3   4          70       RL         60.0     9550   Pave   NaN      IR1   \n",
              "4   5          60       RL         84.0    14260   Pave   NaN      IR1   \n",
              "\n",
              "  LandContour Utilities  ... PoolArea PoolQC Fence MiscFeature MiscVal MoSold  \\\n",
              "0         Lvl    AllPub  ...        0    NaN   NaN         NaN       0      2   \n",
              "1         Lvl    AllPub  ...        0    NaN   NaN         NaN       0      5   \n",
              "2         Lvl    AllPub  ...        0    NaN   NaN         NaN       0      9   \n",
              "3         Lvl    AllPub  ...        0    NaN   NaN         NaN       0      2   \n",
              "4         Lvl    AllPub  ...        0    NaN   NaN         NaN       0     12   \n",
              "\n",
              "  YrSold  SaleType  SaleCondition  SalePrice  \n",
              "0   2008        WD         Normal     208500  \n",
              "1   2007        WD         Normal     181500  \n",
              "2   2008        WD         Normal     223500  \n",
              "3   2006        WD        Abnorml     140000  \n",
              "4   2008        WD         Normal     250000  \n",
              "\n",
              "[5 rows x 81 columns]"
            ],
            "text/html": [
              "\n",
              "  <div id=\"df-68e53a59-8d86-4b48-991a-0363475f48e9\">\n",
              "    <div class=\"colab-df-container\">\n",
              "      <div>\n",
              "<style scoped>\n",
              "    .dataframe tbody tr th:only-of-type {\n",
              "        vertical-align: middle;\n",
              "    }\n",
              "\n",
              "    .dataframe tbody tr th {\n",
              "        vertical-align: top;\n",
              "    }\n",
              "\n",
              "    .dataframe thead th {\n",
              "        text-align: right;\n",
              "    }\n",
              "</style>\n",
              "<table border=\"1\" class=\"dataframe\">\n",
              "  <thead>\n",
              "    <tr style=\"text-align: right;\">\n",
              "      <th></th>\n",
              "      <th>Id</th>\n",
              "      <th>MSSubClass</th>\n",
              "      <th>MSZoning</th>\n",
              "      <th>LotFrontage</th>\n",
              "      <th>LotArea</th>\n",
              "      <th>Street</th>\n",
              "      <th>Alley</th>\n",
              "      <th>LotShape</th>\n",
              "      <th>LandContour</th>\n",
              "      <th>Utilities</th>\n",
              "      <th>...</th>\n",
              "      <th>PoolArea</th>\n",
              "      <th>PoolQC</th>\n",
              "      <th>Fence</th>\n",
              "      <th>MiscFeature</th>\n",
              "      <th>MiscVal</th>\n",
              "      <th>MoSold</th>\n",
              "      <th>YrSold</th>\n",
              "      <th>SaleType</th>\n",
              "      <th>SaleCondition</th>\n",
              "      <th>SalePrice</th>\n",
              "    </tr>\n",
              "  </thead>\n",
              "  <tbody>\n",
              "    <tr>\n",
              "      <th>0</th>\n",
              "      <td>1</td>\n",
              "      <td>60</td>\n",
              "      <td>RL</td>\n",
              "      <td>65.0</td>\n",
              "      <td>8450</td>\n",
              "      <td>Pave</td>\n",
              "      <td>NaN</td>\n",
              "      <td>Reg</td>\n",
              "      <td>Lvl</td>\n",
              "      <td>AllPub</td>\n",
              "      <td>...</td>\n",
              "      <td>0</td>\n",
              "      <td>NaN</td>\n",
              "      <td>NaN</td>\n",
              "      <td>NaN</td>\n",
              "      <td>0</td>\n",
              "      <td>2</td>\n",
              "      <td>2008</td>\n",
              "      <td>WD</td>\n",
              "      <td>Normal</td>\n",
              "      <td>208500</td>\n",
              "    </tr>\n",
              "    <tr>\n",
              "      <th>1</th>\n",
              "      <td>2</td>\n",
              "      <td>20</td>\n",
              "      <td>RL</td>\n",
              "      <td>80.0</td>\n",
              "      <td>9600</td>\n",
              "      <td>Pave</td>\n",
              "      <td>NaN</td>\n",
              "      <td>Reg</td>\n",
              "      <td>Lvl</td>\n",
              "      <td>AllPub</td>\n",
              "      <td>...</td>\n",
              "      <td>0</td>\n",
              "      <td>NaN</td>\n",
              "      <td>NaN</td>\n",
              "      <td>NaN</td>\n",
              "      <td>0</td>\n",
              "      <td>5</td>\n",
              "      <td>2007</td>\n",
              "      <td>WD</td>\n",
              "      <td>Normal</td>\n",
              "      <td>181500</td>\n",
              "    </tr>\n",
              "    <tr>\n",
              "      <th>2</th>\n",
              "      <td>3</td>\n",
              "      <td>60</td>\n",
              "      <td>RL</td>\n",
              "      <td>68.0</td>\n",
              "      <td>11250</td>\n",
              "      <td>Pave</td>\n",
              "      <td>NaN</td>\n",
              "      <td>IR1</td>\n",
              "      <td>Lvl</td>\n",
              "      <td>AllPub</td>\n",
              "      <td>...</td>\n",
              "      <td>0</td>\n",
              "      <td>NaN</td>\n",
              "      <td>NaN</td>\n",
              "      <td>NaN</td>\n",
              "      <td>0</td>\n",
              "      <td>9</td>\n",
              "      <td>2008</td>\n",
              "      <td>WD</td>\n",
              "      <td>Normal</td>\n",
              "      <td>223500</td>\n",
              "    </tr>\n",
              "    <tr>\n",
              "      <th>3</th>\n",
              "      <td>4</td>\n",
              "      <td>70</td>\n",
              "      <td>RL</td>\n",
              "      <td>60.0</td>\n",
              "      <td>9550</td>\n",
              "      <td>Pave</td>\n",
              "      <td>NaN</td>\n",
              "      <td>IR1</td>\n",
              "      <td>Lvl</td>\n",
              "      <td>AllPub</td>\n",
              "      <td>...</td>\n",
              "      <td>0</td>\n",
              "      <td>NaN</td>\n",
              "      <td>NaN</td>\n",
              "      <td>NaN</td>\n",
              "      <td>0</td>\n",
              "      <td>2</td>\n",
              "      <td>2006</td>\n",
              "      <td>WD</td>\n",
              "      <td>Abnorml</td>\n",
              "      <td>140000</td>\n",
              "    </tr>\n",
              "    <tr>\n",
              "      <th>4</th>\n",
              "      <td>5</td>\n",
              "      <td>60</td>\n",
              "      <td>RL</td>\n",
              "      <td>84.0</td>\n",
              "      <td>14260</td>\n",
              "      <td>Pave</td>\n",
              "      <td>NaN</td>\n",
              "      <td>IR1</td>\n",
              "      <td>Lvl</td>\n",
              "      <td>AllPub</td>\n",
              "      <td>...</td>\n",
              "      <td>0</td>\n",
              "      <td>NaN</td>\n",
              "      <td>NaN</td>\n",
              "      <td>NaN</td>\n",
              "      <td>0</td>\n",
              "      <td>12</td>\n",
              "      <td>2008</td>\n",
              "      <td>WD</td>\n",
              "      <td>Normal</td>\n",
              "      <td>250000</td>\n",
              "    </tr>\n",
              "  </tbody>\n",
              "</table>\n",
              "<p>5 rows × 81 columns</p>\n",
              "</div>\n",
              "      <button class=\"colab-df-convert\" onclick=\"convertToInteractive('df-68e53a59-8d86-4b48-991a-0363475f48e9')\"\n",
              "              title=\"Convert this dataframe to an interactive table.\"\n",
              "              style=\"display:none;\">\n",
              "        \n",
              "  <svg xmlns=\"http://www.w3.org/2000/svg\" height=\"24px\"viewBox=\"0 0 24 24\"\n",
              "       width=\"24px\">\n",
              "    <path d=\"M0 0h24v24H0V0z\" fill=\"none\"/>\n",
              "    <path d=\"M18.56 5.44l.94 2.06.94-2.06 2.06-.94-2.06-.94-.94-2.06-.94 2.06-2.06.94zm-11 1L8.5 8.5l.94-2.06 2.06-.94-2.06-.94L8.5 2.5l-.94 2.06-2.06.94zm10 10l.94 2.06.94-2.06 2.06-.94-2.06-.94-.94-2.06-.94 2.06-2.06.94z\"/><path d=\"M17.41 7.96l-1.37-1.37c-.4-.4-.92-.59-1.43-.59-.52 0-1.04.2-1.43.59L10.3 9.45l-7.72 7.72c-.78.78-.78 2.05 0 2.83L4 21.41c.39.39.9.59 1.41.59.51 0 1.02-.2 1.41-.59l7.78-7.78 2.81-2.81c.8-.78.8-2.07 0-2.86zM5.41 20L4 18.59l7.72-7.72 1.47 1.35L5.41 20z\"/>\n",
              "  </svg>\n",
              "      </button>\n",
              "      \n",
              "  <style>\n",
              "    .colab-df-container {\n",
              "      display:flex;\n",
              "      flex-wrap:wrap;\n",
              "      gap: 12px;\n",
              "    }\n",
              "\n",
              "    .colab-df-convert {\n",
              "      background-color: #E8F0FE;\n",
              "      border: none;\n",
              "      border-radius: 50%;\n",
              "      cursor: pointer;\n",
              "      display: none;\n",
              "      fill: #1967D2;\n",
              "      height: 32px;\n",
              "      padding: 0 0 0 0;\n",
              "      width: 32px;\n",
              "    }\n",
              "\n",
              "    .colab-df-convert:hover {\n",
              "      background-color: #E2EBFA;\n",
              "      box-shadow: 0px 1px 2px rgba(60, 64, 67, 0.3), 0px 1px 3px 1px rgba(60, 64, 67, 0.15);\n",
              "      fill: #174EA6;\n",
              "    }\n",
              "\n",
              "    [theme=dark] .colab-df-convert {\n",
              "      background-color: #3B4455;\n",
              "      fill: #D2E3FC;\n",
              "    }\n",
              "\n",
              "    [theme=dark] .colab-df-convert:hover {\n",
              "      background-color: #434B5C;\n",
              "      box-shadow: 0px 1px 3px 1px rgba(0, 0, 0, 0.15);\n",
              "      filter: drop-shadow(0px 1px 2px rgba(0, 0, 0, 0.3));\n",
              "      fill: #FFFFFF;\n",
              "    }\n",
              "  </style>\n",
              "\n",
              "      <script>\n",
              "        const buttonEl =\n",
              "          document.querySelector('#df-68e53a59-8d86-4b48-991a-0363475f48e9 button.colab-df-convert');\n",
              "        buttonEl.style.display =\n",
              "          google.colab.kernel.accessAllowed ? 'block' : 'none';\n",
              "\n",
              "        async function convertToInteractive(key) {\n",
              "          const element = document.querySelector('#df-68e53a59-8d86-4b48-991a-0363475f48e9');\n",
              "          const dataTable =\n",
              "            await google.colab.kernel.invokeFunction('convertToInteractive',\n",
              "                                                     [key], {});\n",
              "          if (!dataTable) return;\n",
              "\n",
              "          const docLinkHtml = 'Like what you see? Visit the ' +\n",
              "            '<a target=\"_blank\" href=https://colab.research.google.com/notebooks/data_table.ipynb>data table notebook</a>'\n",
              "            + ' to learn more about interactive tables.';\n",
              "          element.innerHTML = '';\n",
              "          dataTable['output_type'] = 'display_data';\n",
              "          await google.colab.output.renderOutput(dataTable, element);\n",
              "          const docLink = document.createElement('div');\n",
              "          docLink.innerHTML = docLinkHtml;\n",
              "          element.appendChild(docLink);\n",
              "        }\n",
              "      </script>\n",
              "    </div>\n",
              "  </div>\n",
              "  "
            ]
          },
          "metadata": {},
          "execution_count": 3
        }
      ]
    },
    {
      "cell_type": "code",
      "source": [
        "df.columns"
      ],
      "metadata": {
        "colab": {
          "base_uri": "https://localhost:8080/"
        },
        "id": "Zqadaet8jiR6",
        "outputId": "de89f707-b48b-4843-8666-768473f53f95"
      },
      "execution_count": 4,
      "outputs": [
        {
          "output_type": "execute_result",
          "data": {
            "text/plain": [
              "Index(['Id', 'MSSubClass', 'MSZoning', 'LotFrontage', 'LotArea', 'Street',\n",
              "       'Alley', 'LotShape', 'LandContour', 'Utilities', 'LotConfig',\n",
              "       'LandSlope', 'Neighborhood', 'Condition1', 'Condition2', 'BldgType',\n",
              "       'HouseStyle', 'OverallQual', 'OverallCond', 'YearBuilt', 'YearRemodAdd',\n",
              "       'RoofStyle', 'RoofMatl', 'Exterior1st', 'Exterior2nd', 'MasVnrType',\n",
              "       'MasVnrArea', 'ExterQual', 'ExterCond', 'Foundation', 'BsmtQual',\n",
              "       'BsmtCond', 'BsmtExposure', 'BsmtFinType1', 'BsmtFinSF1',\n",
              "       'BsmtFinType2', 'BsmtFinSF2', 'BsmtUnfSF', 'TotalBsmtSF', 'Heating',\n",
              "       'HeatingQC', 'CentralAir', 'Electrical', '1stFlrSF', '2ndFlrSF',\n",
              "       'LowQualFinSF', 'GrLivArea', 'BsmtFullBath', 'BsmtHalfBath', 'FullBath',\n",
              "       'HalfBath', 'BedroomAbvGr', 'KitchenAbvGr', 'KitchenQual',\n",
              "       'TotRmsAbvGrd', 'Functional', 'Fireplaces', 'FireplaceQu', 'GarageType',\n",
              "       'GarageYrBlt', 'GarageFinish', 'GarageCars', 'GarageArea', 'GarageQual',\n",
              "       'GarageCond', 'PavedDrive', 'WoodDeckSF', 'OpenPorchSF',\n",
              "       'EnclosedPorch', '3SsnPorch', 'ScreenPorch', 'PoolArea', 'PoolQC',\n",
              "       'Fence', 'MiscFeature', 'MiscVal', 'MoSold', 'YrSold', 'SaleType',\n",
              "       'SaleCondition', 'SalePrice'],\n",
              "      dtype='object')"
            ]
          },
          "metadata": {},
          "execution_count": 4
        }
      ]
    },
    {
      "cell_type": "code",
      "source": [
        "# Get all numeric columns\n",
        "numeric_columns_orig = df._get_numeric_data().columns.values.tolist()"
      ],
      "metadata": {
        "id": "ly8GR_SQdNZa"
      },
      "execution_count": 5,
      "outputs": []
    },
    {
      "cell_type": "code",
      "source": [
        "numeric_columns_orig"
      ],
      "metadata": {
        "colab": {
          "base_uri": "https://localhost:8080/"
        },
        "id": "FGrQlGB-dWbU",
        "outputId": "2c2d4a22-37bb-4bfd-ee73-6fd1be9ca553"
      },
      "execution_count": 6,
      "outputs": [
        {
          "output_type": "execute_result",
          "data": {
            "text/plain": [
              "['Id',\n",
              " 'MSSubClass',\n",
              " 'LotFrontage',\n",
              " 'LotArea',\n",
              " 'OverallQual',\n",
              " 'OverallCond',\n",
              " 'YearBuilt',\n",
              " 'YearRemodAdd',\n",
              " 'MasVnrArea',\n",
              " 'BsmtFinSF1',\n",
              " 'BsmtFinSF2',\n",
              " 'BsmtUnfSF',\n",
              " 'TotalBsmtSF',\n",
              " '1stFlrSF',\n",
              " '2ndFlrSF',\n",
              " 'LowQualFinSF',\n",
              " 'GrLivArea',\n",
              " 'BsmtFullBath',\n",
              " 'BsmtHalfBath',\n",
              " 'FullBath',\n",
              " 'HalfBath',\n",
              " 'BedroomAbvGr',\n",
              " 'KitchenAbvGr',\n",
              " 'TotRmsAbvGrd',\n",
              " 'Fireplaces',\n",
              " 'GarageYrBlt',\n",
              " 'GarageCars',\n",
              " 'GarageArea',\n",
              " 'WoodDeckSF',\n",
              " 'OpenPorchSF',\n",
              " 'EnclosedPorch',\n",
              " '3SsnPorch',\n",
              " 'ScreenPorch',\n",
              " 'PoolArea',\n",
              " 'MiscVal',\n",
              " 'MoSold',\n",
              " 'YrSold',\n",
              " 'SalePrice']"
            ]
          },
          "metadata": {},
          "execution_count": 6
        }
      ]
    },
    {
      "cell_type": "code",
      "source": [
        "len(numeric_columns_orig)"
      ],
      "metadata": {
        "colab": {
          "base_uri": "https://localhost:8080/"
        },
        "id": "7hKcI-CDd87K",
        "outputId": "9ac02656-bc84-40b4-b935-00aeb82b435e"
      },
      "execution_count": 7,
      "outputs": [
        {
          "output_type": "execute_result",
          "data": {
            "text/plain": [
              "38"
            ]
          },
          "metadata": {},
          "execution_count": 7
        }
      ]
    },
    {
      "cell_type": "markdown",
      "source": [
        "# 2. Preprocessing\n"
      ],
      "metadata": {
        "id": "GQa7twfb-Fu1"
      }
    },
    {
      "cell_type": "markdown",
      "source": [
        "## Null Values replacement"
      ],
      "metadata": {
        "id": "5hqbGgBP-VA_"
      }
    },
    {
      "cell_type": "code",
      "source": [
        "column_names = list(df.columns)\n",
        "len(column_names)"
      ],
      "metadata": {
        "colab": {
          "base_uri": "https://localhost:8080/"
        },
        "id": "T88t38s6_rzK",
        "outputId": "e94e87c5-94f5-4ee1-99ed-20c761641997"
      },
      "execution_count": 8,
      "outputs": [
        {
          "output_type": "execute_result",
          "data": {
            "text/plain": [
              "81"
            ]
          },
          "metadata": {},
          "execution_count": 8
        }
      ]
    },
    {
      "cell_type": "code",
      "source": [
        "# checking which columns are null\n",
        "\n",
        "\n",
        "null_column_indices = []\n",
        "for i in range(0,len(column_names)):\n",
        "  if(df[column_names[i]].isnull().values.any() == True):\n",
        "    null_column_indices.append(column_names[i])\n",
        "null_column_indices    "
      ],
      "metadata": {
        "colab": {
          "base_uri": "https://localhost:8080/"
        },
        "id": "AOxSv9Y7-E7I",
        "outputId": "0672b0e9-9911-4a30-b6a9-1fd318fcef6a"
      },
      "execution_count": 9,
      "outputs": [
        {
          "output_type": "execute_result",
          "data": {
            "text/plain": [
              "['LotFrontage',\n",
              " 'Alley',\n",
              " 'MasVnrType',\n",
              " 'MasVnrArea',\n",
              " 'BsmtQual',\n",
              " 'BsmtCond',\n",
              " 'BsmtExposure',\n",
              " 'BsmtFinType1',\n",
              " 'BsmtFinType2',\n",
              " 'Electrical',\n",
              " 'FireplaceQu',\n",
              " 'GarageType',\n",
              " 'GarageYrBlt',\n",
              " 'GarageFinish',\n",
              " 'GarageQual',\n",
              " 'GarageCond',\n",
              " 'PoolQC',\n",
              " 'Fence',\n",
              " 'MiscFeature']"
            ]
          },
          "metadata": {},
          "execution_count": 9
        }
      ]
    },
    {
      "cell_type": "code",
      "source": [
        "len(null_column_indices)"
      ],
      "metadata": {
        "colab": {
          "base_uri": "https://localhost:8080/"
        },
        "id": "jUqcvaO_AwSx",
        "outputId": "e53c80b9-d684-4755-a11f-fe012be38e7a"
      },
      "execution_count": 10,
      "outputs": [
        {
          "output_type": "execute_result",
          "data": {
            "text/plain": [
              "19"
            ]
          },
          "metadata": {},
          "execution_count": 10
        }
      ]
    },
    {
      "cell_type": "markdown",
      "source": [
        "### So we have 19 columns which have null values. We will now try to see data types of these 19 columns!"
      ],
      "metadata": {
        "id": "gC754_dwA6-v"
      }
    },
    {
      "cell_type": "code",
      "source": [
        "for i in range(0,len(null_column_indices)):\n",
        "  print(f\"{null_column_indices[i]} column has data type : {type(df[null_column_indices[i]][0])}\")\n"
      ],
      "metadata": {
        "colab": {
          "base_uri": "https://localhost:8080/"
        },
        "id": "1ZmjicUuBF7P",
        "outputId": "76766e28-8348-4004-d0b1-ec0953bc0981"
      },
      "execution_count": 11,
      "outputs": [
        {
          "output_type": "stream",
          "name": "stdout",
          "text": [
            "LotFrontage column has data type : <class 'numpy.float64'>\n",
            "Alley column has data type : <class 'float'>\n",
            "MasVnrType column has data type : <class 'str'>\n",
            "MasVnrArea column has data type : <class 'numpy.float64'>\n",
            "BsmtQual column has data type : <class 'str'>\n",
            "BsmtCond column has data type : <class 'str'>\n",
            "BsmtExposure column has data type : <class 'str'>\n",
            "BsmtFinType1 column has data type : <class 'str'>\n",
            "BsmtFinType2 column has data type : <class 'str'>\n",
            "Electrical column has data type : <class 'str'>\n",
            "FireplaceQu column has data type : <class 'float'>\n",
            "GarageType column has data type : <class 'str'>\n",
            "GarageYrBlt column has data type : <class 'numpy.float64'>\n",
            "GarageFinish column has data type : <class 'str'>\n",
            "GarageQual column has data type : <class 'str'>\n",
            "GarageCond column has data type : <class 'str'>\n",
            "PoolQC column has data type : <class 'float'>\n",
            "Fence column has data type : <class 'float'>\n",
            "MiscFeature column has data type : <class 'float'>\n"
          ]
        }
      ]
    },
    {
      "cell_type": "code",
      "source": [
        "numeric_cols = df[null_column_indices].select_dtypes(include='number')\n",
        "numeric_cols"
      ],
      "metadata": {
        "colab": {
          "base_uri": "https://localhost:8080/",
          "height": 423
        },
        "id": "MRYRO8kWyRPk",
        "outputId": "500d6cb1-a9ec-4079-be46-bbefd7211b76"
      },
      "execution_count": 12,
      "outputs": [
        {
          "output_type": "execute_result",
          "data": {
            "text/plain": [
              "      LotFrontage  MasVnrArea  GarageYrBlt\n",
              "0            65.0       196.0       2003.0\n",
              "1            80.0         0.0       1976.0\n",
              "2            68.0       162.0       2001.0\n",
              "3            60.0         0.0       1998.0\n",
              "4            84.0       350.0       2000.0\n",
              "...           ...         ...          ...\n",
              "1455         62.0         0.0       1999.0\n",
              "1456         85.0       119.0       1978.0\n",
              "1457         66.0         0.0       1941.0\n",
              "1458         68.0         0.0       1950.0\n",
              "1459         75.0         0.0       1965.0\n",
              "\n",
              "[1460 rows x 3 columns]"
            ],
            "text/html": [
              "\n",
              "  <div id=\"df-19b2a940-1334-4158-a7d2-0440bf312386\">\n",
              "    <div class=\"colab-df-container\">\n",
              "      <div>\n",
              "<style scoped>\n",
              "    .dataframe tbody tr th:only-of-type {\n",
              "        vertical-align: middle;\n",
              "    }\n",
              "\n",
              "    .dataframe tbody tr th {\n",
              "        vertical-align: top;\n",
              "    }\n",
              "\n",
              "    .dataframe thead th {\n",
              "        text-align: right;\n",
              "    }\n",
              "</style>\n",
              "<table border=\"1\" class=\"dataframe\">\n",
              "  <thead>\n",
              "    <tr style=\"text-align: right;\">\n",
              "      <th></th>\n",
              "      <th>LotFrontage</th>\n",
              "      <th>MasVnrArea</th>\n",
              "      <th>GarageYrBlt</th>\n",
              "    </tr>\n",
              "  </thead>\n",
              "  <tbody>\n",
              "    <tr>\n",
              "      <th>0</th>\n",
              "      <td>65.0</td>\n",
              "      <td>196.0</td>\n",
              "      <td>2003.0</td>\n",
              "    </tr>\n",
              "    <tr>\n",
              "      <th>1</th>\n",
              "      <td>80.0</td>\n",
              "      <td>0.0</td>\n",
              "      <td>1976.0</td>\n",
              "    </tr>\n",
              "    <tr>\n",
              "      <th>2</th>\n",
              "      <td>68.0</td>\n",
              "      <td>162.0</td>\n",
              "      <td>2001.0</td>\n",
              "    </tr>\n",
              "    <tr>\n",
              "      <th>3</th>\n",
              "      <td>60.0</td>\n",
              "      <td>0.0</td>\n",
              "      <td>1998.0</td>\n",
              "    </tr>\n",
              "    <tr>\n",
              "      <th>4</th>\n",
              "      <td>84.0</td>\n",
              "      <td>350.0</td>\n",
              "      <td>2000.0</td>\n",
              "    </tr>\n",
              "    <tr>\n",
              "      <th>...</th>\n",
              "      <td>...</td>\n",
              "      <td>...</td>\n",
              "      <td>...</td>\n",
              "    </tr>\n",
              "    <tr>\n",
              "      <th>1455</th>\n",
              "      <td>62.0</td>\n",
              "      <td>0.0</td>\n",
              "      <td>1999.0</td>\n",
              "    </tr>\n",
              "    <tr>\n",
              "      <th>1456</th>\n",
              "      <td>85.0</td>\n",
              "      <td>119.0</td>\n",
              "      <td>1978.0</td>\n",
              "    </tr>\n",
              "    <tr>\n",
              "      <th>1457</th>\n",
              "      <td>66.0</td>\n",
              "      <td>0.0</td>\n",
              "      <td>1941.0</td>\n",
              "    </tr>\n",
              "    <tr>\n",
              "      <th>1458</th>\n",
              "      <td>68.0</td>\n",
              "      <td>0.0</td>\n",
              "      <td>1950.0</td>\n",
              "    </tr>\n",
              "    <tr>\n",
              "      <th>1459</th>\n",
              "      <td>75.0</td>\n",
              "      <td>0.0</td>\n",
              "      <td>1965.0</td>\n",
              "    </tr>\n",
              "  </tbody>\n",
              "</table>\n",
              "<p>1460 rows × 3 columns</p>\n",
              "</div>\n",
              "      <button class=\"colab-df-convert\" onclick=\"convertToInteractive('df-19b2a940-1334-4158-a7d2-0440bf312386')\"\n",
              "              title=\"Convert this dataframe to an interactive table.\"\n",
              "              style=\"display:none;\">\n",
              "        \n",
              "  <svg xmlns=\"http://www.w3.org/2000/svg\" height=\"24px\"viewBox=\"0 0 24 24\"\n",
              "       width=\"24px\">\n",
              "    <path d=\"M0 0h24v24H0V0z\" fill=\"none\"/>\n",
              "    <path d=\"M18.56 5.44l.94 2.06.94-2.06 2.06-.94-2.06-.94-.94-2.06-.94 2.06-2.06.94zm-11 1L8.5 8.5l.94-2.06 2.06-.94-2.06-.94L8.5 2.5l-.94 2.06-2.06.94zm10 10l.94 2.06.94-2.06 2.06-.94-2.06-.94-.94-2.06-.94 2.06-2.06.94z\"/><path d=\"M17.41 7.96l-1.37-1.37c-.4-.4-.92-.59-1.43-.59-.52 0-1.04.2-1.43.59L10.3 9.45l-7.72 7.72c-.78.78-.78 2.05 0 2.83L4 21.41c.39.39.9.59 1.41.59.51 0 1.02-.2 1.41-.59l7.78-7.78 2.81-2.81c.8-.78.8-2.07 0-2.86zM5.41 20L4 18.59l7.72-7.72 1.47 1.35L5.41 20z\"/>\n",
              "  </svg>\n",
              "      </button>\n",
              "      \n",
              "  <style>\n",
              "    .colab-df-container {\n",
              "      display:flex;\n",
              "      flex-wrap:wrap;\n",
              "      gap: 12px;\n",
              "    }\n",
              "\n",
              "    .colab-df-convert {\n",
              "      background-color: #E8F0FE;\n",
              "      border: none;\n",
              "      border-radius: 50%;\n",
              "      cursor: pointer;\n",
              "      display: none;\n",
              "      fill: #1967D2;\n",
              "      height: 32px;\n",
              "      padding: 0 0 0 0;\n",
              "      width: 32px;\n",
              "    }\n",
              "\n",
              "    .colab-df-convert:hover {\n",
              "      background-color: #E2EBFA;\n",
              "      box-shadow: 0px 1px 2px rgba(60, 64, 67, 0.3), 0px 1px 3px 1px rgba(60, 64, 67, 0.15);\n",
              "      fill: #174EA6;\n",
              "    }\n",
              "\n",
              "    [theme=dark] .colab-df-convert {\n",
              "      background-color: #3B4455;\n",
              "      fill: #D2E3FC;\n",
              "    }\n",
              "\n",
              "    [theme=dark] .colab-df-convert:hover {\n",
              "      background-color: #434B5C;\n",
              "      box-shadow: 0px 1px 3px 1px rgba(0, 0, 0, 0.15);\n",
              "      filter: drop-shadow(0px 1px 2px rgba(0, 0, 0, 0.3));\n",
              "      fill: #FFFFFF;\n",
              "    }\n",
              "  </style>\n",
              "\n",
              "      <script>\n",
              "        const buttonEl =\n",
              "          document.querySelector('#df-19b2a940-1334-4158-a7d2-0440bf312386 button.colab-df-convert');\n",
              "        buttonEl.style.display =\n",
              "          google.colab.kernel.accessAllowed ? 'block' : 'none';\n",
              "\n",
              "        async function convertToInteractive(key) {\n",
              "          const element = document.querySelector('#df-19b2a940-1334-4158-a7d2-0440bf312386');\n",
              "          const dataTable =\n",
              "            await google.colab.kernel.invokeFunction('convertToInteractive',\n",
              "                                                     [key], {});\n",
              "          if (!dataTable) return;\n",
              "\n",
              "          const docLinkHtml = 'Like what you see? Visit the ' +\n",
              "            '<a target=\"_blank\" href=https://colab.research.google.com/notebooks/data_table.ipynb>data table notebook</a>'\n",
              "            + ' to learn more about interactive tables.';\n",
              "          element.innerHTML = '';\n",
              "          dataTable['output_type'] = 'display_data';\n",
              "          await google.colab.output.renderOutput(dataTable, element);\n",
              "          const docLink = document.createElement('div');\n",
              "          docLink.innerHTML = docLinkHtml;\n",
              "          element.appendChild(docLink);\n",
              "        }\n",
              "      </script>\n",
              "    </div>\n",
              "  </div>\n",
              "  "
            ]
          },
          "metadata": {},
          "execution_count": 12
        }
      ]
    },
    {
      "cell_type": "markdown",
      "source": [
        "##  We have 3 columns which are numeric that have null values. We will do mean imputation for them"
      ],
      "metadata": {
        "id": "pkkc1XwFz2kM"
      }
    },
    {
      "cell_type": "code",
      "source": [
        "# Lets Visualize all three columns first\n",
        "\n",
        "import seaborn as sns\n",
        "\n",
        "\n",
        "sns.boxplot(x=numeric_cols['LotFrontage'])"
      ],
      "metadata": {
        "colab": {
          "base_uri": "https://localhost:8080/",
          "height": 297
        },
        "id": "aDsvuCw20iVM",
        "outputId": "c7e6c41a-bc1d-411f-f351-68ddcb2416c0"
      },
      "execution_count": 13,
      "outputs": [
        {
          "output_type": "execute_result",
          "data": {
            "text/plain": [
              "<AxesSubplot:xlabel='LotFrontage'>"
            ]
          },
          "metadata": {},
          "execution_count": 13
        },
        {
          "output_type": "display_data",
          "data": {
            "text/plain": [
              "<Figure size 432x288 with 1 Axes>"
            ],
            "image/png": "[encoded data removed]"
          },
          "metadata": {
            "needs_background": "light"
          }
        }
      ]
    },
    {
      "cell_type": "code",
      "source": [
        "sns.boxplot(x=numeric_cols['MasVnrArea'])\n"
      ],
      "metadata": {
        "colab": {
          "base_uri": "https://localhost:8080/",
          "height": 297
        },
        "id": "pCsQC-yP19kW",
        "outputId": "5e510b55-7f66-49e1-a82d-4f316dda8159"
      },
      "execution_count": 14,
      "outputs": [
        {
          "output_type": "execute_result",
          "data": {
            "text/plain": [
              "<AxesSubplot:xlabel='MasVnrArea'>"
            ]
          },
          "metadata": {},
          "execution_count": 14
        },
        {
          "output_type": "display_data",
          "data": {
            "text/plain": [
              "<Figure size 432x288 with 1 Axes>"
            ],
            "image/png": "[encoded data removed]"
          },
          "metadata": {
            "needs_background": "light"
          }
        }
      ]
    },
    {
      "cell_type": "code",
      "source": [
        "sns.boxplot(x=numeric_cols['GarageYrBlt'])"
      ],
      "metadata": {
        "colab": {
          "base_uri": "https://localhost:8080/",
          "height": 297
        },
        "id": "r0Cd4YTN1_N6",
        "outputId": "d9058623-c4c7-4852-ac88-b8d6eb897f05"
      },
      "execution_count": 15,
      "outputs": [
        {
          "output_type": "execute_result",
          "data": {
            "text/plain": [
              "<AxesSubplot:xlabel='GarageYrBlt'>"
            ]
          },
          "metadata": {},
          "execution_count": 15
        },
        {
          "output_type": "display_data",
          "data": {
            "text/plain": [
              "<Figure size 432x288 with 1 Axes>"
            ],
            "image/png": "[encoded data removed]"
          },
          "metadata": {
            "needs_background": "light"
          }
        }
      ]
    },
    {
      "cell_type": "markdown",
      "source": [
        "## These are skewed columns. So as per the internet its saying to impute with mode. So lets do that!"
      ],
      "metadata": {
        "id": "rEZQBhrA2q7q"
      }
    },
    {
      "cell_type": "code",
      "source": [
        "mode_value = df['LotFrontage'].mode()[0]\n",
        "df['LotFrontage'].fillna(mode_value, inplace=True)\n"
      ],
      "metadata": {
        "id": "iPiiCth220E0"
      },
      "execution_count": 16,
      "outputs": []
    },
    {
      "cell_type": "code",
      "source": [
        "mode_value = df['MasVnrArea'].mode()[0]\n",
        "df['MasVnrArea'].fillna(mode_value, inplace=True)"
      ],
      "metadata": {
        "id": "LJwexkmE3Cqz"
      },
      "execution_count": 17,
      "outputs": []
    },
    {
      "cell_type": "code",
      "source": [
        "mode_value = df['GarageYrBlt'].mode()[0]\n",
        "df['GarageYrBlt'].fillna(mode_value, inplace=True)"
      ],
      "metadata": {
        "id": "czsmg1KF3JMU"
      },
      "execution_count": 18,
      "outputs": []
    },
    {
      "cell_type": "markdown",
      "source": [
        "## Now Ive imputed the columns with mode, Lets see their visualizations"
      ],
      "metadata": {
        "id": "UXYFI0nx3PDk"
      }
    },
    {
      "cell_type": "code",
      "source": [
        "sns.boxplot(x=df['LotFrontage'])"
      ],
      "metadata": {
        "colab": {
          "base_uri": "https://localhost:8080/",
          "height": 297
        },
        "id": "sKruyq5B3UdU",
        "outputId": "b0178ea7-b2ac-4be9-f28d-356453243fbb"
      },
      "execution_count": 19,
      "outputs": [
        {
          "output_type": "execute_result",
          "data": {
            "text/plain": [
              "<AxesSubplot:xlabel='LotFrontage'>"
            ]
          },
          "metadata": {},
          "execution_count": 19
        },
        {
          "output_type": "display_data",
          "data": {
            "text/plain": [
              "<Figure size 432x288 with 1 Axes>"
            ],
            "image/png": "[encoded data removed]"
          },
          "metadata": {
            "needs_background": "light"
          }
        }
      ]
    },
    {
      "cell_type": "code",
      "source": [
        "sns.boxplot(x=df['MasVnrArea'])"
      ],
      "metadata": {
        "colab": {
          "base_uri": "https://localhost:8080/",
          "height": 297
        },
        "id": "Q4PStXCC3ZLl",
        "outputId": "868715b0-a855-459e-fa7d-426fefd9e795"
      },
      "execution_count": 20,
      "outputs": [
        {
          "output_type": "execute_result",
          "data": {
            "text/plain": [
              "<AxesSubplot:xlabel='MasVnrArea'>"
            ]
          },
          "metadata": {},
          "execution_count": 20
        },
        {
          "output_type": "display_data",
          "data": {
            "text/plain": [
              "<Figure size 432x288 with 1 Axes>"
            ],
            "image/png": "[encoded data removed]"
          },
          "metadata": {
            "needs_background": "light"
          }
        }
      ]
    },
    {
      "cell_type": "code",
      "source": [
        "sns.boxplot(x=df['GarageYrBlt'])"
      ],
      "metadata": {
        "colab": {
          "base_uri": "https://localhost:8080/",
          "height": 297
        },
        "id": "xc66NlSO3dSj",
        "outputId": "668d0c6c-71fc-4366-fabb-66f651d48949"
      },
      "execution_count": 21,
      "outputs": [
        {
          "output_type": "execute_result",
          "data": {
            "text/plain": [
              "<AxesSubplot:xlabel='GarageYrBlt'>"
            ]
          },
          "metadata": {},
          "execution_count": 21
        },
        {
          "output_type": "display_data",
          "data": {
            "text/plain": [
              "<Figure size 432x288 with 1 Axes>"
            ],
            "image/png": "[encoded data removed]"
          },
          "metadata": {
            "needs_background": "light"
          }
        }
      ]
    },
    {
      "cell_type": "markdown",
      "source": [
        "## We have filled the columns missing values, Now still they are skewed lets apply log transformation on the columns and see"
      ],
      "metadata": {
        "id": "IU9UmuDW4Qy8"
      }
    },
    {
      "cell_type": "code",
      "source": [
        "# apply logarithmic transformation to column B\n",
        "df['MasVnrArea'] = np.log(df['MasVnrArea'])"
      ],
      "metadata": {
        "colab": {
          "base_uri": "https://localhost:8080/"
        },
        "id": "H1FufvLU4j7E",
        "outputId": "479100e0-7ff9-4c7f-b3a7-9db49b2b3921"
      },
      "execution_count": 22,
      "outputs": [
        {
          "output_type": "stream",
          "name": "stderr",
          "text": [
            "/usr/local/lib/python3.9/dist-packages/pandas/core/arraylike.py:364: RuntimeWarning: divide by zero encountered in log\n",
            "  result = getattr(ufunc, method)(*inputs, **kwargs)\n"
          ]
        }
      ]
    },
    {
      "cell_type": "code",
      "source": [
        "count = 0\n",
        "for i in range(0,len(df['MasVnrArea'])):\n",
        "  if(df['MasVnrArea'][i]== float('-inf')):\n",
        "    count+=1\n",
        "count    "
      ],
      "metadata": {
        "colab": {
          "base_uri": "https://localhost:8080/"
        },
        "id": "RMrXxoIl5kNc",
        "outputId": "0c0a3cbd-a7bf-4842-d36c-de54c1875c2a"
      },
      "execution_count": 23,
      "outputs": [
        {
          "output_type": "execute_result",
          "data": {
            "text/plain": [
              "869"
            ]
          },
          "metadata": {},
          "execution_count": 23
        }
      ]
    },
    {
      "cell_type": "markdown",
      "source": [
        "-inf are 869 in number which is more . I will replace those with the min of the non -inf values in the columns"
      ],
      "metadata": {
        "id": "4nBetAuf6lxc"
      }
    },
    {
      "cell_type": "code",
      "source": [
        "min_val = df['MasVnrArea'].min()\n",
        "min_val"
      ],
      "metadata": {
        "colab": {
          "base_uri": "https://localhost:8080/"
        },
        "id": "ALH1YlBd7XIO",
        "outputId": "4fecf70b-24c5-4a3e-d4f2-0572546e58a9"
      },
      "execution_count": 24,
      "outputs": [
        {
          "output_type": "execute_result",
          "data": {
            "text/plain": [
              "-inf"
            ]
          },
          "metadata": {},
          "execution_count": 24
        }
      ]
    },
    {
      "cell_type": "code",
      "source": [
        "# Calculating min\n",
        "val = []\n",
        "for i in range(0,len(df['MasVnrArea'])):\n",
        "  if(df['MasVnrArea'][i]!= float('-inf')):\n",
        "    val.append(df['MasVnrArea'][i])\n",
        "\n",
        "min(val)"
      ],
      "metadata": {
        "colab": {
          "base_uri": "https://localhost:8080/"
        },
        "id": "OldNTabD6kgE",
        "outputId": "e02cec5f-a08a-439e-f8ee-83758a279ea5"
      },
      "execution_count": 25,
      "outputs": [
        {
          "output_type": "execute_result",
          "data": {
            "text/plain": [
              "0.0"
            ]
          },
          "metadata": {},
          "execution_count": 25
        }
      ]
    },
    {
      "cell_type": "code",
      "source": [
        "# Replacing -inf with 0\n",
        "df['MasVnrArea'] = df['MasVnrArea'].replace(-np.inf, 0)"
      ],
      "metadata": {
        "id": "QxUbCnFD6iaY"
      },
      "execution_count": 26,
      "outputs": []
    },
    {
      "cell_type": "code",
      "source": [
        "df['MasVnrArea']"
      ],
      "metadata": {
        "colab": {
          "base_uri": "https://localhost:8080/"
        },
        "id": "tKcLvlPd8NiB",
        "outputId": "7d046b9e-2620-4dbe-de64-723304929495"
      },
      "execution_count": 27,
      "outputs": [
        {
          "output_type": "execute_result",
          "data": {
            "text/plain": [
              "0       5.278115\n",
              "1       0.000000\n",
              "2       5.087596\n",
              "3       0.000000\n",
              "4       5.857933\n",
              "          ...   \n",
              "1455    0.000000\n",
              "1456    4.779123\n",
              "1457    0.000000\n",
              "1458    0.000000\n",
              "1459    0.000000\n",
              "Name: MasVnrArea, Length: 1460, dtype: float64"
            ]
          },
          "metadata": {},
          "execution_count": 27
        }
      ]
    },
    {
      "cell_type": "code",
      "source": [
        "sns.boxplot(x=df['MasVnrArea'])"
      ],
      "metadata": {
        "colab": {
          "base_uri": "https://localhost:8080/",
          "height": 297
        },
        "id": "sOTT-0aG8RxM",
        "outputId": "bbb6b9ec-8f10-45cf-82b7-c85e7ae6978d"
      },
      "execution_count": 28,
      "outputs": [
        {
          "output_type": "execute_result",
          "data": {
            "text/plain": [
              "<AxesSubplot:xlabel='MasVnrArea'>"
            ]
          },
          "metadata": {},
          "execution_count": 28
        },
        {
          "output_type": "display_data",
          "data": {
            "text/plain": [
              "<Figure size 432x288 with 1 Axes>"
            ],
            "image/png": "[encoded data removed]"
          },
          "metadata": {
            "needs_background": "light"
          }
        }
      ]
    },
    {
      "cell_type": "code",
      "source": [
        "q1 = df['MasVnrArea'].quantile(0.25)\n",
        "q3 = df['MasVnrArea'].quantile(0.75)\n",
        "iqr = q3 - q1\n",
        "\n",
        "# calculate the lower and upper bounds\n",
        "lower_bound = q1 - 1.5 * iqr\n",
        "upper_bound = q3 + 1.5 * iqr\n",
        "\n",
        "# count the number of outliers\n",
        "num_outliers = ((df['MasVnrArea'] < lower_bound) | (df['MasVnrArea'] > upper_bound)).sum()\n",
        "\n",
        "# print the number of outliers\n",
        "print(\"Number of outliers in column 'MasVnrArea':\", num_outliers)"
      ],
      "metadata": {
        "colab": {
          "base_uri": "https://localhost:8080/"
        },
        "id": "GrGXTszG8qjF",
        "outputId": "c8840b3e-81f2-43fe-b2f3-aa7c42eb15b8"
      },
      "execution_count": 29,
      "outputs": [
        {
          "output_type": "stream",
          "name": "stdout",
          "text": [
            "Number of outliers in column 'MasVnrArea': 0\n"
          ]
        }
      ]
    },
    {
      "cell_type": "markdown",
      "source": [
        "# We will do the same for remaining 2 columns"
      ],
      "metadata": {
        "id": "aeGkZPYfpuMB"
      }
    },
    {
      "cell_type": "code",
      "source": [
        "# apply logarithmic transformation to column A\n",
        "df['LotFrontage'] = np.log(df['LotFrontage'])\n"
      ],
      "metadata": {
        "id": "URgcQTG-p4iJ"
      },
      "execution_count": 30,
      "outputs": []
    },
    {
      "cell_type": "code",
      "source": [
        "df['LotFrontage']"
      ],
      "metadata": {
        "colab": {
          "base_uri": "https://localhost:8080/"
        },
        "id": "hkGRzb1VuB3j",
        "outputId": "bdc283ce-8e41-4684-a55f-6b2502fa1f27"
      },
      "execution_count": 31,
      "outputs": [
        {
          "output_type": "execute_result",
          "data": {
            "text/plain": [
              "0       4.174387\n",
              "1       4.382027\n",
              "2       4.219508\n",
              "3       4.094345\n",
              "4       4.430817\n",
              "          ...   \n",
              "1455    4.127134\n",
              "1456    4.442651\n",
              "1457    4.189655\n",
              "1458    4.219508\n",
              "1459    4.317488\n",
              "Name: LotFrontage, Length: 1460, dtype: float64"
            ]
          },
          "metadata": {},
          "execution_count": 31
        }
      ]
    },
    {
      "cell_type": "code",
      "source": [
        "count = 0\n",
        "for i in range(0,len(df['LotFrontage'])):\n",
        "  if(df['LotFrontage'][i]== float('-inf')):\n",
        "    count+=1\n",
        "count    "
      ],
      "metadata": {
        "colab": {
          "base_uri": "https://localhost:8080/"
        },
        "id": "lvszV_1Yrmnx",
        "outputId": "17251c5e-33cd-4597-eab5-6d8c0d728f3c"
      },
      "execution_count": 32,
      "outputs": [
        {
          "output_type": "execute_result",
          "data": {
            "text/plain": [
              "0"
            ]
          },
          "metadata": {},
          "execution_count": 32
        }
      ]
    },
    {
      "cell_type": "code",
      "source": [
        "sns.boxplot(x=df['LotFrontage'])"
      ],
      "metadata": {
        "colab": {
          "base_uri": "https://localhost:8080/",
          "height": 297
        },
        "id": "9XB_qpiWuHsg",
        "outputId": "548686f9-c188-4f51-b66a-4dd3321055f2"
      },
      "execution_count": 33,
      "outputs": [
        {
          "output_type": "execute_result",
          "data": {
            "text/plain": [
              "<AxesSubplot:xlabel='LotFrontage'>"
            ]
          },
          "metadata": {},
          "execution_count": 33
        },
        {
          "output_type": "display_data",
          "data": {
            "text/plain": [
              "<Figure size 432x288 with 1 Axes>"
            ],
            "image/png": "[encoded data removed]"
          },
          "metadata": {
            "needs_background": "light"
          }
        }
      ]
    },
    {
      "cell_type": "code",
      "source": [
        "q1 = df['LotFrontage'].quantile(0.25)\n",
        "q3 = df['LotFrontage'].quantile(0.75)\n",
        "iqr = q3 - q1\n",
        "\n",
        "# calculate the lower and upper bounds\n",
        "lower_bound = q1 - 1.5 * iqr\n",
        "upper_bound = q3 + 1.5 * iqr\n",
        "\n",
        "# count the number of outliers\n",
        "num_outliers = ((df['LotFrontage'] < lower_bound) | (df['LotFrontage'] > upper_bound)).sum()\n",
        "\n",
        "# print the number of outliers\n",
        "print(\"Number of outliers in column 'LotFrontage':\", num_outliers)"
      ],
      "metadata": {
        "colab": {
          "base_uri": "https://localhost:8080/"
        },
        "id": "4ngl__e8uVUy",
        "outputId": "4d6aa512-890b-464a-c6a2-07631b691e3d"
      },
      "execution_count": 34,
      "outputs": [
        {
          "output_type": "stream",
          "name": "stdout",
          "text": [
            "Number of outliers in column 'LotFrontage': 123\n"
          ]
        }
      ]
    },
    {
      "cell_type": "code",
      "source": [
        "df['LotFrontage']"
      ],
      "metadata": {
        "colab": {
          "base_uri": "https://localhost:8080/"
        },
        "id": "X_T7mXZ3wiTk",
        "outputId": "c4111b2d-cb93-4399-a90e-7402a3d5b564"
      },
      "execution_count": 35,
      "outputs": [
        {
          "output_type": "execute_result",
          "data": {
            "text/plain": [
              "0       4.174387\n",
              "1       4.382027\n",
              "2       4.219508\n",
              "3       4.094345\n",
              "4       4.430817\n",
              "          ...   \n",
              "1455    4.127134\n",
              "1456    4.442651\n",
              "1457    4.189655\n",
              "1458    4.219508\n",
              "1459    4.317488\n",
              "Name: LotFrontage, Length: 1460, dtype: float64"
            ]
          },
          "metadata": {},
          "execution_count": 35
        }
      ]
    },
    {
      "cell_type": "code",
      "source": [
        "sns.boxplot(x=df['LotFrontage'])"
      ],
      "metadata": {
        "colab": {
          "base_uri": "https://localhost:8080/",
          "height": 297
        },
        "id": "NQ6-MubGxVUq",
        "outputId": "bae707d7-08dd-42c4-dabe-dd8371aebf67"
      },
      "execution_count": 36,
      "outputs": [
        {
          "output_type": "execute_result",
          "data": {
            "text/plain": [
              "<AxesSubplot:xlabel='LotFrontage'>"
            ]
          },
          "metadata": {},
          "execution_count": 36
        },
        {
          "output_type": "display_data",
          "data": {
            "text/plain": [
              "<Figure size 432x288 with 1 Axes>"
            ],
            "image/png": "[encoded data removed]"
          },
          "metadata": {
            "needs_background": "light"
          }
        }
      ]
    },
    {
      "cell_type": "code",
      "source": [
        "  # apply logarithmic transformation to column C\n",
        "df['GarageYrBlt'] = np.log(df['GarageYrBlt'])"
      ],
      "metadata": {
        "id": "NfyhBQw3yL5j"
      },
      "execution_count": 37,
      "outputs": []
    },
    {
      "cell_type": "code",
      "source": [
        "df['GarageYrBlt']"
      ],
      "metadata": {
        "colab": {
          "base_uri": "https://localhost:8080/"
        },
        "id": "KowgwFqFychI",
        "outputId": "59480340-75cb-4a12-9fd4-942c69571b57"
      },
      "execution_count": 38,
      "outputs": [
        {
          "output_type": "execute_result",
          "data": {
            "text/plain": [
              "0       7.602401\n",
              "1       7.588830\n",
              "2       7.601402\n",
              "3       7.599902\n",
              "4       7.600902\n",
              "          ...   \n",
              "1455    7.600402\n",
              "1456    7.589842\n",
              "1457    7.570959\n",
              "1458    7.575585\n",
              "1459    7.583248\n",
              "Name: GarageYrBlt, Length: 1460, dtype: float64"
            ]
          },
          "metadata": {},
          "execution_count": 38
        }
      ]
    },
    {
      "cell_type": "code",
      "source": [
        "sns.boxplot(x=df['GarageYrBlt'])"
      ],
      "metadata": {
        "colab": {
          "base_uri": "https://localhost:8080/",
          "height": 297
        },
        "id": "ZhF1qlX2y3aQ",
        "outputId": "276477be-48eb-4627-be86-a08706c74a66"
      },
      "execution_count": 39,
      "outputs": [
        {
          "output_type": "execute_result",
          "data": {
            "text/plain": [
              "<AxesSubplot:xlabel='GarageYrBlt'>"
            ]
          },
          "metadata": {},
          "execution_count": 39
        },
        {
          "output_type": "display_data",
          "data": {
            "text/plain": [
              "<Figure size 432x288 with 1 Axes>"
            ],
            "image/png": "[encoded data removed]"
          },
          "metadata": {
            "needs_background": "light"
          }
        }
      ]
    },
    {
      "cell_type": "code",
      "source": [
        "q1 = df['GarageYrBlt'].quantile(0.25)\n",
        "q3 = df['GarageYrBlt'].quantile(0.75)\n",
        "iqr = q3 - q1\n",
        "\n",
        "# calculate the lower and upper bounds\n",
        "lower_bound = q1 - 1.5 * iqr\n",
        "upper_bound = q3 + 1.5 * iqr\n",
        "\n",
        "# count the number of outliers\n",
        "num_outliers = ((df['GarageYrBlt'] < lower_bound) | (df['GarageYrBlt'] > upper_bound)).sum()\n",
        "\n",
        "# print the number of outliers\n",
        "print(\"Number of outliers in column 'GarageYrBlt':\", num_outliers)"
      ],
      "metadata": {
        "colab": {
          "base_uri": "https://localhost:8080/"
        },
        "id": "rHN0zXgt1C4R",
        "outputId": "30daa907-cdd4-46eb-8a90-9fae525c5984"
      },
      "execution_count": 40,
      "outputs": [
        {
          "output_type": "stream",
          "name": "stdout",
          "text": [
            "Number of outliers in column 'GarageYrBlt': 1\n"
          ]
        }
      ]
    },
    {
      "cell_type": "markdown",
      "source": [
        "### All the numeric columns that have missing values are filled we will proceed to the Categorical columns"
      ],
      "metadata": {
        "id": "ns1z-wbk1RJR"
      }
    },
    {
      "cell_type": "code",
      "source": [
        "null_cat_cols = [i for i in null_column_indices if i not in numeric_cols]"
      ],
      "metadata": {
        "id": "WpFXgpXa1_bx"
      },
      "execution_count": 41,
      "outputs": []
    },
    {
      "cell_type": "code",
      "source": [
        "len(null_cat_cols)"
      ],
      "metadata": {
        "colab": {
          "base_uri": "https://localhost:8080/"
        },
        "id": "pLWszo321ymx",
        "outputId": "a9e7da1f-e2ee-435c-c4b6-101e1620c150"
      },
      "execution_count": 42,
      "outputs": [
        {
          "output_type": "execute_result",
          "data": {
            "text/plain": [
              "16"
            ]
          },
          "metadata": {},
          "execution_count": 42
        }
      ]
    },
    {
      "cell_type": "code",
      "source": [
        "null_cat_cols"
      ],
      "metadata": {
        "colab": {
          "base_uri": "https://localhost:8080/"
        },
        "id": "eX815Xbu3xBY",
        "outputId": "8d5cfff7-dd08-40c3-9f69-e2544010d3d7"
      },
      "execution_count": 43,
      "outputs": [
        {
          "output_type": "execute_result",
          "data": {
            "text/plain": [
              "['Alley',\n",
              " 'MasVnrType',\n",
              " 'BsmtQual',\n",
              " 'BsmtCond',\n",
              " 'BsmtExposure',\n",
              " 'BsmtFinType1',\n",
              " 'BsmtFinType2',\n",
              " 'Electrical',\n",
              " 'FireplaceQu',\n",
              " 'GarageType',\n",
              " 'GarageFinish',\n",
              " 'GarageQual',\n",
              " 'GarageCond',\n",
              " 'PoolQC',\n",
              " 'Fence',\n",
              " 'MiscFeature']"
            ]
          },
          "metadata": {},
          "execution_count": 43
        }
      ]
    },
    {
      "cell_type": "code",
      "source": [
        "# print the number of missing values in each column\n",
        "\n",
        "for i in range(0,len(null_cat_cols)):\n",
        "  print(f\"For column {null_cat_cols[i]} the number of missing values is {df[null_cat_cols[i]].isnull().sum()}!\")"
      ],
      "metadata": {
        "colab": {
          "base_uri": "https://localhost:8080/"
        },
        "id": "gE69q3MZ4Lm6",
        "outputId": "c153f85a-0d99-4229-88f6-375e327289e7"
      },
      "execution_count": 44,
      "outputs": [
        {
          "output_type": "stream",
          "name": "stdout",
          "text": [
            "For column Alley the number of missing values is 1369!\n",
            "For column MasVnrType the number of missing values is 8!\n",
            "For column BsmtQual the number of missing values is 37!\n",
            "For column BsmtCond the number of missing values is 37!\n",
            "For column BsmtExposure the number of missing values is 38!\n",
            "For column BsmtFinType1 the number of missing values is 37!\n",
            "For column BsmtFinType2 the number of missing values is 38!\n",
            "For column Electrical the number of missing values is 1!\n",
            "For column FireplaceQu the number of missing values is 690!\n",
            "For column GarageType the number of missing values is 81!\n",
            "For column GarageFinish the number of missing values is 81!\n",
            "For column GarageQual the number of missing values is 81!\n",
            "For column GarageCond the number of missing values is 81!\n",
            "For column PoolQC the number of missing values is 1453!\n",
            "For column Fence the number of missing values is 1179!\n",
            "For column MiscFeature the number of missing values is 1406!\n"
          ]
        }
      ]
    },
    {
      "cell_type": "code",
      "source": [
        "df.shape[0]"
      ],
      "metadata": {
        "colab": {
          "base_uri": "https://localhost:8080/"
        },
        "id": "fCmkamm36ZxE",
        "outputId": "67b58602-b4d4-4a8d-9ef2-aaff22062818"
      },
      "execution_count": 45,
      "outputs": [
        {
          "output_type": "execute_result",
          "data": {
            "text/plain": [
              "1460"
            ]
          },
          "metadata": {},
          "execution_count": 45
        }
      ]
    },
    {
      "cell_type": "markdown",
      "source": [
        "### I will drop the columns with more missing values and for less missing values we will impute with mode"
      ],
      "metadata": {
        "id": "kMau4nW165dq"
      }
    },
    {
      "cell_type": "code",
      "source": [
        "# dropping columns with more than 50% ofmissing values\n",
        "df = df.drop(['Alley', 'PoolQC','Fence','MiscFeature'], axis=1)"
      ],
      "metadata": {
        "id": "UKF--1oX7Bgi"
      },
      "execution_count": 46,
      "outputs": []
    },
    {
      "cell_type": "code",
      "source": [
        "drop_cols = ['Alley', 'PoolQC','Fence','MiscFeature']\n",
        "drop_cols"
      ],
      "metadata": {
        "colab": {
          "base_uri": "https://localhost:8080/"
        },
        "id": "X1GAzpPN7olz",
        "outputId": "036f31b2-592c-45c8-a07c-5ae908f7d19e"
      },
      "execution_count": 47,
      "outputs": [
        {
          "output_type": "execute_result",
          "data": {
            "text/plain": [
              "['Alley', 'PoolQC', 'Fence', 'MiscFeature']"
            ]
          },
          "metadata": {},
          "execution_count": 47
        }
      ]
    },
    {
      "cell_type": "code",
      "source": [
        "null_cat_cols = [i for i in null_cat_cols if i not in drop_cols]\n",
        "len(null_cat_cols)"
      ],
      "metadata": {
        "colab": {
          "base_uri": "https://localhost:8080/"
        },
        "id": "KVqrtwXm747n",
        "outputId": "d7816fcd-f964-4b53-810f-6b3293d33f8d"
      },
      "execution_count": 48,
      "outputs": [
        {
          "output_type": "execute_result",
          "data": {
            "text/plain": [
              "12"
            ]
          },
          "metadata": {},
          "execution_count": 48
        }
      ]
    },
    {
      "cell_type": "code",
      "source": [
        "null_cat_cols"
      ],
      "metadata": {
        "colab": {
          "base_uri": "https://localhost:8080/"
        },
        "id": "BEenlAhO8M7n",
        "outputId": "a234136d-dd24-4306-a214-4316a081beb4"
      },
      "execution_count": 49,
      "outputs": [
        {
          "output_type": "execute_result",
          "data": {
            "text/plain": [
              "['MasVnrType',\n",
              " 'BsmtQual',\n",
              " 'BsmtCond',\n",
              " 'BsmtExposure',\n",
              " 'BsmtFinType1',\n",
              " 'BsmtFinType2',\n",
              " 'Electrical',\n",
              " 'FireplaceQu',\n",
              " 'GarageType',\n",
              " 'GarageFinish',\n",
              " 'GarageQual',\n",
              " 'GarageCond']"
            ]
          },
          "metadata": {},
          "execution_count": 49
        }
      ]
    },
    {
      "cell_type": "code",
      "source": [
        "null_cat_cols[0]"
      ],
      "metadata": {
        "colab": {
          "base_uri": "https://localhost:8080/",
          "height": 36
        },
        "id": "6e9M9N8klb3Q",
        "outputId": "d1a4af25-5f84-4c09-f2d0-019630fc30e9"
      },
      "execution_count": 50,
      "outputs": [
        {
          "output_type": "execute_result",
          "data": {
            "text/plain": [
              "'MasVnrType'"
            ],
            "application/vnd.google.colaboratory.intrinsic+json": {
              "type": "string"
            }
          },
          "metadata": {},
          "execution_count": 50
        }
      ]
    },
    {
      "cell_type": "code",
      "source": [
        "## These 12 columns we will replace with mode\n",
        "for i in range(0,len(null_cat_cols)):\n",
        "  df[null_cat_cols[i]].fillna(df[null_cat_cols[i]].mode()[0], inplace=True)"
      ],
      "metadata": {
        "id": "xjjCxX4E8GUC"
      },
      "execution_count": 51,
      "outputs": []
    },
    {
      "cell_type": "code",
      "source": [
        "df"
      ],
      "metadata": {
        "colab": {
          "base_uri": "https://localhost:8080/",
          "height": 487
        },
        "id": "M3AiZLvWll7x",
        "outputId": "41e2c8de-2051-4695-faef-c97a57464790"
      },
      "execution_count": 52,
      "outputs": [
        {
          "output_type": "execute_result",
          "data": {
            "text/plain": [
              "        Id  MSSubClass MSZoning  LotFrontage  LotArea Street LotShape  \\\n",
              "0        1          60       RL     4.174387     8450   Pave      Reg   \n",
              "1        2          20       RL     4.382027     9600   Pave      Reg   \n",
              "2        3          60       RL     4.219508    11250   Pave      IR1   \n",
              "3        4          70       RL     4.094345     9550   Pave      IR1   \n",
              "4        5          60       RL     4.430817    14260   Pave      IR1   \n",
              "...    ...         ...      ...          ...      ...    ...      ...   \n",
              "1455  1456          60       RL     4.127134     7917   Pave      Reg   \n",
              "1456  1457          20       RL     4.442651    13175   Pave      Reg   \n",
              "1457  1458          70       RL     4.189655     9042   Pave      Reg   \n",
              "1458  1459          20       RL     4.219508     9717   Pave      Reg   \n",
              "1459  1460          20       RL     4.317488     9937   Pave      Reg   \n",
              "\n",
              "     LandContour Utilities LotConfig  ... EnclosedPorch 3SsnPorch ScreenPorch  \\\n",
              "0            Lvl    AllPub    Inside  ...             0         0           0   \n",
              "1            Lvl    AllPub       FR2  ...             0         0           0   \n",
              "2            Lvl    AllPub    Inside  ...             0         0           0   \n",
              "3            Lvl    AllPub    Corner  ...           272         0           0   \n",
              "4            Lvl    AllPub       FR2  ...             0         0           0   \n",
              "...          ...       ...       ...  ...           ...       ...         ...   \n",
              "1455         Lvl    AllPub    Inside  ...             0         0           0   \n",
              "1456         Lvl    AllPub    Inside  ...             0         0           0   \n",
              "1457         Lvl    AllPub    Inside  ...             0         0           0   \n",
              "1458         Lvl    AllPub    Inside  ...           112         0           0   \n",
              "1459         Lvl    AllPub    Inside  ...             0         0           0   \n",
              "\n",
              "     PoolArea MiscVal MoSold  YrSold  SaleType  SaleCondition  SalePrice  \n",
              "0           0       0      2    2008        WD         Normal     208500  \n",
              "1           0       0      5    2007        WD         Normal     181500  \n",
              "2           0       0      9    2008        WD         Normal     223500  \n",
              "3           0       0      2    2006        WD        Abnorml     140000  \n",
              "4           0       0     12    2008        WD         Normal     250000  \n",
              "...       ...     ...    ...     ...       ...            ...        ...  \n",
              "1455        0       0      8    2007        WD         Normal     175000  \n",
              "1456        0       0      2    2010        WD         Normal     210000  \n",
              "1457        0    2500      5    2010        WD         Normal     266500  \n",
              "1458        0       0      4    2010        WD         Normal     142125  \n",
              "1459        0       0      6    2008        WD         Normal     147500  \n",
              "\n",
              "[1460 rows x 77 columns]"
            ],
            "text/html": [
              "\n",
              "  <div id=\"df-5f845781-c67a-4796-b3ea-30248a44ebf9\">\n",
              "    <div class=\"colab-df-container\">\n",
              "      <div>\n",
              "<style scoped>\n",
              "    .dataframe tbody tr th:only-of-type {\n",
              "        vertical-align: middle;\n",
              "    }\n",
              "\n",
              "    .dataframe tbody tr th {\n",
              "        vertical-align: top;\n",
              "    }\n",
              "\n",
              "    .dataframe thead th {\n",
              "        text-align: right;\n",
              "    }\n",
              "</style>\n",
              "<table border=\"1\" class=\"dataframe\">\n",
              "  <thead>\n",
              "    <tr style=\"text-align: right;\">\n",
              "      <th></th>\n",
              "      <th>Id</th>\n",
              "      <th>MSSubClass</th>\n",
              "      <th>MSZoning</th>\n",
              "      <th>LotFrontage</th>\n",
              "      <th>LotArea</th>\n",
              "      <th>Street</th>\n",
              "      <th>LotShape</th>\n",
              "      <th>LandContour</th>\n",
              "      <th>Utilities</th>\n",
              "      <th>LotConfig</th>\n",
              "      <th>...</th>\n",
              "      <th>EnclosedPorch</th>\n",
              "      <th>3SsnPorch</th>\n",
              "      <th>ScreenPorch</th>\n",
              "      <th>PoolArea</th>\n",
              "      <th>MiscVal</th>\n",
              "      <th>MoSold</th>\n",
              "      <th>YrSold</th>\n",
              "      <th>SaleType</th>\n",
              "      <th>SaleCondition</th>\n",
              "      <th>SalePrice</th>\n",
              "    </tr>\n",
              "  </thead>\n",
              "  <tbody>\n",
              "    <tr>\n",
              "      <th>0</th>\n",
              "      <td>1</td>\n",
              "      <td>60</td>\n",
              "      <td>RL</td>\n",
              "      <td>4.174387</td>\n",
              "      <td>8450</td>\n",
              "      <td>Pave</td>\n",
              "      <td>Reg</td>\n",
              "      <td>Lvl</td>\n",
              "      <td>AllPub</td>\n",
              "      <td>Inside</td>\n",
              "      <td>...</td>\n",
              "      <td>0</td>\n",
              "      <td>0</td>\n",
              "      <td>0</td>\n",
              "      <td>0</td>\n",
              "      <td>0</td>\n",
              "      <td>2</td>\n",
              "      <td>2008</td>\n",
              "      <td>WD</td>\n",
              "      <td>Normal</td>\n",
              "      <td>208500</td>\n",
              "    </tr>\n",
              "    <tr>\n",
              "      <th>1</th>\n",
              "      <td>2</td>\n",
              "      <td>20</td>\n",
              "      <td>RL</td>\n",
              "      <td>4.382027</td>\n",
              "      <td>9600</td>\n",
              "      <td>Pave</td>\n",
              "      <td>Reg</td>\n",
              "      <td>Lvl</td>\n",
              "      <td>AllPub</td>\n",
              "      <td>FR2</td>\n",
              "      <td>...</td>\n",
              "      <td>0</td>\n",
              "      <td>0</td>\n",
              "      <td>0</td>\n",
              "      <td>0</td>\n",
              "      <td>0</td>\n",
              "      <td>5</td>\n",
              "      <td>2007</td>\n",
              "      <td>WD</td>\n",
              "      <td>Normal</td>\n",
              "      <td>181500</td>\n",
              "    </tr>\n",
              "    <tr>\n",
              "      <th>2</th>\n",
              "      <td>3</td>\n",
              "      <td>60</td>\n",
              "      <td>RL</td>\n",
              "      <td>4.219508</td>\n",
              "      <td>11250</td>\n",
              "      <td>Pave</td>\n",
              "      <td>IR1</td>\n",
              "      <td>Lvl</td>\n",
              "      <td>AllPub</td>\n",
              "      <td>Inside</td>\n",
              "      <td>...</td>\n",
              "      <td>0</td>\n",
              "      <td>0</td>\n",
              "      <td>0</td>\n",
              "      <td>0</td>\n",
              "      <td>0</td>\n",
              "      <td>9</td>\n",
              "      <td>2008</td>\n",
              "      <td>WD</td>\n",
              "      <td>Normal</td>\n",
              "      <td>223500</td>\n",
              "    </tr>\n",
              "    <tr>\n",
              "      <th>3</th>\n",
              "      <td>4</td>\n",
              "      <td>70</td>\n",
              "      <td>RL</td>\n",
              "      <td>4.094345</td>\n",
              "      <td>9550</td>\n",
              "      <td>Pave</td>\n",
              "      <td>IR1</td>\n",
              "      <td>Lvl</td>\n",
              "      <td>AllPub</td>\n",
              "      <td>Corner</td>\n",
              "      <td>...</td>\n",
              "      <td>272</td>\n",
              "      <td>0</td>\n",
              "      <td>0</td>\n",
              "      <td>0</td>\n",
              "      <td>0</td>\n",
              "      <td>2</td>\n",
              "      <td>2006</td>\n",
              "      <td>WD</td>\n",
              "      <td>Abnorml</td>\n",
              "      <td>140000</td>\n",
              "    </tr>\n",
              "    <tr>\n",
              "      <th>4</th>\n",
              "      <td>5</td>\n",
              "      <td>60</td>\n",
              "      <td>RL</td>\n",
              "      <td>4.430817</td>\n",
              "      <td>14260</td>\n",
              "      <td>Pave</td>\n",
              "      <td>IR1</td>\n",
              "      <td>Lvl</td>\n",
              "      <td>AllPub</td>\n",
              "      <td>FR2</td>\n",
              "      <td>...</td>\n",
              "      <td>0</td>\n",
              "      <td>0</td>\n",
              "      <td>0</td>\n",
              "      <td>0</td>\n",
              "      <td>0</td>\n",
              "      <td>12</td>\n",
              "      <td>2008</td>\n",
              "      <td>WD</td>\n",
              "      <td>Normal</td>\n",
              "      <td>250000</td>\n",
              "    </tr>\n",
              "    <tr>\n",
              "      <th>...</th>\n",
              "      <td>...</td>\n",
              "      <td>...</td>\n",
              "      <td>...</td>\n",
              "      <td>...</td>\n",
              "      <td>...</td>\n",
              "      <td>...</td>\n",
              "      <td>...</td>\n",
              "      <td>...</td>\n",
              "      <td>...</td>\n",
              "      <td>...</td>\n",
              "      <td>...</td>\n",
              "      <td>...</td>\n",
              "      <td>...</td>\n",
              "      <td>...</td>\n",
              "      <td>...</td>\n",
              "      <td>...</td>\n",
              "      <td>...</td>\n",
              "      <td>...</td>\n",
              "      <td>...</td>\n",
              "      <td>...</td>\n",
              "      <td>...</td>\n",
              "    </tr>\n",
              "    <tr>\n",
              "      <th>1455</th>\n",
              "      <td>1456</td>\n",
              "      <td>60</td>\n",
              "      <td>RL</td>\n",
              "      <td>4.127134</td>\n",
              "      <td>7917</td>\n",
              "      <td>Pave</td>\n",
              "      <td>Reg</td>\n",
              "      <td>Lvl</td>\n",
              "      <td>AllPub</td>\n",
              "      <td>Inside</td>\n",
              "      <td>...</td>\n",
              "      <td>0</td>\n",
              "      <td>0</td>\n",
              "      <td>0</td>\n",
              "      <td>0</td>\n",
              "      <td>0</td>\n",
              "      <td>8</td>\n",
              "      <td>2007</td>\n",
              "      <td>WD</td>\n",
              "      <td>Normal</td>\n",
              "      <td>175000</td>\n",
              "    </tr>\n",
              "    <tr>\n",
              "      <th>1456</th>\n",
              "      <td>1457</td>\n",
              "      <td>20</td>\n",
              "      <td>RL</td>\n",
              "      <td>4.442651</td>\n",
              "      <td>13175</td>\n",
              "      <td>Pave</td>\n",
              "      <td>Reg</td>\n",
              "      <td>Lvl</td>\n",
              "      <td>AllPub</td>\n",
              "      <td>Inside</td>\n",
              "      <td>...</td>\n",
              "      <td>0</td>\n",
              "      <td>0</td>\n",
              "      <td>0</td>\n",
              "      <td>0</td>\n",
              "      <td>0</td>\n",
              "      <td>2</td>\n",
              "      <td>2010</td>\n",
              "      <td>WD</td>\n",
              "      <td>Normal</td>\n",
              "      <td>210000</td>\n",
              "    </tr>\n",
              "    <tr>\n",
              "      <th>1457</th>\n",
              "      <td>1458</td>\n",
              "      <td>70</td>\n",
              "      <td>RL</td>\n",
              "      <td>4.189655</td>\n",
              "      <td>9042</td>\n",
              "      <td>Pave</td>\n",
              "      <td>Reg</td>\n",
              "      <td>Lvl</td>\n",
              "      <td>AllPub</td>\n",
              "      <td>Inside</td>\n",
              "      <td>...</td>\n",
              "      <td>0</td>\n",
              "      <td>0</td>\n",
              "      <td>0</td>\n",
              "      <td>0</td>\n",
              "      <td>2500</td>\n",
              "      <td>5</td>\n",
              "      <td>2010</td>\n",
              "      <td>WD</td>\n",
              "      <td>Normal</td>\n",
              "      <td>266500</td>\n",
              "    </tr>\n",
              "    <tr>\n",
              "      <th>1458</th>\n",
              "      <td>1459</td>\n",
              "      <td>20</td>\n",
              "      <td>RL</td>\n",
              "      <td>4.219508</td>\n",
              "      <td>9717</td>\n",
              "      <td>Pave</td>\n",
              "      <td>Reg</td>\n",
              "      <td>Lvl</td>\n",
              "      <td>AllPub</td>\n",
              "      <td>Inside</td>\n",
              "      <td>...</td>\n",
              "      <td>112</td>\n",
              "      <td>0</td>\n",
              "      <td>0</td>\n",
              "      <td>0</td>\n",
              "      <td>0</td>\n",
              "      <td>4</td>\n",
              "      <td>2010</td>\n",
              "      <td>WD</td>\n",
              "      <td>Normal</td>\n",
              "      <td>142125</td>\n",
              "    </tr>\n",
              "    <tr>\n",
              "      <th>1459</th>\n",
              "      <td>1460</td>\n",
              "      <td>20</td>\n",
              "      <td>RL</td>\n",
              "      <td>4.317488</td>\n",
              "      <td>9937</td>\n",
              "      <td>Pave</td>\n",
              "      <td>Reg</td>\n",
              "      <td>Lvl</td>\n",
              "      <td>AllPub</td>\n",
              "      <td>Inside</td>\n",
              "      <td>...</td>\n",
              "      <td>0</td>\n",
              "      <td>0</td>\n",
              "      <td>0</td>\n",
              "      <td>0</td>\n",
              "      <td>0</td>\n",
              "      <td>6</td>\n",
              "      <td>2008</td>\n",
              "      <td>WD</td>\n",
              "      <td>Normal</td>\n",
              "      <td>147500</td>\n",
              "    </tr>\n",
              "  </tbody>\n",
              "</table>\n",
              "<p>1460 rows × 77 columns</p>\n",
              "</div>\n",
              "      <button class=\"colab-df-convert\" onclick=\"convertToInteractive('df-5f845781-c67a-4796-b3ea-30248a44ebf9')\"\n",
              "              title=\"Convert this dataframe to an interactive table.\"\n",
              "              style=\"display:none;\">\n",
              "        \n",
              "  <svg xmlns=\"http://www.w3.org/2000/svg\" height=\"24px\"viewBox=\"0 0 24 24\"\n",
              "       width=\"24px\">\n",
              "    <path d=\"M0 0h24v24H0V0z\" fill=\"none\"/>\n",
              "    <path d=\"M18.56 5.44l.94 2.06.94-2.06 2.06-.94-2.06-.94-.94-2.06-.94 2.06-2.06.94zm-11 1L8.5 8.5l.94-2.06 2.06-.94-2.06-.94L8.5 2.5l-.94 2.06-2.06.94zm10 10l.94 2.06.94-2.06 2.06-.94-2.06-.94-.94-2.06-.94 2.06-2.06.94z\"/><path d=\"M17.41 7.96l-1.37-1.37c-.4-.4-.92-.59-1.43-.59-.52 0-1.04.2-1.43.59L10.3 9.45l-7.72 7.72c-.78.78-.78 2.05 0 2.83L4 21.41c.39.39.9.59 1.41.59.51 0 1.02-.2 1.41-.59l7.78-7.78 2.81-2.81c.8-.78.8-2.07 0-2.86zM5.41 20L4 18.59l7.72-7.72 1.47 1.35L5.41 20z\"/>\n",
              "  </svg>\n",
              "      </button>\n",
              "      \n",
              "  <style>\n",
              "    .colab-df-container {\n",
              "      display:flex;\n",
              "      flex-wrap:wrap;\n",
              "      gap: 12px;\n",
              "    }\n",
              "\n",
              "    .colab-df-convert {\n",
              "      background-color: #E8F0FE;\n",
              "      border: none;\n",
              "      border-radius: 50%;\n",
              "      cursor: pointer;\n",
              "      display: none;\n",
              "      fill: #1967D2;\n",
              "      height: 32px;\n",
              "      padding: 0 0 0 0;\n",
              "      width: 32px;\n",
              "    }\n",
              "\n",
              "    .colab-df-convert:hover {\n",
              "      background-color: #E2EBFA;\n",
              "      box-shadow: 0px 1px 2px rgba(60, 64, 67, 0.3), 0px 1px 3px 1px rgba(60, 64, 67, 0.15);\n",
              "      fill: #174EA6;\n",
              "    }\n",
              "\n",
              "    [theme=dark] .colab-df-convert {\n",
              "      background-color: #3B4455;\n",
              "      fill: #D2E3FC;\n",
              "    }\n",
              "\n",
              "    [theme=dark] .colab-df-convert:hover {\n",
              "      background-color: #434B5C;\n",
              "      box-shadow: 0px 1px 3px 1px rgba(0, 0, 0, 0.15);\n",
              "      filter: drop-shadow(0px 1px 2px rgba(0, 0, 0, 0.3));\n",
              "      fill: #FFFFFF;\n",
              "    }\n",
              "  </style>\n",
              "\n",
              "      <script>\n",
              "        const buttonEl =\n",
              "          document.querySelector('#df-5f845781-c67a-4796-b3ea-30248a44ebf9 button.colab-df-convert');\n",
              "        buttonEl.style.display =\n",
              "          google.colab.kernel.accessAllowed ? 'block' : 'none';\n",
              "\n",
              "        async function convertToInteractive(key) {\n",
              "          const element = document.querySelector('#df-5f845781-c67a-4796-b3ea-30248a44ebf9');\n",
              "          const dataTable =\n",
              "            await google.colab.kernel.invokeFunction('convertToInteractive',\n",
              "                                                     [key], {});\n",
              "          if (!dataTable) return;\n",
              "\n",
              "          const docLinkHtml = 'Like what you see? Visit the ' +\n",
              "            '<a target=\"_blank\" href=https://colab.research.google.com/notebooks/data_table.ipynb>data table notebook</a>'\n",
              "            + ' to learn more about interactive tables.';\n",
              "          element.innerHTML = '';\n",
              "          dataTable['output_type'] = 'display_data';\n",
              "          await google.colab.output.renderOutput(dataTable, element);\n",
              "          const docLink = document.createElement('div');\n",
              "          docLink.innerHTML = docLinkHtml;\n",
              "          element.appendChild(docLink);\n",
              "        }\n",
              "      </script>\n",
              "    </div>\n",
              "  </div>\n",
              "  "
            ]
          },
          "metadata": {},
          "execution_count": 52
        }
      ]
    },
    {
      "cell_type": "code",
      "source": [
        "df.isna().any()"
      ],
      "metadata": {
        "colab": {
          "base_uri": "https://localhost:8080/"
        },
        "id": "SioBDbP8l50Z",
        "outputId": "48c5ae20-3de2-4294-aea3-f0af890a0318"
      },
      "execution_count": 53,
      "outputs": [
        {
          "output_type": "execute_result",
          "data": {
            "text/plain": [
              "Id               False\n",
              "MSSubClass       False\n",
              "MSZoning         False\n",
              "LotFrontage      False\n",
              "LotArea          False\n",
              "                 ...  \n",
              "MoSold           False\n",
              "YrSold           False\n",
              "SaleType         False\n",
              "SaleCondition    False\n",
              "SalePrice        False\n",
              "Length: 77, dtype: bool"
            ]
          },
          "metadata": {},
          "execution_count": 53
        }
      ]
    },
    {
      "cell_type": "markdown",
      "source": [
        "## Now our dataframe has no missing values"
      ],
      "metadata": {
        "id": "-8ESXhEjmpNA"
      }
    },
    {
      "cell_type": "code",
      "source": [
        "## We will see which all columns are categorical\n",
        "\n",
        "cat_cols = df.select_dtypes(include=['object']).columns.tolist()\n",
        "cat_cols"
      ],
      "metadata": {
        "colab": {
          "base_uri": "https://localhost:8080/"
        },
        "id": "hWT7EpNZmsc_",
        "outputId": "e780c721-31d5-4c04-e1f6-9a86e4d2f5a0"
      },
      "execution_count": 54,
      "outputs": [
        {
          "output_type": "execute_result",
          "data": {
            "text/plain": [
              "['MSZoning',\n",
              " 'Street',\n",
              " 'LotShape',\n",
              " 'LandContour',\n",
              " 'Utilities',\n",
              " 'LotConfig',\n",
              " 'LandSlope',\n",
              " 'Neighborhood',\n",
              " 'Condition1',\n",
              " 'Condition2',\n",
              " 'BldgType',\n",
              " 'HouseStyle',\n",
              " 'RoofStyle',\n",
              " 'RoofMatl',\n",
              " 'Exterior1st',\n",
              " 'Exterior2nd',\n",
              " 'MasVnrType',\n",
              " 'ExterQual',\n",
              " 'ExterCond',\n",
              " 'Foundation',\n",
              " 'BsmtQual',\n",
              " 'BsmtCond',\n",
              " 'BsmtExposure',\n",
              " 'BsmtFinType1',\n",
              " 'BsmtFinType2',\n",
              " 'Heating',\n",
              " 'HeatingQC',\n",
              " 'CentralAir',\n",
              " 'Electrical',\n",
              " 'KitchenQual',\n",
              " 'Functional',\n",
              " 'FireplaceQu',\n",
              " 'GarageType',\n",
              " 'GarageFinish',\n",
              " 'GarageQual',\n",
              " 'GarageCond',\n",
              " 'PavedDrive',\n",
              " 'SaleType',\n",
              " 'SaleCondition']"
            ]
          },
          "metadata": {},
          "execution_count": 54
        }
      ]
    },
    {
      "cell_type": "code",
      "source": [
        "df[cat_cols[len(cat_cols)-1]].nunique()"
      ],
      "metadata": {
        "colab": {
          "base_uri": "https://localhost:8080/"
        },
        "id": "7k77npH6oaSx",
        "outputId": "a0971a9f-535a-4bf2-f505-d09a23104cea"
      },
      "execution_count": 55,
      "outputs": [
        {
          "output_type": "execute_result",
          "data": {
            "text/plain": [
              "6"
            ]
          },
          "metadata": {},
          "execution_count": 55
        }
      ]
    },
    {
      "cell_type": "code",
      "source": [
        "\n",
        "for i in range(0,len(cat_cols)):\n",
        "  n = df[cat_cols[i]].nunique()\n",
        "  print(f\"Column {cat_cols[i]} has no of unique elements={n}\")"
      ],
      "metadata": {
        "colab": {
          "base_uri": "https://localhost:8080/"
        },
        "id": "1qpY3KTrnyET",
        "outputId": "4139cdfb-9d4e-46e8-ff23-3851997cfaa7"
      },
      "execution_count": 56,
      "outputs": [
        {
          "output_type": "stream",
          "name": "stdout",
          "text": [
            "Column MSZoning has no of unique elements=5\n",
            "Column Street has no of unique elements=2\n",
            "Column LotShape has no of unique elements=4\n",
            "Column LandContour has no of unique elements=4\n",
            "Column Utilities has no of unique elements=2\n",
            "Column LotConfig has no of unique elements=5\n",
            "Column LandSlope has no of unique elements=3\n",
            "Column Neighborhood has no of unique elements=25\n",
            "Column Condition1 has no of unique elements=9\n",
            "Column Condition2 has no of unique elements=8\n",
            "Column BldgType has no of unique elements=5\n",
            "Column HouseStyle has no of unique elements=8\n",
            "Column RoofStyle has no of unique elements=6\n",
            "Column RoofMatl has no of unique elements=8\n",
            "Column Exterior1st has no of unique elements=15\n",
            "Column Exterior2nd has no of unique elements=16\n",
            "Column MasVnrType has no of unique elements=4\n",
            "Column ExterQual has no of unique elements=4\n",
            "Column ExterCond has no of unique elements=5\n",
            "Column Foundation has no of unique elements=6\n",
            "Column BsmtQual has no of unique elements=4\n",
            "Column BsmtCond has no of unique elements=4\n",
            "Column BsmtExposure has no of unique elements=4\n",
            "Column BsmtFinType1 has no of unique elements=6\n",
            "Column BsmtFinType2 has no of unique elements=6\n",
            "Column Heating has no of unique elements=6\n",
            "Column HeatingQC has no of unique elements=5\n",
            "Column CentralAir has no of unique elements=2\n",
            "Column Electrical has no of unique elements=5\n",
            "Column KitchenQual has no of unique elements=4\n",
            "Column Functional has no of unique elements=7\n",
            "Column FireplaceQu has no of unique elements=5\n",
            "Column GarageType has no of unique elements=6\n",
            "Column GarageFinish has no of unique elements=3\n",
            "Column GarageQual has no of unique elements=5\n",
            "Column GarageCond has no of unique elements=5\n",
            "Column PavedDrive has no of unique elements=3\n",
            "Column SaleType has no of unique elements=9\n",
            "Column SaleCondition has no of unique elements=6\n"
          ]
        }
      ]
    },
    {
      "cell_type": "code",
      "source": [
        "## Lets visualize all the cat columns \n",
        "\n",
        "import seaborn as sns\n",
        "import matplotlib.pyplot as plt\n",
        "import pandas as pd\n",
        "\n",
        "\n",
        "# create subplots\n",
        "fig, axs = plt.subplots(1, len(cat_cols), figsize=(10, 5))\n",
        "\n",
        "# loop over columns and create bar plots\n",
        "for i, col in enumerate(cat_cols):\n",
        "    sns.countplot(x=cat_cols[i], data=df)\n",
        "    axs[i].set_xlabel(col)\n",
        "    plt.show()\n",
        "\n"
      ],
      "metadata": {
        "colab": {
          "base_uri": "https://localhost:8080/",
          "height": 1000
        },
        "id": "xk8H6VK4paAY",
        "outputId": "38dd24a4-009b-4cff-e80a-cb32ea71a80f"
      },
      "execution_count": 57,
      "outputs": [
        {
          "output_type": "display_data",
          "data": {
            "text/plain": [
              "<Figure size 720x360 with 39 Axes>"
            ],
            "image/png": "[encoded data removed]"
          },
          "metadata": {
            "needs_background": "light"
          }
        },
        {
          "output_type": "display_data",
          "data": {
            "text/plain": [
              "<Figure size 432x288 with 1 Axes>"
            ],
            "image/png": "[encoded data removed]"
          },
          "metadata": {
            "needs_background": "light"
          }
        },
        {
          "output_type": "display_data",
          "data": {
            "text/plain": [
              "<Figure size 432x288 with 1 Axes>"
            ],
            "image/png": "[encoded data removed]"
          },
          "metadata": {
            "needs_background": "light"
          }
        },
        {
          "output_type": "display_data",
          "data": {
            "text/plain": [
              "<Figure size 432x288 with 1 Axes>"
            ],
            "image/png": "[encoded data removed]"
          },
          "metadata": {
            "needs_background": "light"
          }
        },
        {
          "output_type": "display_data",
          "data": {
            "text/plain": [
              "<Figure size 432x288 with 1 Axes>"
            ],
            "image/png": "[encoded data removed]"
          },
          "metadata": {
            "needs_background": "light"
          }
        },
        {
          "output_type": "display_data",
          "data": {
            "text/plain": [
              "<Figure size 432x288 with 1 Axes>"
            ],
            "image/png": "[encoded data removed]"
          },
          "metadata": {
            "needs_background": "light"
          }
        },
        {
          "output_type": "display_data",
          "data": {
            "text/plain": [
              "<Figure size 432x288 with 1 Axes>"
            ],
            "image/png": "[encoded data removed]"
          },
          "metadata": {
            "needs_background": "light"
          }
        },
        {
          "output_type": "display_data",
          "data": {
            "text/plain": [
              "<Figure size 432x288 with 1 Axes>"
            ],
            "image/png": "[encoded data removed]"
          },
          "metadata": {
            "needs_background": "light"
          }
        },
        {
          "output_type": "display_data",
          "data": {
            "text/plain": [
              "<Figure size 432x288 with 1 Axes>"
            ],
            "image/png": "[encoded data removed]"
          },
          "metadata": {
            "needs_background": "light"
          }
        },
        {
          "output_type": "display_data",
          "data": {
            "text/plain": [
              "<Figure size 432x288 with 1 Axes>"
            ],
            "image/png": "[encoded data removed]"
          },
          "metadata": {
            "needs_background": "light"
          }
        },
        {
          "output_type": "display_data",
          "data": {
            "text/plain": [
              "<Figure size 432x288 with 1 Axes>"
            ],
            "image/png": "[encoded data removed]"
          },
          "metadata": {
            "needs_background": "light"
          }
        },
        {
          "output_type": "display_data",
          "data": {
            "text/plain": [
              "<Figure size 432x288 with 1 Axes>"
            ],
            "image/png": "[encoded data removed]"
          },
          "metadata": {
            "needs_background": "light"
          }
        },
        {
          "output_type": "display_data",
          "data": {
            "text/plain": [
              "<Figure size 432x288 with 1 Axes>"
            ],
            "image/png": "[encoded data removed]"
          },
          "metadata": {
            "needs_background": "light"
          }
        },
        {
          "output_type": "display_data",
          "data": {
            "text/plain": [
              "<Figure size 432x288 with 1 Axes>"
            ],
            "image/png": "[encoded data removed]"
          },
          "metadata": {
            "needs_background": "light"
          }
        },
        {
          "output_type": "display_data",
          "data": {
            "text/plain": [
              "<Figure size 432x288 with 1 Axes>"
            ],
            "image/png": "[encoded data removed]"
          },
          "metadata": {
            "needs_background": "light"
          }
        },
        {
          "output_type": "display_data",
          "data": {
            "text/plain": [
              "<Figure size 432x288 with 1 Axes>"
            ],
            "image/png": "[encoded data removed]"
          },
          "metadata": {
            "needs_background": "light"
          }
        },
        {
          "output_type": "display_data",
          "data": {
            "text/plain": [
              "<Figure size 432x288 with 1 Axes>"
            ],
            "image/png": "[encoded data removed]"
          },
          "metadata": {
            "needs_background": "light"
          }
        },
        {
          "output_type": "display_data",
          "data": {
            "text/plain": [
              "<Figure size 432x288 with 1 Axes>"
            ],
            "image/png": "[encoded data removed]"
          },
          "metadata": {
            "needs_background": "light"
          }
        },
        {
          "output_type": "display_data",
          "data": {
            "text/plain": [
              "<Figure size 432x288 with 1 Axes>"
            ],
            "image/png": "[encoded data removed]"
          },
          "metadata": {
            "needs_background": "light"
          }
        },
        {
          "output_type": "display_data",
          "data": {
            "text/plain": [
              "<Figure size 432x288 with 1 Axes>"
            ],
            "image/png": "[encoded data removed]"
          },
          "metadata": {
            "needs_background": "light"
          }
        },
        {
          "output_type": "display_data",
          "data": {
            "text/plain": [
              "<Figure size 432x288 with 1 Axes>"
            ],
            "image/png": "[encoded data removed]"
          },
          "metadata": {
            "needs_background": "light"
          }
        },
        {
          "output_type": "display_data",
          "data": {
            "text/plain": [
              "<Figure size 432x288 with 1 Axes>"
            ],
            "image/png": "[encoded data removed]"
          },
          "metadata": {
            "needs_background": "light"
          }
        },
        {
          "output_type": "display_data",
          "data": {
            "text/plain": [
              "<Figure size 432x288 with 1 Axes>"
            ],
            "image/png": "[encoded data removed]"
          },
          "metadata": {
            "needs_background": "light"
          }
        },
        {
          "output_type": "display_data",
          "data": {
            "text/plain": [
              "<Figure size 432x288 with 1 Axes>"
            ],
            "image/png": "[encoded data removed]"
          },
          "metadata": {
            "needs_background": "light"
          }
        },
        {
          "output_type": "display_data",
          "data": {
            "text/plain": [
              "<Figure size 432x288 with 1 Axes>"
            ],
            "image/png": "[encoded data removed]"
          },
          "metadata": {
            "needs_background": "light"
          }
        },
        {
          "output_type": "display_data",
          "data": {
            "text/plain": [
              "<Figure size 432x288 with 1 Axes>"
            ],
            "image/png": "[encoded data removed]"
          },
          "metadata": {
            "needs_background": "light"
          }
        },
        {
          "output_type": "display_data",
          "data": {
            "text/plain": [
              "<Figure size 432x288 with 1 Axes>"
            ],
            "image/png": "[encoded data removed]"
          },
          "metadata": {
            "needs_background": "light"
          }
        },
        {
          "output_type": "display_data",
          "data": {
            "text/plain": [
              "<Figure size 432x288 with 1 Axes>"
            ],
            "image/png": "[encoded data removed]"
          },
          "metadata": {
            "needs_background": "light"
          }
        },
        {
          "output_type": "display_data",
          "data": {
            "text/plain": [
              "<Figure size 432x288 with 1 Axes>"
            ],
            "image/png": "[encoded data removed]"
          },
          "metadata": {
            "needs_background": "light"
          }
        },
        {
          "output_type": "display_data",
          "data": {
            "text/plain": [
              "<Figure size 432x288 with 1 Axes>"
            ],
            "image/png": "[encoded data removed]"
          },
          "metadata": {
            "needs_background": "light"
          }
        },
        {
          "output_type": "display_data",
          "data": {
            "text/plain": [
              "<Figure size 432x288 with 1 Axes>"
            ],
            "image/png": "[encoded data removed]"
          },
          "metadata": {
            "needs_background": "light"
          }
        },
        {
          "output_type": "display_data",
          "data": {
            "text/plain": [
              "<Figure size 432x288 with 1 Axes>"
            ],
            "image/png": "[encoded data removed]"
          },
          "metadata": {
            "needs_background": "light"
          }
        },
        {
          "output_type": "display_data",
          "data": {
            "text/plain": [
              "<Figure size 432x288 with 1 Axes>"
            ],
            "image/png": "[encoded data removed]"
          },
          "metadata": {
            "needs_background": "light"
          }
        },
        {
          "output_type": "display_data",
          "data": {
            "text/plain": [
              "<Figure size 432x288 with 1 Axes>"
            ],
            "image/png": "[encoded data removed]"
          },
          "metadata": {
            "needs_background": "light"
          }
        },
        {
          "output_type": "display_data",
          "data": {
            "text/plain": [
              "<Figure size 432x288 with 1 Axes>"
            ],
            "image/png": "[encoded data removed]"
          },
          "metadata": {
            "needs_background": "light"
          }
        },
        {
          "output_type": "display_data",
          "data": {
            "text/plain": [
              "<Figure size 432x288 with 1 Axes>"
            ],
            "image/png": "[encoded data removed]"
          },
          "metadata": {
            "needs_background": "light"
          }
        },
        {
          "output_type": "display_data",
          "data": {
            "text/plain": [
              "<Figure size 432x288 with 1 Axes>"
            ],
            "image/png": "[encoded data removed]"
          },
          "metadata": {
            "needs_background": "light"
          }
        },
        {
          "output_type": "display_data",
          "data": {
            "text/plain": [
              "<Figure size 432x288 with 1 Axes>"
            ],
            "image/png": "[encoded data removed]"
          },
          "metadata": {
            "needs_background": "light"
          }
        },
        {
          "output_type": "display_data",
          "data": {
            "text/plain": [
              "<Figure size 432x288 with 1 Axes>"
            ],
            "image/png": "[encoded data removed]"
          },
          "metadata": {
            "needs_background": "light"
          }
        }
      ]
    },
    {
      "cell_type": "markdown",
      "source": [
        "## We will label encode columns which have less categories and one hot encode columns with more categories\n",
        "# Till 6 categories in a column , we are doing label encoding and more than that one hot encoding"
      ],
      "metadata": {
        "id": "OIMFYkhPq9Rh"
      }
    },
    {
      "cell_type": "code",
      "source": [
        "df"
      ],
      "metadata": {
        "colab": {
          "base_uri": "https://localhost:8080/",
          "height": 487
        },
        "id": "SaIYEyk-AHWl",
        "outputId": "a228493c-680c-44dc-f957-4768a40a96d9"
      },
      "execution_count": 58,
      "outputs": [
        {
          "output_type": "execute_result",
          "data": {
            "text/plain": [
              "        Id  MSSubClass MSZoning  LotFrontage  LotArea Street LotShape  \\\n",
              "0        1          60       RL     4.174387     8450   Pave      Reg   \n",
              "1        2          20       RL     4.382027     9600   Pave      Reg   \n",
              "2        3          60       RL     4.219508    11250   Pave      IR1   \n",
              "3        4          70       RL     4.094345     9550   Pave      IR1   \n",
              "4        5          60       RL     4.430817    14260   Pave      IR1   \n",
              "...    ...         ...      ...          ...      ...    ...      ...   \n",
              "1455  1456          60       RL     4.127134     7917   Pave      Reg   \n",
              "1456  1457          20       RL     4.442651    13175   Pave      Reg   \n",
              "1457  1458          70       RL     4.189655     9042   Pave      Reg   \n",
              "1458  1459          20       RL     4.219508     9717   Pave      Reg   \n",
              "1459  1460          20       RL     4.317488     9937   Pave      Reg   \n",
              "\n",
              "     LandContour Utilities LotConfig  ... EnclosedPorch 3SsnPorch ScreenPorch  \\\n",
              "0            Lvl    AllPub    Inside  ...             0         0           0   \n",
              "1            Lvl    AllPub       FR2  ...             0         0           0   \n",
              "2            Lvl    AllPub    Inside  ...             0         0           0   \n",
              "3            Lvl    AllPub    Corner  ...           272         0           0   \n",
              "4            Lvl    AllPub       FR2  ...             0         0           0   \n",
              "...          ...       ...       ...  ...           ...       ...         ...   \n",
              "1455         Lvl    AllPub    Inside  ...             0         0           0   \n",
              "1456         Lvl    AllPub    Inside  ...             0         0           0   \n",
              "1457         Lvl    AllPub    Inside  ...             0         0           0   \n",
              "1458         Lvl    AllPub    Inside  ...           112         0           0   \n",
              "1459         Lvl    AllPub    Inside  ...             0         0           0   \n",
              "\n",
              "     PoolArea MiscVal MoSold  YrSold  SaleType  SaleCondition  SalePrice  \n",
              "0           0       0      2    2008        WD         Normal     208500  \n",
              "1           0       0      5    2007        WD         Normal     181500  \n",
              "2           0       0      9    2008        WD         Normal     223500  \n",
              "3           0       0      2    2006        WD        Abnorml     140000  \n",
              "4           0       0     12    2008        WD         Normal     250000  \n",
              "...       ...     ...    ...     ...       ...            ...        ...  \n",
              "1455        0       0      8    2007        WD         Normal     175000  \n",
              "1456        0       0      2    2010        WD         Normal     210000  \n",
              "1457        0    2500      5    2010        WD         Normal     266500  \n",
              "1458        0       0      4    2010        WD         Normal     142125  \n",
              "1459        0       0      6    2008        WD         Normal     147500  \n",
              "\n",
              "[1460 rows x 77 columns]"
            ],
            "text/html": [
              "\n",
              "  <div id=\"df-07c4c0e0-b8f4-4404-ad75-84e821f2aea1\">\n",
              "    <div class=\"colab-df-container\">\n",
              "      <div>\n",
              "<style scoped>\n",
              "    .dataframe tbody tr th:only-of-type {\n",
              "        vertical-align: middle;\n",
              "    }\n",
              "\n",
              "    .dataframe tbody tr th {\n",
              "        vertical-align: top;\n",
              "    }\n",
              "\n",
              "    .dataframe thead th {\n",
              "        text-align: right;\n",
              "    }\n",
              "</style>\n",
              "<table border=\"1\" class=\"dataframe\">\n",
              "  <thead>\n",
              "    <tr style=\"text-align: right;\">\n",
              "      <th></th>\n",
              "      <th>Id</th>\n",
              "      <th>MSSubClass</th>\n",
              "      <th>MSZoning</th>\n",
              "      <th>LotFrontage</th>\n",
              "      <th>LotArea</th>\n",
              "      <th>Street</th>\n",
              "      <th>LotShape</th>\n",
              "      <th>LandContour</th>\n",
              "      <th>Utilities</th>\n",
              "      <th>LotConfig</th>\n",
              "      <th>...</th>\n",
              "      <th>EnclosedPorch</th>\n",
              "      <th>3SsnPorch</th>\n",
              "      <th>ScreenPorch</th>\n",
              "      <th>PoolArea</th>\n",
              "      <th>MiscVal</th>\n",
              "      <th>MoSold</th>\n",
              "      <th>YrSold</th>\n",
              "      <th>SaleType</th>\n",
              "      <th>SaleCondition</th>\n",
              "      <th>SalePrice</th>\n",
              "    </tr>\n",
              "  </thead>\n",
              "  <tbody>\n",
              "    <tr>\n",
              "      <th>0</th>\n",
              "      <td>1</td>\n",
              "      <td>60</td>\n",
              "      <td>RL</td>\n",
              "      <td>4.174387</td>\n",
              "      <td>8450</td>\n",
              "      <td>Pave</td>\n",
              "      <td>Reg</td>\n",
              "      <td>Lvl</td>\n",
              "      <td>AllPub</td>\n",
              "      <td>Inside</td>\n",
              "      <td>...</td>\n",
              "      <td>0</td>\n",
              "      <td>0</td>\n",
              "      <td>0</td>\n",
              "      <td>0</td>\n",
              "      <td>0</td>\n",
              "      <td>2</td>\n",
              "      <td>2008</td>\n",
              "      <td>WD</td>\n",
              "      <td>Normal</td>\n",
              "      <td>208500</td>\n",
              "    </tr>\n",
              "    <tr>\n",
              "      <th>1</th>\n",
              "      <td>2</td>\n",
              "      <td>20</td>\n",
              "      <td>RL</td>\n",
              "      <td>4.382027</td>\n",
              "      <td>9600</td>\n",
              "      <td>Pave</td>\n",
              "      <td>Reg</td>\n",
              "      <td>Lvl</td>\n",
              "      <td>AllPub</td>\n",
              "      <td>FR2</td>\n",
              "      <td>...</td>\n",
              "      <td>0</td>\n",
              "      <td>0</td>\n",
              "      <td>0</td>\n",
              "      <td>0</td>\n",
              "      <td>0</td>\n",
              "      <td>5</td>\n",
              "      <td>2007</td>\n",
              "      <td>WD</td>\n",
              "      <td>Normal</td>\n",
              "      <td>181500</td>\n",
              "    </tr>\n",
              "    <tr>\n",
              "      <th>2</th>\n",
              "      <td>3</td>\n",
              "      <td>60</td>\n",
              "      <td>RL</td>\n",
              "      <td>4.219508</td>\n",
              "      <td>11250</td>\n",
              "      <td>Pave</td>\n",
              "      <td>IR1</td>\n",
              "      <td>Lvl</td>\n",
              "      <td>AllPub</td>\n",
              "      <td>Inside</td>\n",
              "      <td>...</td>\n",
              "      <td>0</td>\n",
              "      <td>0</td>\n",
              "      <td>0</td>\n",
              "      <td>0</td>\n",
              "      <td>0</td>\n",
              "      <td>9</td>\n",
              "      <td>2008</td>\n",
              "      <td>WD</td>\n",
              "      <td>Normal</td>\n",
              "      <td>223500</td>\n",
              "    </tr>\n",
              "    <tr>\n",
              "      <th>3</th>\n",
              "      <td>4</td>\n",
              "      <td>70</td>\n",
              "      <td>RL</td>\n",
              "      <td>4.094345</td>\n",
              "      <td>9550</td>\n",
              "      <td>Pave</td>\n",
              "      <td>IR1</td>\n",
              "      <td>Lvl</td>\n",
              "      <td>AllPub</td>\n",
              "      <td>Corner</td>\n",
              "      <td>...</td>\n",
              "      <td>272</td>\n",
              "      <td>0</td>\n",
              "      <td>0</td>\n",
              "      <td>0</td>\n",
              "      <td>0</td>\n",
              "      <td>2</td>\n",
              "      <td>2006</td>\n",
              "      <td>WD</td>\n",
              "      <td>Abnorml</td>\n",
              "      <td>140000</td>\n",
              "    </tr>\n",
              "    <tr>\n",
              "      <th>4</th>\n",
              "      <td>5</td>\n",
              "      <td>60</td>\n",
              "      <td>RL</td>\n",
              "      <td>4.430817</td>\n",
              "      <td>14260</td>\n",
              "      <td>Pave</td>\n",
              "      <td>IR1</td>\n",
              "      <td>Lvl</td>\n",
              "      <td>AllPub</td>\n",
              "      <td>FR2</td>\n",
              "      <td>...</td>\n",
              "      <td>0</td>\n",
              "      <td>0</td>\n",
              "      <td>0</td>\n",
              "      <td>0</td>\n",
              "      <td>0</td>\n",
              "      <td>12</td>\n",
              "      <td>2008</td>\n",
              "      <td>WD</td>\n",
              "      <td>Normal</td>\n",
              "      <td>250000</td>\n",
              "    </tr>\n",
              "    <tr>\n",
              "      <th>...</th>\n",
              "      <td>...</td>\n",
              "      <td>...</td>\n",
              "      <td>...</td>\n",
              "      <td>...</td>\n",
              "      <td>...</td>\n",
              "      <td>...</td>\n",
              "      <td>...</td>\n",
              "      <td>...</td>\n",
              "      <td>...</td>\n",
              "      <td>...</td>\n",
              "      <td>...</td>\n",
              "      <td>...</td>\n",
              "      <td>...</td>\n",
              "      <td>...</td>\n",
              "      <td>...</td>\n",
              "      <td>...</td>\n",
              "      <td>...</td>\n",
              "      <td>...</td>\n",
              "      <td>...</td>\n",
              "      <td>...</td>\n",
              "      <td>...</td>\n",
              "    </tr>\n",
              "    <tr>\n",
              "      <th>1455</th>\n",
              "      <td>1456</td>\n",
              "      <td>60</td>\n",
              "      <td>RL</td>\n",
              "      <td>4.127134</td>\n",
              "      <td>7917</td>\n",
              "      <td>Pave</td>\n",
              "      <td>Reg</td>\n",
              "      <td>Lvl</td>\n",
              "      <td>AllPub</td>\n",
              "      <td>Inside</td>\n",
              "      <td>...</td>\n",
              "      <td>0</td>\n",
              "      <td>0</td>\n",
              "      <td>0</td>\n",
              "      <td>0</td>\n",
              "      <td>0</td>\n",
              "      <td>8</td>\n",
              "      <td>2007</td>\n",
              "      <td>WD</td>\n",
              "      <td>Normal</td>\n",
              "      <td>175000</td>\n",
              "    </tr>\n",
              "    <tr>\n",
              "      <th>1456</th>\n",
              "      <td>1457</td>\n",
              "      <td>20</td>\n",
              "      <td>RL</td>\n",
              "      <td>4.442651</td>\n",
              "      <td>13175</td>\n",
              "      <td>Pave</td>\n",
              "      <td>Reg</td>\n",
              "      <td>Lvl</td>\n",
              "      <td>AllPub</td>\n",
              "      <td>Inside</td>\n",
              "      <td>...</td>\n",
              "      <td>0</td>\n",
              "      <td>0</td>\n",
              "      <td>0</td>\n",
              "      <td>0</td>\n",
              "      <td>0</td>\n",
              "      <td>2</td>\n",
              "      <td>2010</td>\n",
              "      <td>WD</td>\n",
              "      <td>Normal</td>\n",
              "      <td>210000</td>\n",
              "    </tr>\n",
              "    <tr>\n",
              "      <th>1457</th>\n",
              "      <td>1458</td>\n",
              "      <td>70</td>\n",
              "      <td>RL</td>\n",
              "      <td>4.189655</td>\n",
              "      <td>9042</td>\n",
              "      <td>Pave</td>\n",
              "      <td>Reg</td>\n",
              "      <td>Lvl</td>\n",
              "      <td>AllPub</td>\n",
              "      <td>Inside</td>\n",
              "      <td>...</td>\n",
              "      <td>0</td>\n",
              "      <td>0</td>\n",
              "      <td>0</td>\n",
              "      <td>0</td>\n",
              "      <td>2500</td>\n",
              "      <td>5</td>\n",
              "      <td>2010</td>\n",
              "      <td>WD</td>\n",
              "      <td>Normal</td>\n",
              "      <td>266500</td>\n",
              "    </tr>\n",
              "    <tr>\n",
              "      <th>1458</th>\n",
              "      <td>1459</td>\n",
              "      <td>20</td>\n",
              "      <td>RL</td>\n",
              "      <td>4.219508</td>\n",
              "      <td>9717</td>\n",
              "      <td>Pave</td>\n",
              "      <td>Reg</td>\n",
              "      <td>Lvl</td>\n",
              "      <td>AllPub</td>\n",
              "      <td>Inside</td>\n",
              "      <td>...</td>\n",
              "      <td>112</td>\n",
              "      <td>0</td>\n",
              "      <td>0</td>\n",
              "      <td>0</td>\n",
              "      <td>0</td>\n",
              "      <td>4</td>\n",
              "      <td>2010</td>\n",
              "      <td>WD</td>\n",
              "      <td>Normal</td>\n",
              "      <td>142125</td>\n",
              "    </tr>\n",
              "    <tr>\n",
              "      <th>1459</th>\n",
              "      <td>1460</td>\n",
              "      <td>20</td>\n",
              "      <td>RL</td>\n",
              "      <td>4.317488</td>\n",
              "      <td>9937</td>\n",
              "      <td>Pave</td>\n",
              "      <td>Reg</td>\n",
              "      <td>Lvl</td>\n",
              "      <td>AllPub</td>\n",
              "      <td>Inside</td>\n",
              "      <td>...</td>\n",
              "      <td>0</td>\n",
              "      <td>0</td>\n",
              "      <td>0</td>\n",
              "      <td>0</td>\n",
              "      <td>0</td>\n",
              "      <td>6</td>\n",
              "      <td>2008</td>\n",
              "      <td>WD</td>\n",
              "      <td>Normal</td>\n",
              "      <td>147500</td>\n",
              "    </tr>\n",
              "  </tbody>\n",
              "</table>\n",
              "<p>1460 rows × 77 columns</p>\n",
              "</div>\n",
              "      <button class=\"colab-df-convert\" onclick=\"convertToInteractive('df-07c4c0e0-b8f4-4404-ad75-84e821f2aea1')\"\n",
              "              title=\"Convert this dataframe to an interactive table.\"\n",
              "              style=\"display:none;\">\n",
              "        \n",
              "  <svg xmlns=\"http://www.w3.org/2000/svg\" height=\"24px\"viewBox=\"0 0 24 24\"\n",
              "       width=\"24px\">\n",
              "    <path d=\"M0 0h24v24H0V0z\" fill=\"none\"/>\n",
              "    <path d=\"M18.56 5.44l.94 2.06.94-2.06 2.06-.94-2.06-.94-.94-2.06-.94 2.06-2.06.94zm-11 1L8.5 8.5l.94-2.06 2.06-.94-2.06-.94L8.5 2.5l-.94 2.06-2.06.94zm10 10l.94 2.06.94-2.06 2.06-.94-2.06-.94-.94-2.06-.94 2.06-2.06.94z\"/><path d=\"M17.41 7.96l-1.37-1.37c-.4-.4-.92-.59-1.43-.59-.52 0-1.04.2-1.43.59L10.3 9.45l-7.72 7.72c-.78.78-.78 2.05 0 2.83L4 21.41c.39.39.9.59 1.41.59.51 0 1.02-.2 1.41-.59l7.78-7.78 2.81-2.81c.8-.78.8-2.07 0-2.86zM5.41 20L4 18.59l7.72-7.72 1.47 1.35L5.41 20z\"/>\n",
              "  </svg>\n",
              "      </button>\n",
              "      \n",
              "  <style>\n",
              "    .colab-df-container {\n",
              "      display:flex;\n",
              "      flex-wrap:wrap;\n",
              "      gap: 12px;\n",
              "    }\n",
              "\n",
              "    .colab-df-convert {\n",
              "      background-color: #E8F0FE;\n",
              "      border: none;\n",
              "      border-radius: 50%;\n",
              "      cursor: pointer;\n",
              "      display: none;\n",
              "      fill: #1967D2;\n",
              "      height: 32px;\n",
              "      padding: 0 0 0 0;\n",
              "      width: 32px;\n",
              "    }\n",
              "\n",
              "    .colab-df-convert:hover {\n",
              "      background-color: #E2EBFA;\n",
              "      box-shadow: 0px 1px 2px rgba(60, 64, 67, 0.3), 0px 1px 3px 1px rgba(60, 64, 67, 0.15);\n",
              "      fill: #174EA6;\n",
              "    }\n",
              "\n",
              "    [theme=dark] .colab-df-convert {\n",
              "      background-color: #3B4455;\n",
              "      fill: #D2E3FC;\n",
              "    }\n",
              "\n",
              "    [theme=dark] .colab-df-convert:hover {\n",
              "      background-color: #434B5C;\n",
              "      box-shadow: 0px 1px 3px 1px rgba(0, 0, 0, 0.15);\n",
              "      filter: drop-shadow(0px 1px 2px rgba(0, 0, 0, 0.3));\n",
              "      fill: #FFFFFF;\n",
              "    }\n",
              "  </style>\n",
              "\n",
              "      <script>\n",
              "        const buttonEl =\n",
              "          document.querySelector('#df-07c4c0e0-b8f4-4404-ad75-84e821f2aea1 button.colab-df-convert');\n",
              "        buttonEl.style.display =\n",
              "          google.colab.kernel.accessAllowed ? 'block' : 'none';\n",
              "\n",
              "        async function convertToInteractive(key) {\n",
              "          const element = document.querySelector('#df-07c4c0e0-b8f4-4404-ad75-84e821f2aea1');\n",
              "          const dataTable =\n",
              "            await google.colab.kernel.invokeFunction('convertToInteractive',\n",
              "                                                     [key], {});\n",
              "          if (!dataTable) return;\n",
              "\n",
              "          const docLinkHtml = 'Like what you see? Visit the ' +\n",
              "            '<a target=\"_blank\" href=https://colab.research.google.com/notebooks/data_table.ipynb>data table notebook</a>'\n",
              "            + ' to learn more about interactive tables.';\n",
              "          element.innerHTML = '';\n",
              "          dataTable['output_type'] = 'display_data';\n",
              "          await google.colab.output.renderOutput(dataTable, element);\n",
              "          const docLink = document.createElement('div');\n",
              "          docLink.innerHTML = docLinkHtml;\n",
              "          element.appendChild(docLink);\n",
              "        }\n",
              "      </script>\n",
              "    </div>\n",
              "  </div>\n",
              "  "
            ]
          },
          "metadata": {},
          "execution_count": 58
        }
      ]
    },
    {
      "cell_type": "code",
      "source": [
        "copy_df = df"
      ],
      "metadata": {
        "id": "DabOcdeLt3lx"
      },
      "execution_count": 59,
      "outputs": []
    },
    {
      "cell_type": "code",
      "source": [
        "cols_to_label = []\n",
        "cols_to_onehot = []\n",
        "\n",
        "for i in range(0, len(cat_cols)):\n",
        "  if(df[cat_cols[i]].nunique()<=6):\n",
        "    cols_to_label.append(cat_cols[i])\n",
        "  else:\n",
        "    cols_to_onehot.append(cat_cols[i])      "
      ],
      "metadata": {
        "id": "KZSklSwZrH9x"
      },
      "execution_count": 60,
      "outputs": []
    },
    {
      "cell_type": "code",
      "source": [
        "## Columns to get label encoded\n",
        "print(cols_to_label)"
      ],
      "metadata": {
        "colab": {
          "base_uri": "https://localhost:8080/"
        },
        "id": "IojTV_4Dr6XU",
        "outputId": "b44d12e5-bfa2-49c7-cff4-e2c2b883ef7a"
      },
      "execution_count": 61,
      "outputs": [
        {
          "output_type": "stream",
          "name": "stdout",
          "text": [
            "['MSZoning', 'Street', 'LotShape', 'LandContour', 'Utilities', 'LotConfig', 'LandSlope', 'BldgType', 'RoofStyle', 'MasVnrType', 'ExterQual', 'ExterCond', 'Foundation', 'BsmtQual', 'BsmtCond', 'BsmtExposure', 'BsmtFinType1', 'BsmtFinType2', 'Heating', 'HeatingQC', 'CentralAir', 'Electrical', 'KitchenQual', 'FireplaceQu', 'GarageType', 'GarageFinish', 'GarageQual', 'GarageCond', 'PavedDrive', 'SaleCondition']\n"
          ]
        }
      ]
    },
    {
      "cell_type": "code",
      "source": [
        "## Columns to get one-hot encoded\n",
        "print(cols_to_onehot)"
      ],
      "metadata": {
        "colab": {
          "base_uri": "https://localhost:8080/"
        },
        "id": "E1P08g7NsBxL",
        "outputId": "766a91f2-8323-4cb1-f4d8-cd8d6e74c26d"
      },
      "execution_count": 62,
      "outputs": [
        {
          "output_type": "stream",
          "name": "stdout",
          "text": [
            "['Neighborhood', 'Condition1', 'Condition2', 'HouseStyle', 'RoofMatl', 'Exterior1st', 'Exterior2nd', 'Functional', 'SaleType']\n"
          ]
        }
      ]
    },
    {
      "cell_type": "markdown",
      "source": [
        "## Label Encoding"
      ],
      "metadata": {
        "id": "0HZxsjlYs2rC"
      }
    },
    {
      "cell_type": "code",
      "source": [
        "from sklearn.preprocessing import LabelEncoder \n",
        "\n",
        "\n",
        "le = LabelEncoder()\n",
        "\n",
        "for i in range(0, len(cols_to_label)):\n",
        "  name = cols_to_label[i]\n",
        "  print(f\"Label Encoding column {name}\")\n",
        "  df[name] = le.fit_transform(df[name])"
      ],
      "metadata": {
        "colab": {
          "base_uri": "https://localhost:8080/"
        },
        "id": "2MhI-6KDs1q6",
        "outputId": "05fc3b83-f3a0-49ec-be01-aeb8a3d00e85"
      },
      "execution_count": 63,
      "outputs": [
        {
          "output_type": "stream",
          "name": "stdout",
          "text": [
            "Label Encoding column MSZoning\n",
            "Label Encoding column Street\n",
            "Label Encoding column LotShape\n",
            "Label Encoding column LandContour\n",
            "Label Encoding column Utilities\n",
            "Label Encoding column LotConfig\n",
            "Label Encoding column LandSlope\n",
            "Label Encoding column BldgType\n",
            "Label Encoding column RoofStyle\n",
            "Label Encoding column MasVnrType\n",
            "Label Encoding column ExterQual\n",
            "Label Encoding column ExterCond\n",
            "Label Encoding column Foundation\n",
            "Label Encoding column BsmtQual\n",
            "Label Encoding column BsmtCond\n",
            "Label Encoding column BsmtExposure\n",
            "Label Encoding column BsmtFinType1\n",
            "Label Encoding column BsmtFinType2\n",
            "Label Encoding column Heating\n",
            "Label Encoding column HeatingQC\n",
            "Label Encoding column CentralAir\n",
            "Label Encoding column Electrical\n",
            "Label Encoding column KitchenQual\n",
            "Label Encoding column FireplaceQu\n",
            "Label Encoding column GarageType\n",
            "Label Encoding column GarageFinish\n",
            "Label Encoding column GarageQual\n",
            "Label Encoding column GarageCond\n",
            "Label Encoding column PavedDrive\n",
            "Label Encoding column SaleCondition\n"
          ]
        }
      ]
    },
    {
      "cell_type": "code",
      "source": [
        "df"
      ],
      "metadata": {
        "colab": {
          "base_uri": "https://localhost:8080/",
          "height": 487
        },
        "id": "dAX0O3uTAs3j",
        "outputId": "16a775c7-7691-410b-ca61-6aafe546f49b"
      },
      "execution_count": 64,
      "outputs": [
        {
          "output_type": "execute_result",
          "data": {
            "text/plain": [
              "        Id  MSSubClass  MSZoning  LotFrontage  LotArea  Street  LotShape  \\\n",
              "0        1          60         3     4.174387     8450       1         3   \n",
              "1        2          20         3     4.382027     9600       1         3   \n",
              "2        3          60         3     4.219508    11250       1         0   \n",
              "3        4          70         3     4.094345     9550       1         0   \n",
              "4        5          60         3     4.430817    14260       1         0   \n",
              "...    ...         ...       ...          ...      ...     ...       ...   \n",
              "1455  1456          60         3     4.127134     7917       1         3   \n",
              "1456  1457          20         3     4.442651    13175       1         3   \n",
              "1457  1458          70         3     4.189655     9042       1         3   \n",
              "1458  1459          20         3     4.219508     9717       1         3   \n",
              "1459  1460          20         3     4.317488     9937       1         3   \n",
              "\n",
              "      LandContour  Utilities  LotConfig  ...  EnclosedPorch 3SsnPorch  \\\n",
              "0               3          0          4  ...              0         0   \n",
              "1               3          0          2  ...              0         0   \n",
              "2               3          0          4  ...              0         0   \n",
              "3               3          0          0  ...            272         0   \n",
              "4               3          0          2  ...              0         0   \n",
              "...           ...        ...        ...  ...            ...       ...   \n",
              "1455            3          0          4  ...              0         0   \n",
              "1456            3          0          4  ...              0         0   \n",
              "1457            3          0          4  ...              0         0   \n",
              "1458            3          0          4  ...            112         0   \n",
              "1459            3          0          4  ...              0         0   \n",
              "\n",
              "     ScreenPorch PoolArea  MiscVal MoSold  YrSold  SaleType  SaleCondition  \\\n",
              "0              0        0        0      2    2008        WD              4   \n",
              "1              0        0        0      5    2007        WD              4   \n",
              "2              0        0        0      9    2008        WD              4   \n",
              "3              0        0        0      2    2006        WD              0   \n",
              "4              0        0        0     12    2008        WD              4   \n",
              "...          ...      ...      ...    ...     ...       ...            ...   \n",
              "1455           0        0        0      8    2007        WD              4   \n",
              "1456           0        0        0      2    2010        WD              4   \n",
              "1457           0        0     2500      5    2010        WD              4   \n",
              "1458           0        0        0      4    2010        WD              4   \n",
              "1459           0        0        0      6    2008        WD              4   \n",
              "\n",
              "      SalePrice  \n",
              "0        208500  \n",
              "1        181500  \n",
              "2        223500  \n",
              "3        140000  \n",
              "4        250000  \n",
              "...         ...  \n",
              "1455     175000  \n",
              "1456     210000  \n",
              "1457     266500  \n",
              "1458     142125  \n",
              "1459     147500  \n",
              "\n",
              "[1460 rows x 77 columns]"
            ],
            "text/html": [
              "\n",
              "  <div id=\"df-3d824db7-ef82-436d-b0bf-99755680d01c\">\n",
              "    <div class=\"colab-df-container\">\n",
              "      <div>\n",
              "<style scoped>\n",
              "    .dataframe tbody tr th:only-of-type {\n",
              "        vertical-align: middle;\n",
              "    }\n",
              "\n",
              "    .dataframe tbody tr th {\n",
              "        vertical-align: top;\n",
              "    }\n",
              "\n",
              "    .dataframe thead th {\n",
              "        text-align: right;\n",
              "    }\n",
              "</style>\n",
              "<table border=\"1\" class=\"dataframe\">\n",
              "  <thead>\n",
              "    <tr style=\"text-align: right;\">\n",
              "      <th></th>\n",
              "      <th>Id</th>\n",
              "      <th>MSSubClass</th>\n",
              "      <th>MSZoning</th>\n",
              "      <th>LotFrontage</th>\n",
              "      <th>LotArea</th>\n",
              "      <th>Street</th>\n",
              "      <th>LotShape</th>\n",
              "      <th>LandContour</th>\n",
              "      <th>Utilities</th>\n",
              "      <th>LotConfig</th>\n",
              "      <th>...</th>\n",
              "      <th>EnclosedPorch</th>\n",
              "      <th>3SsnPorch</th>\n",
              "      <th>ScreenPorch</th>\n",
              "      <th>PoolArea</th>\n",
              "      <th>MiscVal</th>\n",
              "      <th>MoSold</th>\n",
              "      <th>YrSold</th>\n",
              "      <th>SaleType</th>\n",
              "      <th>SaleCondition</th>\n",
              "      <th>SalePrice</th>\n",
              "    </tr>\n",
              "  </thead>\n",
              "  <tbody>\n",
              "    <tr>\n",
              "      <th>0</th>\n",
              "      <td>1</td>\n",
              "      <td>60</td>\n",
              "      <td>3</td>\n",
              "      <td>4.174387</td>\n",
              "      <td>8450</td>\n",
              "      <td>1</td>\n",
              "      <td>3</td>\n",
              "      <td>3</td>\n",
              "      <td>0</td>\n",
              "      <td>4</td>\n",
              "      <td>...</td>\n",
              "      <td>0</td>\n",
              "      <td>0</td>\n",
              "      <td>0</td>\n",
              "      <td>0</td>\n",
              "      <td>0</td>\n",
              "      <td>2</td>\n",
              "      <td>2008</td>\n",
              "      <td>WD</td>\n",
              "      <td>4</td>\n",
              "      <td>208500</td>\n",
              "    </tr>\n",
              "    <tr>\n",
              "      <th>1</th>\n",
              "      <td>2</td>\n",
              "      <td>20</td>\n",
              "      <td>3</td>\n",
              "      <td>4.382027</td>\n",
              "      <td>9600</td>\n",
              "      <td>1</td>\n",
              "      <td>3</td>\n",
              "      <td>3</td>\n",
              "      <td>0</td>\n",
              "      <td>2</td>\n",
              "      <td>...</td>\n",
              "      <td>0</td>\n",
              "      <td>0</td>\n",
              "      <td>0</td>\n",
              "      <td>0</td>\n",
              "      <td>0</td>\n",
              "      <td>5</td>\n",
              "      <td>2007</td>\n",
              "      <td>WD</td>\n",
              "      <td>4</td>\n",
              "      <td>181500</td>\n",
              "    </tr>\n",
              "    <tr>\n",
              "      <th>2</th>\n",
              "      <td>3</td>\n",
              "      <td>60</td>\n",
              "      <td>3</td>\n",
              "      <td>4.219508</td>\n",
              "      <td>11250</td>\n",
              "      <td>1</td>\n",
              "      <td>0</td>\n",
              "      <td>3</td>\n",
              "      <td>0</td>\n",
              "      <td>4</td>\n",
              "      <td>...</td>\n",
              "      <td>0</td>\n",
              "      <td>0</td>\n",
              "      <td>0</td>\n",
              "      <td>0</td>\n",
              "      <td>0</td>\n",
              "      <td>9</td>\n",
              "      <td>2008</td>\n",
              "      <td>WD</td>\n",
              "      <td>4</td>\n",
              "      <td>223500</td>\n",
              "    </tr>\n",
              "    <tr>\n",
              "      <th>3</th>\n",
              "      <td>4</td>\n",
              "      <td>70</td>\n",
              "      <td>3</td>\n",
              "      <td>4.094345</td>\n",
              "      <td>9550</td>\n",
              "      <td>1</td>\n",
              "      <td>0</td>\n",
              "      <td>3</td>\n",
              "      <td>0</td>\n",
              "      <td>0</td>\n",
              "      <td>...</td>\n",
              "      <td>272</td>\n",
              "      <td>0</td>\n",
              "      <td>0</td>\n",
              "      <td>0</td>\n",
              "      <td>0</td>\n",
              "      <td>2</td>\n",
              "      <td>2006</td>\n",
              "      <td>WD</td>\n",
              "      <td>0</td>\n",
              "      <td>140000</td>\n",
              "    </tr>\n",
              "    <tr>\n",
              "      <th>4</th>\n",
              "      <td>5</td>\n",
              "      <td>60</td>\n",
              "      <td>3</td>\n",
              "      <td>4.430817</td>\n",
              "      <td>14260</td>\n",
              "      <td>1</td>\n",
              "      <td>0</td>\n",
              "      <td>3</td>\n",
              "      <td>0</td>\n",
              "      <td>2</td>\n",
              "      <td>...</td>\n",
              "      <td>0</td>\n",
              "      <td>0</td>\n",
              "      <td>0</td>\n",
              "      <td>0</td>\n",
              "      <td>0</td>\n",
              "      <td>12</td>\n",
              "      <td>2008</td>\n",
              "      <td>WD</td>\n",
              "      <td>4</td>\n",
              "      <td>250000</td>\n",
              "    </tr>\n",
              "    <tr>\n",
              "      <th>...</th>\n",
              "      <td>...</td>\n",
              "      <td>...</td>\n",
              "      <td>...</td>\n",
              "      <td>...</td>\n",
              "      <td>...</td>\n",
              "      <td>...</td>\n",
              "      <td>...</td>\n",
              "      <td>...</td>\n",
              "      <td>...</td>\n",
              "      <td>...</td>\n",
              "      <td>...</td>\n",
              "      <td>...</td>\n",
              "      <td>...</td>\n",
              "      <td>...</td>\n",
              "      <td>...</td>\n",
              "      <td>...</td>\n",
              "      <td>...</td>\n",
              "      <td>...</td>\n",
              "      <td>...</td>\n",
              "      <td>...</td>\n",
              "      <td>...</td>\n",
              "    </tr>\n",
              "    <tr>\n",
              "      <th>1455</th>\n",
              "      <td>1456</td>\n",
              "      <td>60</td>\n",
              "      <td>3</td>\n",
              "      <td>4.127134</td>\n",
              "      <td>7917</td>\n",
              "      <td>1</td>\n",
              "      <td>3</td>\n",
              "      <td>3</td>\n",
              "      <td>0</td>\n",
              "      <td>4</td>\n",
              "      <td>...</td>\n",
              "      <td>0</td>\n",
              "      <td>0</td>\n",
              "      <td>0</td>\n",
              "      <td>0</td>\n",
              "      <td>0</td>\n",
              "      <td>8</td>\n",
              "      <td>2007</td>\n",
              "      <td>WD</td>\n",
              "      <td>4</td>\n",
              "      <td>175000</td>\n",
              "    </tr>\n",
              "    <tr>\n",
              "      <th>1456</th>\n",
              "      <td>1457</td>\n",
              "      <td>20</td>\n",
              "      <td>3</td>\n",
              "      <td>4.442651</td>\n",
              "      <td>13175</td>\n",
              "      <td>1</td>\n",
              "      <td>3</td>\n",
              "      <td>3</td>\n",
              "      <td>0</td>\n",
              "      <td>4</td>\n",
              "      <td>...</td>\n",
              "      <td>0</td>\n",
              "      <td>0</td>\n",
              "      <td>0</td>\n",
              "      <td>0</td>\n",
              "      <td>0</td>\n",
              "      <td>2</td>\n",
              "      <td>2010</td>\n",
              "      <td>WD</td>\n",
              "      <td>4</td>\n",
              "      <td>210000</td>\n",
              "    </tr>\n",
              "    <tr>\n",
              "      <th>1457</th>\n",
              "      <td>1458</td>\n",
              "      <td>70</td>\n",
              "      <td>3</td>\n",
              "      <td>4.189655</td>\n",
              "      <td>9042</td>\n",
              "      <td>1</td>\n",
              "      <td>3</td>\n",
              "      <td>3</td>\n",
              "      <td>0</td>\n",
              "      <td>4</td>\n",
              "      <td>...</td>\n",
              "      <td>0</td>\n",
              "      <td>0</td>\n",
              "      <td>0</td>\n",
              "      <td>0</td>\n",
              "      <td>2500</td>\n",
              "      <td>5</td>\n",
              "      <td>2010</td>\n",
              "      <td>WD</td>\n",
              "      <td>4</td>\n",
              "      <td>266500</td>\n",
              "    </tr>\n",
              "    <tr>\n",
              "      <th>1458</th>\n",
              "      <td>1459</td>\n",
              "      <td>20</td>\n",
              "      <td>3</td>\n",
              "      <td>4.219508</td>\n",
              "      <td>9717</td>\n",
              "      <td>1</td>\n",
              "      <td>3</td>\n",
              "      <td>3</td>\n",
              "      <td>0</td>\n",
              "      <td>4</td>\n",
              "      <td>...</td>\n",
              "      <td>112</td>\n",
              "      <td>0</td>\n",
              "      <td>0</td>\n",
              "      <td>0</td>\n",
              "      <td>0</td>\n",
              "      <td>4</td>\n",
              "      <td>2010</td>\n",
              "      <td>WD</td>\n",
              "      <td>4</td>\n",
              "      <td>142125</td>\n",
              "    </tr>\n",
              "    <tr>\n",
              "      <th>1459</th>\n",
              "      <td>1460</td>\n",
              "      <td>20</td>\n",
              "      <td>3</td>\n",
              "      <td>4.317488</td>\n",
              "      <td>9937</td>\n",
              "      <td>1</td>\n",
              "      <td>3</td>\n",
              "      <td>3</td>\n",
              "      <td>0</td>\n",
              "      <td>4</td>\n",
              "      <td>...</td>\n",
              "      <td>0</td>\n",
              "      <td>0</td>\n",
              "      <td>0</td>\n",
              "      <td>0</td>\n",
              "      <td>0</td>\n",
              "      <td>6</td>\n",
              "      <td>2008</td>\n",
              "      <td>WD</td>\n",
              "      <td>4</td>\n",
              "      <td>147500</td>\n",
              "    </tr>\n",
              "  </tbody>\n",
              "</table>\n",
              "<p>1460 rows × 77 columns</p>\n",
              "</div>\n",
              "      <button class=\"colab-df-convert\" onclick=\"convertToInteractive('df-3d824db7-ef82-436d-b0bf-99755680d01c')\"\n",
              "              title=\"Convert this dataframe to an interactive table.\"\n",
              "              style=\"display:none;\">\n",
              "        \n",
              "  <svg xmlns=\"http://www.w3.org/2000/svg\" height=\"24px\"viewBox=\"0 0 24 24\"\n",
              "       width=\"24px\">\n",
              "    <path d=\"M0 0h24v24H0V0z\" fill=\"none\"/>\n",
              "    <path d=\"M18.56 5.44l.94 2.06.94-2.06 2.06-.94-2.06-.94-.94-2.06-.94 2.06-2.06.94zm-11 1L8.5 8.5l.94-2.06 2.06-.94-2.06-.94L8.5 2.5l-.94 2.06-2.06.94zm10 10l.94 2.06.94-2.06 2.06-.94-2.06-.94-.94-2.06-.94 2.06-2.06.94z\"/><path d=\"M17.41 7.96l-1.37-1.37c-.4-.4-.92-.59-1.43-.59-.52 0-1.04.2-1.43.59L10.3 9.45l-7.72 7.72c-.78.78-.78 2.05 0 2.83L4 21.41c.39.39.9.59 1.41.59.51 0 1.02-.2 1.41-.59l7.78-7.78 2.81-2.81c.8-.78.8-2.07 0-2.86zM5.41 20L4 18.59l7.72-7.72 1.47 1.35L5.41 20z\"/>\n",
              "  </svg>\n",
              "      </button>\n",
              "      \n",
              "  <style>\n",
              "    .colab-df-container {\n",
              "      display:flex;\n",
              "      flex-wrap:wrap;\n",
              "      gap: 12px;\n",
              "    }\n",
              "\n",
              "    .colab-df-convert {\n",
              "      background-color: #E8F0FE;\n",
              "      border: none;\n",
              "      border-radius: 50%;\n",
              "      cursor: pointer;\n",
              "      display: none;\n",
              "      fill: #1967D2;\n",
              "      height: 32px;\n",
              "      padding: 0 0 0 0;\n",
              "      width: 32px;\n",
              "    }\n",
              "\n",
              "    .colab-df-convert:hover {\n",
              "      background-color: #E2EBFA;\n",
              "      box-shadow: 0px 1px 2px rgba(60, 64, 67, 0.3), 0px 1px 3px 1px rgba(60, 64, 67, 0.15);\n",
              "      fill: #174EA6;\n",
              "    }\n",
              "\n",
              "    [theme=dark] .colab-df-convert {\n",
              "      background-color: #3B4455;\n",
              "      fill: #D2E3FC;\n",
              "    }\n",
              "\n",
              "    [theme=dark] .colab-df-convert:hover {\n",
              "      background-color: #434B5C;\n",
              "      box-shadow: 0px 1px 3px 1px rgba(0, 0, 0, 0.15);\n",
              "      filter: drop-shadow(0px 1px 2px rgba(0, 0, 0, 0.3));\n",
              "      fill: #FFFFFF;\n",
              "    }\n",
              "  </style>\n",
              "\n",
              "      <script>\n",
              "        const buttonEl =\n",
              "          document.querySelector('#df-3d824db7-ef82-436d-b0bf-99755680d01c button.colab-df-convert');\n",
              "        buttonEl.style.display =\n",
              "          google.colab.kernel.accessAllowed ? 'block' : 'none';\n",
              "\n",
              "        async function convertToInteractive(key) {\n",
              "          const element = document.querySelector('#df-3d824db7-ef82-436d-b0bf-99755680d01c');\n",
              "          const dataTable =\n",
              "            await google.colab.kernel.invokeFunction('convertToInteractive',\n",
              "                                                     [key], {});\n",
              "          if (!dataTable) return;\n",
              "\n",
              "          const docLinkHtml = 'Like what you see? Visit the ' +\n",
              "            '<a target=\"_blank\" href=https://colab.research.google.com/notebooks/data_table.ipynb>data table notebook</a>'\n",
              "            + ' to learn more about interactive tables.';\n",
              "          element.innerHTML = '';\n",
              "          dataTable['output_type'] = 'display_data';\n",
              "          await google.colab.output.renderOutput(dataTable, element);\n",
              "          const docLink = document.createElement('div');\n",
              "          docLink.innerHTML = docLinkHtml;\n",
              "          element.appendChild(docLink);\n",
              "        }\n",
              "      </script>\n",
              "    </div>\n",
              "  </div>\n",
              "  "
            ]
          },
          "metadata": {},
          "execution_count": 64
        }
      ]
    },
    {
      "cell_type": "markdown",
      "source": [
        "## One-Hot Encoding"
      ],
      "metadata": {
        "id": "BD3j6_r-wA9I"
      }
    },
    {
      "cell_type": "code",
      "source": [
        "cols_to_onehot = list(cols_to_onehot)\n",
        "cols_to_onehot"
      ],
      "metadata": {
        "colab": {
          "base_uri": "https://localhost:8080/"
        },
        "id": "_B8OEjIMDtv1",
        "outputId": "ddcb271a-db9d-4046-c7b2-f365dcbc6fc0"
      },
      "execution_count": 65,
      "outputs": [
        {
          "output_type": "execute_result",
          "data": {
            "text/plain": [
              "['Neighborhood',\n",
              " 'Condition1',\n",
              " 'Condition2',\n",
              " 'HouseStyle',\n",
              " 'RoofMatl',\n",
              " 'Exterior1st',\n",
              " 'Exterior2nd',\n",
              " 'Functional',\n",
              " 'SaleType']"
            ]
          },
          "metadata": {},
          "execution_count": 65
        }
      ]
    },
    {
      "cell_type": "code",
      "source": [
        "import pandas as pd\n",
        "\n",
        "# apply one hot encoding to columns\n",
        "df_encoded = pd.get_dummies(df, columns=['Neighborhood','Condition1','Condition2','HouseStyle','RoofMatl','Exterior1st','Exterior2nd','Functional','SaleType'])\n",
        "\n",
        "# display the encoded dataframe\n",
        "print(df_encoded)\n"
      ],
      "metadata": {
        "id": "yUCLhF5iv5_4",
        "colab": {
          "base_uri": "https://localhost:8080/"
        },
        "outputId": "a86f9bcf-bcea-477b-f238-85d68ffd5e70"
      },
      "execution_count": 66,
      "outputs": [
        {
          "output_type": "stream",
          "name": "stdout",
          "text": [
            "        Id  MSSubClass  MSZoning  LotFrontage  LotArea  Street  LotShape  \\\n",
            "0        1          60         3     4.174387     8450       1         3   \n",
            "1        2          20         3     4.382027     9600       1         3   \n",
            "2        3          60         3     4.219508    11250       1         0   \n",
            "3        4          70         3     4.094345     9550       1         0   \n",
            "4        5          60         3     4.430817    14260       1         0   \n",
            "...    ...         ...       ...          ...      ...     ...       ...   \n",
            "1455  1456          60         3     4.127134     7917       1         3   \n",
            "1456  1457          20         3     4.442651    13175       1         3   \n",
            "1457  1458          70         3     4.189655     9042       1         3   \n",
            "1458  1459          20         3     4.219508     9717       1         3   \n",
            "1459  1460          20         3     4.317488     9937       1         3   \n",
            "\n",
            "      LandContour  Utilities  LotConfig  ...  Functional_Typ  SaleType_COD  \\\n",
            "0               3          0          4  ...               1             0   \n",
            "1               3          0          2  ...               1             0   \n",
            "2               3          0          4  ...               1             0   \n",
            "3               3          0          0  ...               1             0   \n",
            "4               3          0          2  ...               1             0   \n",
            "...           ...        ...        ...  ...             ...           ...   \n",
            "1455            3          0          4  ...               1             0   \n",
            "1456            3          0          4  ...               0             0   \n",
            "1457            3          0          4  ...               1             0   \n",
            "1458            3          0          4  ...               1             0   \n",
            "1459            3          0          4  ...               1             0   \n",
            "\n",
            "      SaleType_CWD  SaleType_Con  SaleType_ConLD  SaleType_ConLI  \\\n",
            "0                0             0               0               0   \n",
            "1                0             0               0               0   \n",
            "2                0             0               0               0   \n",
            "3                0             0               0               0   \n",
            "4                0             0               0               0   \n",
            "...            ...           ...             ...             ...   \n",
            "1455             0             0               0               0   \n",
            "1456             0             0               0               0   \n",
            "1457             0             0               0               0   \n",
            "1458             0             0               0               0   \n",
            "1459             0             0               0               0   \n",
            "\n",
            "      SaleType_ConLw  SaleType_New  SaleType_Oth  SaleType_WD  \n",
            "0                  0             0             0            1  \n",
            "1                  0             0             0            1  \n",
            "2                  0             0             0            1  \n",
            "3                  0             0             0            1  \n",
            "4                  0             0             0            1  \n",
            "...              ...           ...           ...          ...  \n",
            "1455               0             0             0            1  \n",
            "1456               0             0             0            1  \n",
            "1457               0             0             0            1  \n",
            "1458               0             0             0            1  \n",
            "1459               0             0             0            1  \n",
            "\n",
            "[1460 rows x 173 columns]\n"
          ]
        }
      ]
    },
    {
      "cell_type": "code",
      "source": [
        "df_encoded.head(4)"
      ],
      "metadata": {
        "colab": {
          "base_uri": "https://localhost:8080/",
          "height": 268
        },
        "id": "LmxVMiioXL6x",
        "outputId": "70e04c0a-e11d-44d8-c3b6-2b2a90bccf99"
      },
      "execution_count": 67,
      "outputs": [
        {
          "output_type": "execute_result",
          "data": {
            "text/plain": [
              "   Id  MSSubClass  MSZoning  LotFrontage  LotArea  Street  LotShape  \\\n",
              "0   1          60         3     4.174387     8450       1         3   \n",
              "1   2          20         3     4.382027     9600       1         3   \n",
              "2   3          60         3     4.219508    11250       1         0   \n",
              "3   4          70         3     4.094345     9550       1         0   \n",
              "\n",
              "   LandContour  Utilities  LotConfig  ...  Functional_Typ  SaleType_COD  \\\n",
              "0            3          0          4  ...               1             0   \n",
              "1            3          0          2  ...               1             0   \n",
              "2            3          0          4  ...               1             0   \n",
              "3            3          0          0  ...               1             0   \n",
              "\n",
              "   SaleType_CWD  SaleType_Con  SaleType_ConLD  SaleType_ConLI  SaleType_ConLw  \\\n",
              "0             0             0               0               0               0   \n",
              "1             0             0               0               0               0   \n",
              "2             0             0               0               0               0   \n",
              "3             0             0               0               0               0   \n",
              "\n",
              "   SaleType_New  SaleType_Oth  SaleType_WD  \n",
              "0             0             0            1  \n",
              "1             0             0            1  \n",
              "2             0             0            1  \n",
              "3             0             0            1  \n",
              "\n",
              "[4 rows x 173 columns]"
            ],
            "text/html": [
              "\n",
              "  <div id=\"df-459aa4f3-209d-453d-84a2-0fc7a6065667\">\n",
              "    <div class=\"colab-df-container\">\n",
              "      <div>\n",
              "<style scoped>\n",
              "    .dataframe tbody tr th:only-of-type {\n",
              "        vertical-align: middle;\n",
              "    }\n",
              "\n",
              "    .dataframe tbody tr th {\n",
              "        vertical-align: top;\n",
              "    }\n",
              "\n",
              "    .dataframe thead th {\n",
              "        text-align: right;\n",
              "    }\n",
              "</style>\n",
              "<table border=\"1\" class=\"dataframe\">\n",
              "  <thead>\n",
              "    <tr style=\"text-align: right;\">\n",
              "      <th></th>\n",
              "      <th>Id</th>\n",
              "      <th>MSSubClass</th>\n",
              "      <th>MSZoning</th>\n",
              "      <th>LotFrontage</th>\n",
              "      <th>LotArea</th>\n",
              "      <th>Street</th>\n",
              "      <th>LotShape</th>\n",
              "      <th>LandContour</th>\n",
              "      <th>Utilities</th>\n",
              "      <th>LotConfig</th>\n",
              "      <th>...</th>\n",
              "      <th>Functional_Typ</th>\n",
              "      <th>SaleType_COD</th>\n",
              "      <th>SaleType_CWD</th>\n",
              "      <th>SaleType_Con</th>\n",
              "      <th>SaleType_ConLD</th>\n",
              "      <th>SaleType_ConLI</th>\n",
              "      <th>SaleType_ConLw</th>\n",
              "      <th>SaleType_New</th>\n",
              "      <th>SaleType_Oth</th>\n",
              "      <th>SaleType_WD</th>\n",
              "    </tr>\n",
              "  </thead>\n",
              "  <tbody>\n",
              "    <tr>\n",
              "      <th>0</th>\n",
              "      <td>1</td>\n",
              "      <td>60</td>\n",
              "      <td>3</td>\n",
              "      <td>4.174387</td>\n",
              "      <td>8450</td>\n",
              "      <td>1</td>\n",
              "      <td>3</td>\n",
              "      <td>3</td>\n",
              "      <td>0</td>\n",
              "      <td>4</td>\n",
              "      <td>...</td>\n",
              "      <td>1</td>\n",
              "      <td>0</td>\n",
              "      <td>0</td>\n",
              "      <td>0</td>\n",
              "      <td>0</td>\n",
              "      <td>0</td>\n",
              "      <td>0</td>\n",
              "      <td>0</td>\n",
              "      <td>0</td>\n",
              "      <td>1</td>\n",
              "    </tr>\n",
              "    <tr>\n",
              "      <th>1</th>\n",
              "      <td>2</td>\n",
              "      <td>20</td>\n",
              "      <td>3</td>\n",
              "      <td>4.382027</td>\n",
              "      <td>9600</td>\n",
              "      <td>1</td>\n",
              "      <td>3</td>\n",
              "      <td>3</td>\n",
              "      <td>0</td>\n",
              "      <td>2</td>\n",
              "      <td>...</td>\n",
              "      <td>1</td>\n",
              "      <td>0</td>\n",
              "      <td>0</td>\n",
              "      <td>0</td>\n",
              "      <td>0</td>\n",
              "      <td>0</td>\n",
              "      <td>0</td>\n",
              "      <td>0</td>\n",
              "      <td>0</td>\n",
              "      <td>1</td>\n",
              "    </tr>\n",
              "    <tr>\n",
              "      <th>2</th>\n",
              "      <td>3</td>\n",
              "      <td>60</td>\n",
              "      <td>3</td>\n",
              "      <td>4.219508</td>\n",
              "      <td>11250</td>\n",
              "      <td>1</td>\n",
              "      <td>0</td>\n",
              "      <td>3</td>\n",
              "      <td>0</td>\n",
              "      <td>4</td>\n",
              "      <td>...</td>\n",
              "      <td>1</td>\n",
              "      <td>0</td>\n",
              "      <td>0</td>\n",
              "      <td>0</td>\n",
              "      <td>0</td>\n",
              "      <td>0</td>\n",
              "      <td>0</td>\n",
              "      <td>0</td>\n",
              "      <td>0</td>\n",
              "      <td>1</td>\n",
              "    </tr>\n",
              "    <tr>\n",
              "      <th>3</th>\n",
              "      <td>4</td>\n",
              "      <td>70</td>\n",
              "      <td>3</td>\n",
              "      <td>4.094345</td>\n",
              "      <td>9550</td>\n",
              "      <td>1</td>\n",
              "      <td>0</td>\n",
              "      <td>3</td>\n",
              "      <td>0</td>\n",
              "      <td>0</td>\n",
              "      <td>...</td>\n",
              "      <td>1</td>\n",
              "      <td>0</td>\n",
              "      <td>0</td>\n",
              "      <td>0</td>\n",
              "      <td>0</td>\n",
              "      <td>0</td>\n",
              "      <td>0</td>\n",
              "      <td>0</td>\n",
              "      <td>0</td>\n",
              "      <td>1</td>\n",
              "    </tr>\n",
              "  </tbody>\n",
              "</table>\n",
              "<p>4 rows × 173 columns</p>\n",
              "</div>\n",
              "      <button class=\"colab-df-convert\" onclick=\"convertToInteractive('df-459aa4f3-209d-453d-84a2-0fc7a6065667')\"\n",
              "              title=\"Convert this dataframe to an interactive table.\"\n",
              "              style=\"display:none;\">\n",
              "        \n",
              "  <svg xmlns=\"http://www.w3.org/2000/svg\" height=\"24px\"viewBox=\"0 0 24 24\"\n",
              "       width=\"24px\">\n",
              "    <path d=\"M0 0h24v24H0V0z\" fill=\"none\"/>\n",
              "    <path d=\"M18.56 5.44l.94 2.06.94-2.06 2.06-.94-2.06-.94-.94-2.06-.94 2.06-2.06.94zm-11 1L8.5 8.5l.94-2.06 2.06-.94-2.06-.94L8.5 2.5l-.94 2.06-2.06.94zm10 10l.94 2.06.94-2.06 2.06-.94-2.06-.94-.94-2.06-.94 2.06-2.06.94z\"/><path d=\"M17.41 7.96l-1.37-1.37c-.4-.4-.92-.59-1.43-.59-.52 0-1.04.2-1.43.59L10.3 9.45l-7.72 7.72c-.78.78-.78 2.05 0 2.83L4 21.41c.39.39.9.59 1.41.59.51 0 1.02-.2 1.41-.59l7.78-7.78 2.81-2.81c.8-.78.8-2.07 0-2.86zM5.41 20L4 18.59l7.72-7.72 1.47 1.35L5.41 20z\"/>\n",
              "  </svg>\n",
              "      </button>\n",
              "      \n",
              "  <style>\n",
              "    .colab-df-container {\n",
              "      display:flex;\n",
              "      flex-wrap:wrap;\n",
              "      gap: 12px;\n",
              "    }\n",
              "\n",
              "    .colab-df-convert {\n",
              "      background-color: #E8F0FE;\n",
              "      border: none;\n",
              "      border-radius: 50%;\n",
              "      cursor: pointer;\n",
              "      display: none;\n",
              "      fill: #1967D2;\n",
              "      height: 32px;\n",
              "      padding: 0 0 0 0;\n",
              "      width: 32px;\n",
              "    }\n",
              "\n",
              "    .colab-df-convert:hover {\n",
              "      background-color: #E2EBFA;\n",
              "      box-shadow: 0px 1px 2px rgba(60, 64, 67, 0.3), 0px 1px 3px 1px rgba(60, 64, 67, 0.15);\n",
              "      fill: #174EA6;\n",
              "    }\n",
              "\n",
              "    [theme=dark] .colab-df-convert {\n",
              "      background-color: #3B4455;\n",
              "      fill: #D2E3FC;\n",
              "    }\n",
              "\n",
              "    [theme=dark] .colab-df-convert:hover {\n",
              "      background-color: #434B5C;\n",
              "      box-shadow: 0px 1px 3px 1px rgba(0, 0, 0, 0.15);\n",
              "      filter: drop-shadow(0px 1px 2px rgba(0, 0, 0, 0.3));\n",
              "      fill: #FFFFFF;\n",
              "    }\n",
              "  </style>\n",
              "\n",
              "      <script>\n",
              "        const buttonEl =\n",
              "          document.querySelector('#df-459aa4f3-209d-453d-84a2-0fc7a6065667 button.colab-df-convert');\n",
              "        buttonEl.style.display =\n",
              "          google.colab.kernel.accessAllowed ? 'block' : 'none';\n",
              "\n",
              "        async function convertToInteractive(key) {\n",
              "          const element = document.querySelector('#df-459aa4f3-209d-453d-84a2-0fc7a6065667');\n",
              "          const dataTable =\n",
              "            await google.colab.kernel.invokeFunction('convertToInteractive',\n",
              "                                                     [key], {});\n",
              "          if (!dataTable) return;\n",
              "\n",
              "          const docLinkHtml = 'Like what you see? Visit the ' +\n",
              "            '<a target=\"_blank\" href=https://colab.research.google.com/notebooks/data_table.ipynb>data table notebook</a>'\n",
              "            + ' to learn more about interactive tables.';\n",
              "          element.innerHTML = '';\n",
              "          dataTable['output_type'] = 'display_data';\n",
              "          await google.colab.output.renderOutput(dataTable, element);\n",
              "          const docLink = document.createElement('div');\n",
              "          docLink.innerHTML = docLinkHtml;\n",
              "          element.appendChild(docLink);\n",
              "        }\n",
              "      </script>\n",
              "    </div>\n",
              "  </div>\n",
              "  "
            ]
          },
          "metadata": {},
          "execution_count": 67
        }
      ]
    },
    {
      "cell_type": "code",
      "source": [
        "result = [x for x in list(copy_df.columns) if x not in list(df_encoded.columns)]\n",
        "print(result)"
      ],
      "metadata": {
        "colab": {
          "base_uri": "https://localhost:8080/"
        },
        "id": "49bZnAEmV_Aa",
        "outputId": "0dff8249-6da7-4e6e-b653-b386cf0d428f"
      },
      "execution_count": 68,
      "outputs": [
        {
          "output_type": "stream",
          "name": "stdout",
          "text": [
            "['Neighborhood', 'Condition1', 'Condition2', 'HouseStyle', 'RoofMatl', 'Exterior1st', 'Exterior2nd', 'Functional', 'SaleType']\n"
          ]
        }
      ]
    },
    {
      "cell_type": "code",
      "source": [
        "result == cols_to_onehot"
      ],
      "metadata": {
        "colab": {
          "base_uri": "https://localhost:8080/"
        },
        "id": "JDCkrglNWfpg",
        "outputId": "2cc8fe73-8b5a-4400-bb29-6f1567be3207"
      },
      "execution_count": 69,
      "outputs": [
        {
          "output_type": "execute_result",
          "data": {
            "text/plain": [
              "True"
            ]
          },
          "metadata": {},
          "execution_count": 69
        }
      ]
    },
    {
      "cell_type": "markdown",
      "source": [
        "## Add Sale Price column to the df_encoded because its the target variable and its not there! "
      ],
      "metadata": {
        "id": "6QG8sij5Wyv5"
      }
    },
    {
      "cell_type": "code",
      "source": [
        "target_column = df_encoded.pop('SalePrice')"
      ],
      "metadata": {
        "id": "wKdRlveYXV2A"
      },
      "execution_count": 70,
      "outputs": []
    },
    {
      "cell_type": "code",
      "source": [
        "pos = len(df_encoded.columns)"
      ],
      "metadata": {
        "id": "6nvA8EunY89h"
      },
      "execution_count": 71,
      "outputs": []
    },
    {
      "cell_type": "code",
      "source": [
        "pos"
      ],
      "metadata": {
        "colab": {
          "base_uri": "https://localhost:8080/"
        },
        "id": "VJeNNfjEZZoy",
        "outputId": "9b449449-fd0a-40c0-b365-403598cda0aa"
      },
      "execution_count": 72,
      "outputs": [
        {
          "output_type": "execute_result",
          "data": {
            "text/plain": [
              "172"
            ]
          },
          "metadata": {},
          "execution_count": 72
        }
      ]
    },
    {
      "cell_type": "code",
      "source": [
        "df_encoded.insert(pos,'SalePrice', target_column)"
      ],
      "metadata": {
        "id": "XEGqNX6-Yf9F"
      },
      "execution_count": 73,
      "outputs": []
    },
    {
      "cell_type": "code",
      "source": [
        "df_encoded.head(5)"
      ],
      "metadata": {
        "colab": {
          "base_uri": "https://localhost:8080/",
          "height": 299
        },
        "id": "sDH5Cz6ZZrI6",
        "outputId": "23e9db14-323a-4379-d8c1-e979d0c33588"
      },
      "execution_count": 74,
      "outputs": [
        {
          "output_type": "execute_result",
          "data": {
            "text/plain": [
              "   Id  MSSubClass  MSZoning  LotFrontage  LotArea  Street  LotShape  \\\n",
              "0   1          60         3     4.174387     8450       1         3   \n",
              "1   2          20         3     4.382027     9600       1         3   \n",
              "2   3          60         3     4.219508    11250       1         0   \n",
              "3   4          70         3     4.094345     9550       1         0   \n",
              "4   5          60         3     4.430817    14260       1         0   \n",
              "\n",
              "   LandContour  Utilities  LotConfig  ...  SaleType_COD  SaleType_CWD  \\\n",
              "0            3          0          4  ...             0             0   \n",
              "1            3          0          2  ...             0             0   \n",
              "2            3          0          4  ...             0             0   \n",
              "3            3          0          0  ...             0             0   \n",
              "4            3          0          2  ...             0             0   \n",
              "\n",
              "   SaleType_Con  SaleType_ConLD  SaleType_ConLI  SaleType_ConLw  SaleType_New  \\\n",
              "0             0               0               0               0             0   \n",
              "1             0               0               0               0             0   \n",
              "2             0               0               0               0             0   \n",
              "3             0               0               0               0             0   \n",
              "4             0               0               0               0             0   \n",
              "\n",
              "   SaleType_Oth  SaleType_WD  SalePrice  \n",
              "0             0            1     208500  \n",
              "1             0            1     181500  \n",
              "2             0            1     223500  \n",
              "3             0            1     140000  \n",
              "4             0            1     250000  \n",
              "\n",
              "[5 rows x 173 columns]"
            ],
            "text/html": [
              "\n",
              "  <div id=\"df-7bc98cca-44a3-4639-b4a8-d2af2e385e28\">\n",
              "    <div class=\"colab-df-container\">\n",
              "      <div>\n",
              "<style scoped>\n",
              "    .dataframe tbody tr th:only-of-type {\n",
              "        vertical-align: middle;\n",
              "    }\n",
              "\n",
              "    .dataframe tbody tr th {\n",
              "        vertical-align: top;\n",
              "    }\n",
              "\n",
              "    .dataframe thead th {\n",
              "        text-align: right;\n",
              "    }\n",
              "</style>\n",
              "<table border=\"1\" class=\"dataframe\">\n",
              "  <thead>\n",
              "    <tr style=\"text-align: right;\">\n",
              "      <th></th>\n",
              "      <th>Id</th>\n",
              "      <th>MSSubClass</th>\n",
              "      <th>MSZoning</th>\n",
              "      <th>LotFrontage</th>\n",
              "      <th>LotArea</th>\n",
              "      <th>Street</th>\n",
              "      <th>LotShape</th>\n",
              "      <th>LandContour</th>\n",
              "      <th>Utilities</th>\n",
              "      <th>LotConfig</th>\n",
              "      <th>...</th>\n",
              "      <th>SaleType_COD</th>\n",
              "      <th>SaleType_CWD</th>\n",
              "      <th>SaleType_Con</th>\n",
              "      <th>SaleType_ConLD</th>\n",
              "      <th>SaleType_ConLI</th>\n",
              "      <th>SaleType_ConLw</th>\n",
              "      <th>SaleType_New</th>\n",
              "      <th>SaleType_Oth</th>\n",
              "      <th>SaleType_WD</th>\n",
              "      <th>SalePrice</th>\n",
              "    </tr>\n",
              "  </thead>\n",
              "  <tbody>\n",
              "    <tr>\n",
              "      <th>0</th>\n",
              "      <td>1</td>\n",
              "      <td>60</td>\n",
              "      <td>3</td>\n",
              "      <td>4.174387</td>\n",
              "      <td>8450</td>\n",
              "      <td>1</td>\n",
              "      <td>3</td>\n",
              "      <td>3</td>\n",
              "      <td>0</td>\n",
              "      <td>4</td>\n",
              "      <td>...</td>\n",
              "      <td>0</td>\n",
              "      <td>0</td>\n",
              "      <td>0</td>\n",
              "      <td>0</td>\n",
              "      <td>0</td>\n",
              "      <td>0</td>\n",
              "      <td>0</td>\n",
              "      <td>0</td>\n",
              "      <td>1</td>\n",
              "      <td>208500</td>\n",
              "    </tr>\n",
              "    <tr>\n",
              "      <th>1</th>\n",
              "      <td>2</td>\n",
              "      <td>20</td>\n",
              "      <td>3</td>\n",
              "      <td>4.382027</td>\n",
              "      <td>9600</td>\n",
              "      <td>1</td>\n",
              "      <td>3</td>\n",
              "      <td>3</td>\n",
              "      <td>0</td>\n",
              "      <td>2</td>\n",
              "      <td>...</td>\n",
              "      <td>0</td>\n",
              "      <td>0</td>\n",
              "      <td>0</td>\n",
              "      <td>0</td>\n",
              "      <td>0</td>\n",
              "      <td>0</td>\n",
              "      <td>0</td>\n",
              "      <td>0</td>\n",
              "      <td>1</td>\n",
              "      <td>181500</td>\n",
              "    </tr>\n",
              "    <tr>\n",
              "      <th>2</th>\n",
              "      <td>3</td>\n",
              "      <td>60</td>\n",
              "      <td>3</td>\n",
              "      <td>4.219508</td>\n",
              "      <td>11250</td>\n",
              "      <td>1</td>\n",
              "      <td>0</td>\n",
              "      <td>3</td>\n",
              "      <td>0</td>\n",
              "      <td>4</td>\n",
              "      <td>...</td>\n",
              "      <td>0</td>\n",
              "      <td>0</td>\n",
              "      <td>0</td>\n",
              "      <td>0</td>\n",
              "      <td>0</td>\n",
              "      <td>0</td>\n",
              "      <td>0</td>\n",
              "      <td>0</td>\n",
              "      <td>1</td>\n",
              "      <td>223500</td>\n",
              "    </tr>\n",
              "    <tr>\n",
              "      <th>3</th>\n",
              "      <td>4</td>\n",
              "      <td>70</td>\n",
              "      <td>3</td>\n",
              "      <td>4.094345</td>\n",
              "      <td>9550</td>\n",
              "      <td>1</td>\n",
              "      <td>0</td>\n",
              "      <td>3</td>\n",
              "      <td>0</td>\n",
              "      <td>0</td>\n",
              "      <td>...</td>\n",
              "      <td>0</td>\n",
              "      <td>0</td>\n",
              "      <td>0</td>\n",
              "      <td>0</td>\n",
              "      <td>0</td>\n",
              "      <td>0</td>\n",
              "      <td>0</td>\n",
              "      <td>0</td>\n",
              "      <td>1</td>\n",
              "      <td>140000</td>\n",
              "    </tr>\n",
              "    <tr>\n",
              "      <th>4</th>\n",
              "      <td>5</td>\n",
              "      <td>60</td>\n",
              "      <td>3</td>\n",
              "      <td>4.430817</td>\n",
              "      <td>14260</td>\n",
              "      <td>1</td>\n",
              "      <td>0</td>\n",
              "      <td>3</td>\n",
              "      <td>0</td>\n",
              "      <td>2</td>\n",
              "      <td>...</td>\n",
              "      <td>0</td>\n",
              "      <td>0</td>\n",
              "      <td>0</td>\n",
              "      <td>0</td>\n",
              "      <td>0</td>\n",
              "      <td>0</td>\n",
              "      <td>0</td>\n",
              "      <td>0</td>\n",
              "      <td>1</td>\n",
              "      <td>250000</td>\n",
              "    </tr>\n",
              "  </tbody>\n",
              "</table>\n",
              "<p>5 rows × 173 columns</p>\n",
              "</div>\n",
              "      <button class=\"colab-df-convert\" onclick=\"convertToInteractive('df-7bc98cca-44a3-4639-b4a8-d2af2e385e28')\"\n",
              "              title=\"Convert this dataframe to an interactive table.\"\n",
              "              style=\"display:none;\">\n",
              "        \n",
              "  <svg xmlns=\"http://www.w3.org/2000/svg\" height=\"24px\"viewBox=\"0 0 24 24\"\n",
              "       width=\"24px\">\n",
              "    <path d=\"M0 0h24v24H0V0z\" fill=\"none\"/>\n",
              "    <path d=\"M18.56 5.44l.94 2.06.94-2.06 2.06-.94-2.06-.94-.94-2.06-.94 2.06-2.06.94zm-11 1L8.5 8.5l.94-2.06 2.06-.94-2.06-.94L8.5 2.5l-.94 2.06-2.06.94zm10 10l.94 2.06.94-2.06 2.06-.94-2.06-.94-.94-2.06-.94 2.06-2.06.94z\"/><path d=\"M17.41 7.96l-1.37-1.37c-.4-.4-.92-.59-1.43-.59-.52 0-1.04.2-1.43.59L10.3 9.45l-7.72 7.72c-.78.78-.78 2.05 0 2.83L4 21.41c.39.39.9.59 1.41.59.51 0 1.02-.2 1.41-.59l7.78-7.78 2.81-2.81c.8-.78.8-2.07 0-2.86zM5.41 20L4 18.59l7.72-7.72 1.47 1.35L5.41 20z\"/>\n",
              "  </svg>\n",
              "      </button>\n",
              "      \n",
              "  <style>\n",
              "    .colab-df-container {\n",
              "      display:flex;\n",
              "      flex-wrap:wrap;\n",
              "      gap: 12px;\n",
              "    }\n",
              "\n",
              "    .colab-df-convert {\n",
              "      background-color: #E8F0FE;\n",
              "      border: none;\n",
              "      border-radius: 50%;\n",
              "      cursor: pointer;\n",
              "      display: none;\n",
              "      fill: #1967D2;\n",
              "      height: 32px;\n",
              "      padding: 0 0 0 0;\n",
              "      width: 32px;\n",
              "    }\n",
              "\n",
              "    .colab-df-convert:hover {\n",
              "      background-color: #E2EBFA;\n",
              "      box-shadow: 0px 1px 2px rgba(60, 64, 67, 0.3), 0px 1px 3px 1px rgba(60, 64, 67, 0.15);\n",
              "      fill: #174EA6;\n",
              "    }\n",
              "\n",
              "    [theme=dark] .colab-df-convert {\n",
              "      background-color: #3B4455;\n",
              "      fill: #D2E3FC;\n",
              "    }\n",
              "\n",
              "    [theme=dark] .colab-df-convert:hover {\n",
              "      background-color: #434B5C;\n",
              "      box-shadow: 0px 1px 3px 1px rgba(0, 0, 0, 0.15);\n",
              "      filter: drop-shadow(0px 1px 2px rgba(0, 0, 0, 0.3));\n",
              "      fill: #FFFFFF;\n",
              "    }\n",
              "  </style>\n",
              "\n",
              "      <script>\n",
              "        const buttonEl =\n",
              "          document.querySelector('#df-7bc98cca-44a3-4639-b4a8-d2af2e385e28 button.colab-df-convert');\n",
              "        buttonEl.style.display =\n",
              "          google.colab.kernel.accessAllowed ? 'block' : 'none';\n",
              "\n",
              "        async function convertToInteractive(key) {\n",
              "          const element = document.querySelector('#df-7bc98cca-44a3-4639-b4a8-d2af2e385e28');\n",
              "          const dataTable =\n",
              "            await google.colab.kernel.invokeFunction('convertToInteractive',\n",
              "                                                     [key], {});\n",
              "          if (!dataTable) return;\n",
              "\n",
              "          const docLinkHtml = 'Like what you see? Visit the ' +\n",
              "            '<a target=\"_blank\" href=https://colab.research.google.com/notebooks/data_table.ipynb>data table notebook</a>'\n",
              "            + ' to learn more about interactive tables.';\n",
              "          element.innerHTML = '';\n",
              "          dataTable['output_type'] = 'display_data';\n",
              "          await google.colab.output.renderOutput(dataTable, element);\n",
              "          const docLink = document.createElement('div');\n",
              "          docLink.innerHTML = docLinkHtml;\n",
              "          element.appendChild(docLink);\n",
              "        }\n",
              "      </script>\n",
              "    </div>\n",
              "  </div>\n",
              "  "
            ]
          },
          "metadata": {},
          "execution_count": 74
        }
      ]
    },
    {
      "cell_type": "markdown",
      "source": [
        "## Checking if any columns contain categorical values!"
      ],
      "metadata": {
        "id": "nzmtVj8JaHQC"
      }
    },
    {
      "cell_type": "code",
      "source": [
        "x = list(df_encoded.columns)\n",
        "for i in range(0,len(x)):\n",
        "  if pd.api.types.is_categorical_dtype(df_encoded[x[i]])==True:\n",
        "    print(x[i])"
      ],
      "metadata": {
        "id": "KXVaE9hJaLjb"
      },
      "execution_count": 75,
      "outputs": []
    },
    {
      "cell_type": "markdown",
      "source": [
        "## So none of the datatypes are categorical all are encoded ones and numeric.."
      ],
      "metadata": {
        "id": "chOfLjAPbyRx"
      }
    },
    {
      "cell_type": "markdown",
      "source": [
        "# Normalization of numeric columns"
      ],
      "metadata": {
        "id": "z9LKLdT0coDI"
      }
    },
    {
      "cell_type": "code",
      "source": [
        "numeric_columns_orig"
      ],
      "metadata": {
        "colab": {
          "base_uri": "https://localhost:8080/"
        },
        "id": "HNroEp5Tb50i",
        "outputId": "60630110-bafb-49f6-8ef4-a4fdfec1b8d8"
      },
      "execution_count": 76,
      "outputs": [
        {
          "output_type": "execute_result",
          "data": {
            "text/plain": [
              "['Id',\n",
              " 'MSSubClass',\n",
              " 'LotFrontage',\n",
              " 'LotArea',\n",
              " 'OverallQual',\n",
              " 'OverallCond',\n",
              " 'YearBuilt',\n",
              " 'YearRemodAdd',\n",
              " 'MasVnrArea',\n",
              " 'BsmtFinSF1',\n",
              " 'BsmtFinSF2',\n",
              " 'BsmtUnfSF',\n",
              " 'TotalBsmtSF',\n",
              " '1stFlrSF',\n",
              " '2ndFlrSF',\n",
              " 'LowQualFinSF',\n",
              " 'GrLivArea',\n",
              " 'BsmtFullBath',\n",
              " 'BsmtHalfBath',\n",
              " 'FullBath',\n",
              " 'HalfBath',\n",
              " 'BedroomAbvGr',\n",
              " 'KitchenAbvGr',\n",
              " 'TotRmsAbvGrd',\n",
              " 'Fireplaces',\n",
              " 'GarageYrBlt',\n",
              " 'GarageCars',\n",
              " 'GarageArea',\n",
              " 'WoodDeckSF',\n",
              " 'OpenPorchSF',\n",
              " 'EnclosedPorch',\n",
              " '3SsnPorch',\n",
              " 'ScreenPorch',\n",
              " 'PoolArea',\n",
              " 'MiscVal',\n",
              " 'MoSold',\n",
              " 'YrSold',\n",
              " 'SalePrice']"
            ]
          },
          "metadata": {},
          "execution_count": 76
        }
      ]
    },
    {
      "cell_type": "code",
      "source": [
        "numeric_columns_orig.remove('Id')"
      ],
      "metadata": {
        "id": "6MyERVsLfkdL"
      },
      "execution_count": 77,
      "outputs": []
    },
    {
      "cell_type": "code",
      "source": [
        "numeric_columns_orig.remove('SalePrice')"
      ],
      "metadata": {
        "id": "ys45K5nMgP7Z"
      },
      "execution_count": 78,
      "outputs": []
    },
    {
      "cell_type": "code",
      "source": [
        "len(numeric_columns_orig)"
      ],
      "metadata": {
        "colab": {
          "base_uri": "https://localhost:8080/"
        },
        "id": "dfnKKuWed4z6",
        "outputId": "ef90fd66-9eff-41e5-8155-99cb7a327ea6"
      },
      "execution_count": 79,
      "outputs": [
        {
          "output_type": "execute_result",
          "data": {
            "text/plain": [
              "36"
            ]
          },
          "metadata": {},
          "execution_count": 79
        }
      ]
    },
    {
      "cell_type": "code",
      "source": [
        "## These are the columns that i want to normalize\n",
        "numeric_columns_orig"
      ],
      "metadata": {
        "colab": {
          "base_uri": "https://localhost:8080/"
        },
        "id": "NmUZWGSvgUJC",
        "outputId": "e0e4b2fa-def1-42f7-c5f7-69db5e97727e"
      },
      "execution_count": 80,
      "outputs": [
        {
          "output_type": "execute_result",
          "data": {
            "text/plain": [
              "['MSSubClass',\n",
              " 'LotFrontage',\n",
              " 'LotArea',\n",
              " 'OverallQual',\n",
              " 'OverallCond',\n",
              " 'YearBuilt',\n",
              " 'YearRemodAdd',\n",
              " 'MasVnrArea',\n",
              " 'BsmtFinSF1',\n",
              " 'BsmtFinSF2',\n",
              " 'BsmtUnfSF',\n",
              " 'TotalBsmtSF',\n",
              " '1stFlrSF',\n",
              " '2ndFlrSF',\n",
              " 'LowQualFinSF',\n",
              " 'GrLivArea',\n",
              " 'BsmtFullBath',\n",
              " 'BsmtHalfBath',\n",
              " 'FullBath',\n",
              " 'HalfBath',\n",
              " 'BedroomAbvGr',\n",
              " 'KitchenAbvGr',\n",
              " 'TotRmsAbvGrd',\n",
              " 'Fireplaces',\n",
              " 'GarageYrBlt',\n",
              " 'GarageCars',\n",
              " 'GarageArea',\n",
              " 'WoodDeckSF',\n",
              " 'OpenPorchSF',\n",
              " 'EnclosedPorch',\n",
              " '3SsnPorch',\n",
              " 'ScreenPorch',\n",
              " 'PoolArea',\n",
              " 'MiscVal',\n",
              " 'MoSold',\n",
              " 'YrSold']"
            ]
          },
          "metadata": {},
          "execution_count": 80
        }
      ]
    },
    {
      "cell_type": "code",
      "source": [
        "final_norm_cols = numeric_columns_orig"
      ],
      "metadata": {
        "id": "Kx-UpWYuggFq"
      },
      "execution_count": 81,
      "outputs": []
    },
    {
      "cell_type": "markdown",
      "source": [
        "### These are the numeric columns that need to be normalized other than id and SalePrice(Response column)"
      ],
      "metadata": {
        "id": "V3PIIRbaeDVh"
      }
    },
    {
      "cell_type": "code",
      "source": [
        "# Lets Normalize!\n",
        "\n",
        "from sklearn.preprocessing import StandardScaler\n",
        "\n",
        "scaler = StandardScaler()\n",
        "\n",
        "df_encoded[final_norm_cols] = scaler.fit_transform(df_encoded[final_norm_cols]) "
      ],
      "metadata": {
        "id": "RHlBYk-leCqY"
      },
      "execution_count": 82,
      "outputs": []
    },
    {
      "cell_type": "code",
      "source": [
        "df_encoded.head(5)"
      ],
      "metadata": {
        "colab": {
          "base_uri": "https://localhost:8080/",
          "height": 299
        },
        "id": "rJNQLN69g2CC",
        "outputId": "c1e17b4b-350b-419e-e965-ab8fd69be4ae"
      },
      "execution_count": 83,
      "outputs": [
        {
          "output_type": "execute_result",
          "data": {
            "text/plain": [
              "   Id  MSSubClass  MSZoning  LotFrontage   LotArea  Street  LotShape  \\\n",
              "0   1    0.073375         3     0.001533 -0.207142       1         3   \n",
              "1   2   -0.872563         3     0.646396 -0.091886       1         3   \n",
              "2   3    0.073375         3     0.141663  0.073480       1         0   \n",
              "3   4    0.309859         3    -0.247054 -0.096897       1         0   \n",
              "4   5    0.073375         3     0.797923  0.375148       1         0   \n",
              "\n",
              "   LandContour  Utilities  LotConfig  ...  SaleType_COD  SaleType_CWD  \\\n",
              "0            3          0          4  ...             0             0   \n",
              "1            3          0          2  ...             0             0   \n",
              "2            3          0          4  ...             0             0   \n",
              "3            3          0          0  ...             0             0   \n",
              "4            3          0          2  ...             0             0   \n",
              "\n",
              "   SaleType_Con  SaleType_ConLD  SaleType_ConLI  SaleType_ConLw  SaleType_New  \\\n",
              "0             0               0               0               0             0   \n",
              "1             0               0               0               0             0   \n",
              "2             0               0               0               0             0   \n",
              "3             0               0               0               0             0   \n",
              "4             0               0               0               0             0   \n",
              "\n",
              "   SaleType_Oth  SaleType_WD  SalePrice  \n",
              "0             0            1     208500  \n",
              "1             0            1     181500  \n",
              "2             0            1     223500  \n",
              "3             0            1     140000  \n",
              "4             0            1     250000  \n",
              "\n",
              "[5 rows x 173 columns]"
            ],
            "text/html": [
              "\n",
              "  <div id=\"df-8b9d0b28-5e75-4392-bf73-f7478a49d24a\">\n",
              "    <div class=\"colab-df-container\">\n",
              "      <div>\n",
              "<style scoped>\n",
              "    .dataframe tbody tr th:only-of-type {\n",
              "        vertical-align: middle;\n",
              "    }\n",
              "\n",
              "    .dataframe tbody tr th {\n",
              "        vertical-align: top;\n",
              "    }\n",
              "\n",
              "    .dataframe thead th {\n",
              "        text-align: right;\n",
              "    }\n",
              "</style>\n",
              "<table border=\"1\" class=\"dataframe\">\n",
              "  <thead>\n",
              "    <tr style=\"text-align: right;\">\n",
              "      <th></th>\n",
              "      <th>Id</th>\n",
              "      <th>MSSubClass</th>\n",
              "      <th>MSZoning</th>\n",
              "      <th>LotFrontage</th>\n",
              "      <th>LotArea</th>\n",
              "      <th>Street</th>\n",
              "      <th>LotShape</th>\n",
              "      <th>LandContour</th>\n",
              "      <th>Utilities</th>\n",
              "      <th>LotConfig</th>\n",
              "      <th>...</th>\n",
              "      <th>SaleType_COD</th>\n",
              "      <th>SaleType_CWD</th>\n",
              "      <th>SaleType_Con</th>\n",
              "      <th>SaleType_ConLD</th>\n",
              "      <th>SaleType_ConLI</th>\n",
              "      <th>SaleType_ConLw</th>\n",
              "      <th>SaleType_New</th>\n",
              "      <th>SaleType_Oth</th>\n",
              "      <th>SaleType_WD</th>\n",
              "      <th>SalePrice</th>\n",
              "    </tr>\n",
              "  </thead>\n",
              "  <tbody>\n",
              "    <tr>\n",
              "      <th>0</th>\n",
              "      <td>1</td>\n",
              "      <td>0.073375</td>\n",
              "      <td>3</td>\n",
              "      <td>0.001533</td>\n",
              "      <td>-0.207142</td>\n",
              "      <td>1</td>\n",
              "      <td>3</td>\n",
              "      <td>3</td>\n",
              "      <td>0</td>\n",
              "      <td>4</td>\n",
              "      <td>...</td>\n",
              "      <td>0</td>\n",
              "      <td>0</td>\n",
              "      <td>0</td>\n",
              "      <td>0</td>\n",
              "      <td>0</td>\n",
              "      <td>0</td>\n",
              "      <td>0</td>\n",
              "      <td>0</td>\n",
              "      <td>1</td>\n",
              "      <td>208500</td>\n",
              "    </tr>\n",
              "    <tr>\n",
              "      <th>1</th>\n",
              "      <td>2</td>\n",
              "      <td>-0.872563</td>\n",
              "      <td>3</td>\n",
              "      <td>0.646396</td>\n",
              "      <td>-0.091886</td>\n",
              "      <td>1</td>\n",
              "      <td>3</td>\n",
              "      <td>3</td>\n",
              "      <td>0</td>\n",
              "      <td>2</td>\n",
              "      <td>...</td>\n",
              "      <td>0</td>\n",
              "      <td>0</td>\n",
              "      <td>0</td>\n",
              "      <td>0</td>\n",
              "      <td>0</td>\n",
              "      <td>0</td>\n",
              "      <td>0</td>\n",
              "      <td>0</td>\n",
              "      <td>1</td>\n",
              "      <td>181500</td>\n",
              "    </tr>\n",
              "    <tr>\n",
              "      <th>2</th>\n",
              "      <td>3</td>\n",
              "      <td>0.073375</td>\n",
              "      <td>3</td>\n",
              "      <td>0.141663</td>\n",
              "      <td>0.073480</td>\n",
              "      <td>1</td>\n",
              "      <td>0</td>\n",
              "      <td>3</td>\n",
              "      <td>0</td>\n",
              "      <td>4</td>\n",
              "      <td>...</td>\n",
              "      <td>0</td>\n",
              "      <td>0</td>\n",
              "      <td>0</td>\n",
              "      <td>0</td>\n",
              "      <td>0</td>\n",
              "      <td>0</td>\n",
              "      <td>0</td>\n",
              "      <td>0</td>\n",
              "      <td>1</td>\n",
              "      <td>223500</td>\n",
              "    </tr>\n",
              "    <tr>\n",
              "      <th>3</th>\n",
              "      <td>4</td>\n",
              "      <td>0.309859</td>\n",
              "      <td>3</td>\n",
              "      <td>-0.247054</td>\n",
              "      <td>-0.096897</td>\n",
              "      <td>1</td>\n",
              "      <td>0</td>\n",
              "      <td>3</td>\n",
              "      <td>0</td>\n",
              "      <td>0</td>\n",
              "      <td>...</td>\n",
              "      <td>0</td>\n",
              "      <td>0</td>\n",
              "      <td>0</td>\n",
              "      <td>0</td>\n",
              "      <td>0</td>\n",
              "      <td>0</td>\n",
              "      <td>0</td>\n",
              "      <td>0</td>\n",
              "      <td>1</td>\n",
              "      <td>140000</td>\n",
              "    </tr>\n",
              "    <tr>\n",
              "      <th>4</th>\n",
              "      <td>5</td>\n",
              "      <td>0.073375</td>\n",
              "      <td>3</td>\n",
              "      <td>0.797923</td>\n",
              "      <td>0.375148</td>\n",
              "      <td>1</td>\n",
              "      <td>0</td>\n",
              "      <td>3</td>\n",
              "      <td>0</td>\n",
              "      <td>2</td>\n",
              "      <td>...</td>\n",
              "      <td>0</td>\n",
              "      <td>0</td>\n",
              "      <td>0</td>\n",
              "      <td>0</td>\n",
              "      <td>0</td>\n",
              "      <td>0</td>\n",
              "      <td>0</td>\n",
              "      <td>0</td>\n",
              "      <td>1</td>\n",
              "      <td>250000</td>\n",
              "    </tr>\n",
              "  </tbody>\n",
              "</table>\n",
              "<p>5 rows × 173 columns</p>\n",
              "</div>\n",
              "      <button class=\"colab-df-convert\" onclick=\"convertToInteractive('df-8b9d0b28-5e75-4392-bf73-f7478a49d24a')\"\n",
              "              title=\"Convert this dataframe to an interactive table.\"\n",
              "              style=\"display:none;\">\n",
              "        \n",
              "  <svg xmlns=\"http://www.w3.org/2000/svg\" height=\"24px\"viewBox=\"0 0 24 24\"\n",
              "       width=\"24px\">\n",
              "    <path d=\"M0 0h24v24H0V0z\" fill=\"none\"/>\n",
              "    <path d=\"M18.56 5.44l.94 2.06.94-2.06 2.06-.94-2.06-.94-.94-2.06-.94 2.06-2.06.94zm-11 1L8.5 8.5l.94-2.06 2.06-.94-2.06-.94L8.5 2.5l-.94 2.06-2.06.94zm10 10l.94 2.06.94-2.06 2.06-.94-2.06-.94-.94-2.06-.94 2.06-2.06.94z\"/><path d=\"M17.41 7.96l-1.37-1.37c-.4-.4-.92-.59-1.43-.59-.52 0-1.04.2-1.43.59L10.3 9.45l-7.72 7.72c-.78.78-.78 2.05 0 2.83L4 21.41c.39.39.9.59 1.41.59.51 0 1.02-.2 1.41-.59l7.78-7.78 2.81-2.81c.8-.78.8-2.07 0-2.86zM5.41 20L4 18.59l7.72-7.72 1.47 1.35L5.41 20z\"/>\n",
              "  </svg>\n",
              "      </button>\n",
              "      \n",
              "  <style>\n",
              "    .colab-df-container {\n",
              "      display:flex;\n",
              "      flex-wrap:wrap;\n",
              "      gap: 12px;\n",
              "    }\n",
              "\n",
              "    .colab-df-convert {\n",
              "      background-color: #E8F0FE;\n",
              "      border: none;\n",
              "      border-radius: 50%;\n",
              "      cursor: pointer;\n",
              "      display: none;\n",
              "      fill: #1967D2;\n",
              "      height: 32px;\n",
              "      padding: 0 0 0 0;\n",
              "      width: 32px;\n",
              "    }\n",
              "\n",
              "    .colab-df-convert:hover {\n",
              "      background-color: #E2EBFA;\n",
              "      box-shadow: 0px 1px 2px rgba(60, 64, 67, 0.3), 0px 1px 3px 1px rgba(60, 64, 67, 0.15);\n",
              "      fill: #174EA6;\n",
              "    }\n",
              "\n",
              "    [theme=dark] .colab-df-convert {\n",
              "      background-color: #3B4455;\n",
              "      fill: #D2E3FC;\n",
              "    }\n",
              "\n",
              "    [theme=dark] .colab-df-convert:hover {\n",
              "      background-color: #434B5C;\n",
              "      box-shadow: 0px 1px 3px 1px rgba(0, 0, 0, 0.15);\n",
              "      filter: drop-shadow(0px 1px 2px rgba(0, 0, 0, 0.3));\n",
              "      fill: #FFFFFF;\n",
              "    }\n",
              "  </style>\n",
              "\n",
              "      <script>\n",
              "        const buttonEl =\n",
              "          document.querySelector('#df-8b9d0b28-5e75-4392-bf73-f7478a49d24a button.colab-df-convert');\n",
              "        buttonEl.style.display =\n",
              "          google.colab.kernel.accessAllowed ? 'block' : 'none';\n",
              "\n",
              "        async function convertToInteractive(key) {\n",
              "          const element = document.querySelector('#df-8b9d0b28-5e75-4392-bf73-f7478a49d24a');\n",
              "          const dataTable =\n",
              "            await google.colab.kernel.invokeFunction('convertToInteractive',\n",
              "                                                     [key], {});\n",
              "          if (!dataTable) return;\n",
              "\n",
              "          const docLinkHtml = 'Like what you see? Visit the ' +\n",
              "            '<a target=\"_blank\" href=https://colab.research.google.com/notebooks/data_table.ipynb>data table notebook</a>'\n",
              "            + ' to learn more about interactive tables.';\n",
              "          element.innerHTML = '';\n",
              "          dataTable['output_type'] = 'display_data';\n",
              "          await google.colab.output.renderOutput(dataTable, element);\n",
              "          const docLink = document.createElement('div');\n",
              "          docLink.innerHTML = docLinkHtml;\n",
              "          element.appendChild(docLink);\n",
              "        }\n",
              "      </script>\n",
              "    </div>\n",
              "  </div>\n",
              "  "
            ]
          },
          "metadata": {},
          "execution_count": 83
        }
      ]
    },
    {
      "cell_type": "markdown",
      "source": [
        "## Now Preprocessing part is done We have the dataframe to be fitted with various models!"
      ],
      "metadata": {
        "id": "LerCW0WOg9wF"
      }
    },
    {
      "cell_type": "markdown",
      "source": [
        "# 3) Implement the all the 5 regression models separately on the data set"
      ],
      "metadata": {
        "id": "FzxEGFD9hQ7i"
      }
    },
    {
      "cell_type": "markdown",
      "source": [
        "# 4. Computing the Mean Squared Error along with the regression models respectively"
      ],
      "metadata": {
        "id": "84nkU7G0qCka"
      }
    },
    {
      "cell_type": "markdown",
      "source": [
        "1.Simple Linear Regression"
      ],
      "metadata": {
        "id": "Gg3MC8CghpCI"
      }
    },
    {
      "cell_type": "code",
      "source": [
        "## This is Evaluation matrics function for all the models that we are going to check with!\n",
        "\n",
        "# Evaluation Metrics\n",
        "\n",
        "def Emetrics(y_test,y_pred):\n",
        "  from sklearn import metrics\n",
        "\n",
        "  # Print result of MAE\n",
        "  print(f\"Mean Absoulute error is : {metrics.mean_absolute_error(y_test,y_pred)}\")\n",
        "\n",
        "  # Print result of MSE\n",
        "  print(f\"Mean Squared error is: {metrics.mean_squared_error(y_test,y_pred)}\")\n",
        "\n",
        "  # Print result of RMSE\n",
        "  print(f\"Root Mean Square error is: {np.sqrt(metrics.mean_squared_error(y_test,y_pred))}\")\n",
        "\n",
        "  # Print result of R2\n",
        "  print(f\"R2 score is: {metrics.r2_score(y_test,y_pred)}\")"
      ],
      "metadata": {
        "id": "N8Z-0xzoi1wT"
      },
      "execution_count": 84,
      "outputs": []
    },
    {
      "cell_type": "code",
      "source": [
        "df_encoded.head(5)"
      ],
      "metadata": {
        "colab": {
          "base_uri": "https://localhost:8080/",
          "height": 299
        },
        "id": "AHE9CN8hhDi7",
        "outputId": "98349c67-0900-409c-cf0c-8b2c65c4dc51"
      },
      "execution_count": 85,
      "outputs": [
        {
          "output_type": "execute_result",
          "data": {
            "text/plain": [
              "   Id  MSSubClass  MSZoning  LotFrontage   LotArea  Street  LotShape  \\\n",
              "0   1    0.073375         3     0.001533 -0.207142       1         3   \n",
              "1   2   -0.872563         3     0.646396 -0.091886       1         3   \n",
              "2   3    0.073375         3     0.141663  0.073480       1         0   \n",
              "3   4    0.309859         3    -0.247054 -0.096897       1         0   \n",
              "4   5    0.073375         3     0.797923  0.375148       1         0   \n",
              "\n",
              "   LandContour  Utilities  LotConfig  ...  SaleType_COD  SaleType_CWD  \\\n",
              "0            3          0          4  ...             0             0   \n",
              "1            3          0          2  ...             0             0   \n",
              "2            3          0          4  ...             0             0   \n",
              "3            3          0          0  ...             0             0   \n",
              "4            3          0          2  ...             0             0   \n",
              "\n",
              "   SaleType_Con  SaleType_ConLD  SaleType_ConLI  SaleType_ConLw  SaleType_New  \\\n",
              "0             0               0               0               0             0   \n",
              "1             0               0               0               0             0   \n",
              "2             0               0               0               0             0   \n",
              "3             0               0               0               0             0   \n",
              "4             0               0               0               0             0   \n",
              "\n",
              "   SaleType_Oth  SaleType_WD  SalePrice  \n",
              "0             0            1     208500  \n",
              "1             0            1     181500  \n",
              "2             0            1     223500  \n",
              "3             0            1     140000  \n",
              "4             0            1     250000  \n",
              "\n",
              "[5 rows x 173 columns]"
            ],
            "text/html": [
              "\n",
              "  <div id=\"df-aaafdf23-140b-4238-b7a3-7d157ddbae3d\">\n",
              "    <div class=\"colab-df-container\">\n",
              "      <div>\n",
              "<style scoped>\n",
              "    .dataframe tbody tr th:only-of-type {\n",
              "        vertical-align: middle;\n",
              "    }\n",
              "\n",
              "    .dataframe tbody tr th {\n",
              "        vertical-align: top;\n",
              "    }\n",
              "\n",
              "    .dataframe thead th {\n",
              "        text-align: right;\n",
              "    }\n",
              "</style>\n",
              "<table border=\"1\" class=\"dataframe\">\n",
              "  <thead>\n",
              "    <tr style=\"text-align: right;\">\n",
              "      <th></th>\n",
              "      <th>Id</th>\n",
              "      <th>MSSubClass</th>\n",
              "      <th>MSZoning</th>\n",
              "      <th>LotFrontage</th>\n",
              "      <th>LotArea</th>\n",
              "      <th>Street</th>\n",
              "      <th>LotShape</th>\n",
              "      <th>LandContour</th>\n",
              "      <th>Utilities</th>\n",
              "      <th>LotConfig</th>\n",
              "      <th>...</th>\n",
              "      <th>SaleType_COD</th>\n",
              "      <th>SaleType_CWD</th>\n",
              "      <th>SaleType_Con</th>\n",
              "      <th>SaleType_ConLD</th>\n",
              "      <th>SaleType_ConLI</th>\n",
              "      <th>SaleType_ConLw</th>\n",
              "      <th>SaleType_New</th>\n",
              "      <th>SaleType_Oth</th>\n",
              "      <th>SaleType_WD</th>\n",
              "      <th>SalePrice</th>\n",
              "    </tr>\n",
              "  </thead>\n",
              "  <tbody>\n",
              "    <tr>\n",
              "      <th>0</th>\n",
              "      <td>1</td>\n",
              "      <td>0.073375</td>\n",
              "      <td>3</td>\n",
              "      <td>0.001533</td>\n",
              "      <td>-0.207142</td>\n",
              "      <td>1</td>\n",
              "      <td>3</td>\n",
              "      <td>3</td>\n",
              "      <td>0</td>\n",
              "      <td>4</td>\n",
              "      <td>...</td>\n",
              "      <td>0</td>\n",
              "      <td>0</td>\n",
              "      <td>0</td>\n",
              "      <td>0</td>\n",
              "      <td>0</td>\n",
              "      <td>0</td>\n",
              "      <td>0</td>\n",
              "      <td>0</td>\n",
              "      <td>1</td>\n",
              "      <td>208500</td>\n",
              "    </tr>\n",
              "    <tr>\n",
              "      <th>1</th>\n",
              "      <td>2</td>\n",
              "      <td>-0.872563</td>\n",
              "      <td>3</td>\n",
              "      <td>0.646396</td>\n",
              "      <td>-0.091886</td>\n",
              "      <td>1</td>\n",
              "      <td>3</td>\n",
              "      <td>3</td>\n",
              "      <td>0</td>\n",
              "      <td>2</td>\n",
              "      <td>...</td>\n",
              "      <td>0</td>\n",
              "      <td>0</td>\n",
              "      <td>0</td>\n",
              "      <td>0</td>\n",
              "      <td>0</td>\n",
              "      <td>0</td>\n",
              "      <td>0</td>\n",
              "      <td>0</td>\n",
              "      <td>1</td>\n",
              "      <td>181500</td>\n",
              "    </tr>\n",
              "    <tr>\n",
              "      <th>2</th>\n",
              "      <td>3</td>\n",
              "      <td>0.073375</td>\n",
              "      <td>3</td>\n",
              "      <td>0.141663</td>\n",
              "      <td>0.073480</td>\n",
              "      <td>1</td>\n",
              "      <td>0</td>\n",
              "      <td>3</td>\n",
              "      <td>0</td>\n",
              "      <td>4</td>\n",
              "      <td>...</td>\n",
              "      <td>0</td>\n",
              "      <td>0</td>\n",
              "      <td>0</td>\n",
              "      <td>0</td>\n",
              "      <td>0</td>\n",
              "      <td>0</td>\n",
              "      <td>0</td>\n",
              "      <td>0</td>\n",
              "      <td>1</td>\n",
              "      <td>223500</td>\n",
              "    </tr>\n",
              "    <tr>\n",
              "      <th>3</th>\n",
              "      <td>4</td>\n",
              "      <td>0.309859</td>\n",
              "      <td>3</td>\n",
              "      <td>-0.247054</td>\n",
              "      <td>-0.096897</td>\n",
              "      <td>1</td>\n",
              "      <td>0</td>\n",
              "      <td>3</td>\n",
              "      <td>0</td>\n",
              "      <td>0</td>\n",
              "      <td>...</td>\n",
              "      <td>0</td>\n",
              "      <td>0</td>\n",
              "      <td>0</td>\n",
              "      <td>0</td>\n",
              "      <td>0</td>\n",
              "      <td>0</td>\n",
              "      <td>0</td>\n",
              "      <td>0</td>\n",
              "      <td>1</td>\n",
              "      <td>140000</td>\n",
              "    </tr>\n",
              "    <tr>\n",
              "      <th>4</th>\n",
              "      <td>5</td>\n",
              "      <td>0.073375</td>\n",
              "      <td>3</td>\n",
              "      <td>0.797923</td>\n",
              "      <td>0.375148</td>\n",
              "      <td>1</td>\n",
              "      <td>0</td>\n",
              "      <td>3</td>\n",
              "      <td>0</td>\n",
              "      <td>2</td>\n",
              "      <td>...</td>\n",
              "      <td>0</td>\n",
              "      <td>0</td>\n",
              "      <td>0</td>\n",
              "      <td>0</td>\n",
              "      <td>0</td>\n",
              "      <td>0</td>\n",
              "      <td>0</td>\n",
              "      <td>0</td>\n",
              "      <td>1</td>\n",
              "      <td>250000</td>\n",
              "    </tr>\n",
              "  </tbody>\n",
              "</table>\n",
              "<p>5 rows × 173 columns</p>\n",
              "</div>\n",
              "      <button class=\"colab-df-convert\" onclick=\"convertToInteractive('df-aaafdf23-140b-4238-b7a3-7d157ddbae3d')\"\n",
              "              title=\"Convert this dataframe to an interactive table.\"\n",
              "              style=\"display:none;\">\n",
              "        \n",
              "  <svg xmlns=\"http://www.w3.org/2000/svg\" height=\"24px\"viewBox=\"0 0 24 24\"\n",
              "       width=\"24px\">\n",
              "    <path d=\"M0 0h24v24H0V0z\" fill=\"none\"/>\n",
              "    <path d=\"M18.56 5.44l.94 2.06.94-2.06 2.06-.94-2.06-.94-.94-2.06-.94 2.06-2.06.94zm-11 1L8.5 8.5l.94-2.06 2.06-.94-2.06-.94L8.5 2.5l-.94 2.06-2.06.94zm10 10l.94 2.06.94-2.06 2.06-.94-2.06-.94-.94-2.06-.94 2.06-2.06.94z\"/><path d=\"M17.41 7.96l-1.37-1.37c-.4-.4-.92-.59-1.43-.59-.52 0-1.04.2-1.43.59L10.3 9.45l-7.72 7.72c-.78.78-.78 2.05 0 2.83L4 21.41c.39.39.9.59 1.41.59.51 0 1.02-.2 1.41-.59l7.78-7.78 2.81-2.81c.8-.78.8-2.07 0-2.86zM5.41 20L4 18.59l7.72-7.72 1.47 1.35L5.41 20z\"/>\n",
              "  </svg>\n",
              "      </button>\n",
              "      \n",
              "  <style>\n",
              "    .colab-df-container {\n",
              "      display:flex;\n",
              "      flex-wrap:wrap;\n",
              "      gap: 12px;\n",
              "    }\n",
              "\n",
              "    .colab-df-convert {\n",
              "      background-color: #E8F0FE;\n",
              "      border: none;\n",
              "      border-radius: 50%;\n",
              "      cursor: pointer;\n",
              "      display: none;\n",
              "      fill: #1967D2;\n",
              "      height: 32px;\n",
              "      padding: 0 0 0 0;\n",
              "      width: 32px;\n",
              "    }\n",
              "\n",
              "    .colab-df-convert:hover {\n",
              "      background-color: #E2EBFA;\n",
              "      box-shadow: 0px 1px 2px rgba(60, 64, 67, 0.3), 0px 1px 3px 1px rgba(60, 64, 67, 0.15);\n",
              "      fill: #174EA6;\n",
              "    }\n",
              "\n",
              "    [theme=dark] .colab-df-convert {\n",
              "      background-color: #3B4455;\n",
              "      fill: #D2E3FC;\n",
              "    }\n",
              "\n",
              "    [theme=dark] .colab-df-convert:hover {\n",
              "      background-color: #434B5C;\n",
              "      box-shadow: 0px 1px 3px 1px rgba(0, 0, 0, 0.15);\n",
              "      filter: drop-shadow(0px 1px 2px rgba(0, 0, 0, 0.3));\n",
              "      fill: #FFFFFF;\n",
              "    }\n",
              "  </style>\n",
              "\n",
              "      <script>\n",
              "        const buttonEl =\n",
              "          document.querySelector('#df-aaafdf23-140b-4238-b7a3-7d157ddbae3d button.colab-df-convert');\n",
              "        buttonEl.style.display =\n",
              "          google.colab.kernel.accessAllowed ? 'block' : 'none';\n",
              "\n",
              "        async function convertToInteractive(key) {\n",
              "          const element = document.querySelector('#df-aaafdf23-140b-4238-b7a3-7d157ddbae3d');\n",
              "          const dataTable =\n",
              "            await google.colab.kernel.invokeFunction('convertToInteractive',\n",
              "                                                     [key], {});\n",
              "          if (!dataTable) return;\n",
              "\n",
              "          const docLinkHtml = 'Like what you see? Visit the ' +\n",
              "            '<a target=\"_blank\" href=https://colab.research.google.com/notebooks/data_table.ipynb>data table notebook</a>'\n",
              "            + ' to learn more about interactive tables.';\n",
              "          element.innerHTML = '';\n",
              "          dataTable['output_type'] = 'display_data';\n",
              "          await google.colab.output.renderOutput(dataTable, element);\n",
              "          const docLink = document.createElement('div');\n",
              "          docLink.innerHTML = docLinkHtml;\n",
              "          element.appendChild(docLink);\n",
              "        }\n",
              "      </script>\n",
              "    </div>\n",
              "  </div>\n",
              "  "
            ]
          },
          "metadata": {},
          "execution_count": 85
        }
      ]
    },
    {
      "cell_type": "code",
      "source": [
        "kdf = df_encoded\n",
        "kdf.head(5)"
      ],
      "metadata": {
        "colab": {
          "base_uri": "https://localhost:8080/",
          "height": 299
        },
        "id": "3yKFjxF7h-QA",
        "outputId": "f8464aca-df7a-4e00-bfa1-54c0ed85fc1c"
      },
      "execution_count": 86,
      "outputs": [
        {
          "output_type": "execute_result",
          "data": {
            "text/plain": [
              "   Id  MSSubClass  MSZoning  LotFrontage   LotArea  Street  LotShape  \\\n",
              "0   1    0.073375         3     0.001533 -0.207142       1         3   \n",
              "1   2   -0.872563         3     0.646396 -0.091886       1         3   \n",
              "2   3    0.073375         3     0.141663  0.073480       1         0   \n",
              "3   4    0.309859         3    -0.247054 -0.096897       1         0   \n",
              "4   5    0.073375         3     0.797923  0.375148       1         0   \n",
              "\n",
              "   LandContour  Utilities  LotConfig  ...  SaleType_COD  SaleType_CWD  \\\n",
              "0            3          0          4  ...             0             0   \n",
              "1            3          0          2  ...             0             0   \n",
              "2            3          0          4  ...             0             0   \n",
              "3            3          0          0  ...             0             0   \n",
              "4            3          0          2  ...             0             0   \n",
              "\n",
              "   SaleType_Con  SaleType_ConLD  SaleType_ConLI  SaleType_ConLw  SaleType_New  \\\n",
              "0             0               0               0               0             0   \n",
              "1             0               0               0               0             0   \n",
              "2             0               0               0               0             0   \n",
              "3             0               0               0               0             0   \n",
              "4             0               0               0               0             0   \n",
              "\n",
              "   SaleType_Oth  SaleType_WD  SalePrice  \n",
              "0             0            1     208500  \n",
              "1             0            1     181500  \n",
              "2             0            1     223500  \n",
              "3             0            1     140000  \n",
              "4             0            1     250000  \n",
              "\n",
              "[5 rows x 173 columns]"
            ],
            "text/html": [
              "\n",
              "  <div id=\"df-824d817f-751d-4e87-9176-9c56e143bced\">\n",
              "    <div class=\"colab-df-container\">\n",
              "      <div>\n",
              "<style scoped>\n",
              "    .dataframe tbody tr th:only-of-type {\n",
              "        vertical-align: middle;\n",
              "    }\n",
              "\n",
              "    .dataframe tbody tr th {\n",
              "        vertical-align: top;\n",
              "    }\n",
              "\n",
              "    .dataframe thead th {\n",
              "        text-align: right;\n",
              "    }\n",
              "</style>\n",
              "<table border=\"1\" class=\"dataframe\">\n",
              "  <thead>\n",
              "    <tr style=\"text-align: right;\">\n",
              "      <th></th>\n",
              "      <th>Id</th>\n",
              "      <th>MSSubClass</th>\n",
              "      <th>MSZoning</th>\n",
              "      <th>LotFrontage</th>\n",
              "      <th>LotArea</th>\n",
              "      <th>Street</th>\n",
              "      <th>LotShape</th>\n",
              "      <th>LandContour</th>\n",
              "      <th>Utilities</th>\n",
              "      <th>LotConfig</th>\n",
              "      <th>...</th>\n",
              "      <th>SaleType_COD</th>\n",
              "      <th>SaleType_CWD</th>\n",
              "      <th>SaleType_Con</th>\n",
              "      <th>SaleType_ConLD</th>\n",
              "      <th>SaleType_ConLI</th>\n",
              "      <th>SaleType_ConLw</th>\n",
              "      <th>SaleType_New</th>\n",
              "      <th>SaleType_Oth</th>\n",
              "      <th>SaleType_WD</th>\n",
              "      <th>SalePrice</th>\n",
              "    </tr>\n",
              "  </thead>\n",
              "  <tbody>\n",
              "    <tr>\n",
              "      <th>0</th>\n",
              "      <td>1</td>\n",
              "      <td>0.073375</td>\n",
              "      <td>3</td>\n",
              "      <td>0.001533</td>\n",
              "      <td>-0.207142</td>\n",
              "      <td>1</td>\n",
              "      <td>3</td>\n",
              "      <td>3</td>\n",
              "      <td>0</td>\n",
              "      <td>4</td>\n",
              "      <td>...</td>\n",
              "      <td>0</td>\n",
              "      <td>0</td>\n",
              "      <td>0</td>\n",
              "      <td>0</td>\n",
              "      <td>0</td>\n",
              "      <td>0</td>\n",
              "      <td>0</td>\n",
              "      <td>0</td>\n",
              "      <td>1</td>\n",
              "      <td>208500</td>\n",
              "    </tr>\n",
              "    <tr>\n",
              "      <th>1</th>\n",
              "      <td>2</td>\n",
              "      <td>-0.872563</td>\n",
              "      <td>3</td>\n",
              "      <td>0.646396</td>\n",
              "      <td>-0.091886</td>\n",
              "      <td>1</td>\n",
              "      <td>3</td>\n",
              "      <td>3</td>\n",
              "      <td>0</td>\n",
              "      <td>2</td>\n",
              "      <td>...</td>\n",
              "      <td>0</td>\n",
              "      <td>0</td>\n",
              "      <td>0</td>\n",
              "      <td>0</td>\n",
              "      <td>0</td>\n",
              "      <td>0</td>\n",
              "      <td>0</td>\n",
              "      <td>0</td>\n",
              "      <td>1</td>\n",
              "      <td>181500</td>\n",
              "    </tr>\n",
              "    <tr>\n",
              "      <th>2</th>\n",
              "      <td>3</td>\n",
              "      <td>0.073375</td>\n",
              "      <td>3</td>\n",
              "      <td>0.141663</td>\n",
              "      <td>0.073480</td>\n",
              "      <td>1</td>\n",
              "      <td>0</td>\n",
              "      <td>3</td>\n",
              "      <td>0</td>\n",
              "      <td>4</td>\n",
              "      <td>...</td>\n",
              "      <td>0</td>\n",
              "      <td>0</td>\n",
              "      <td>0</td>\n",
              "      <td>0</td>\n",
              "      <td>0</td>\n",
              "      <td>0</td>\n",
              "      <td>0</td>\n",
              "      <td>0</td>\n",
              "      <td>1</td>\n",
              "      <td>223500</td>\n",
              "    </tr>\n",
              "    <tr>\n",
              "      <th>3</th>\n",
              "      <td>4</td>\n",
              "      <td>0.309859</td>\n",
              "      <td>3</td>\n",
              "      <td>-0.247054</td>\n",
              "      <td>-0.096897</td>\n",
              "      <td>1</td>\n",
              "      <td>0</td>\n",
              "      <td>3</td>\n",
              "      <td>0</td>\n",
              "      <td>0</td>\n",
              "      <td>...</td>\n",
              "      <td>0</td>\n",
              "      <td>0</td>\n",
              "      <td>0</td>\n",
              "      <td>0</td>\n",
              "      <td>0</td>\n",
              "      <td>0</td>\n",
              "      <td>0</td>\n",
              "      <td>0</td>\n",
              "      <td>1</td>\n",
              "      <td>140000</td>\n",
              "    </tr>\n",
              "    <tr>\n",
              "      <th>4</th>\n",
              "      <td>5</td>\n",
              "      <td>0.073375</td>\n",
              "      <td>3</td>\n",
              "      <td>0.797923</td>\n",
              "      <td>0.375148</td>\n",
              "      <td>1</td>\n",
              "      <td>0</td>\n",
              "      <td>3</td>\n",
              "      <td>0</td>\n",
              "      <td>2</td>\n",
              "      <td>...</td>\n",
              "      <td>0</td>\n",
              "      <td>0</td>\n",
              "      <td>0</td>\n",
              "      <td>0</td>\n",
              "      <td>0</td>\n",
              "      <td>0</td>\n",
              "      <td>0</td>\n",
              "      <td>0</td>\n",
              "      <td>1</td>\n",
              "      <td>250000</td>\n",
              "    </tr>\n",
              "  </tbody>\n",
              "</table>\n",
              "<p>5 rows × 173 columns</p>\n",
              "</div>\n",
              "      <button class=\"colab-df-convert\" onclick=\"convertToInteractive('df-824d817f-751d-4e87-9176-9c56e143bced')\"\n",
              "              title=\"Convert this dataframe to an interactive table.\"\n",
              "              style=\"display:none;\">\n",
              "        \n",
              "  <svg xmlns=\"http://www.w3.org/2000/svg\" height=\"24px\"viewBox=\"0 0 24 24\"\n",
              "       width=\"24px\">\n",
              "    <path d=\"M0 0h24v24H0V0z\" fill=\"none\"/>\n",
              "    <path d=\"M18.56 5.44l.94 2.06.94-2.06 2.06-.94-2.06-.94-.94-2.06-.94 2.06-2.06.94zm-11 1L8.5 8.5l.94-2.06 2.06-.94-2.06-.94L8.5 2.5l-.94 2.06-2.06.94zm10 10l.94 2.06.94-2.06 2.06-.94-2.06-.94-.94-2.06-.94 2.06-2.06.94z\"/><path d=\"M17.41 7.96l-1.37-1.37c-.4-.4-.92-.59-1.43-.59-.52 0-1.04.2-1.43.59L10.3 9.45l-7.72 7.72c-.78.78-.78 2.05 0 2.83L4 21.41c.39.39.9.59 1.41.59.51 0 1.02-.2 1.41-.59l7.78-7.78 2.81-2.81c.8-.78.8-2.07 0-2.86zM5.41 20L4 18.59l7.72-7.72 1.47 1.35L5.41 20z\"/>\n",
              "  </svg>\n",
              "      </button>\n",
              "      \n",
              "  <style>\n",
              "    .colab-df-container {\n",
              "      display:flex;\n",
              "      flex-wrap:wrap;\n",
              "      gap: 12px;\n",
              "    }\n",
              "\n",
              "    .colab-df-convert {\n",
              "      background-color: #E8F0FE;\n",
              "      border: none;\n",
              "      border-radius: 50%;\n",
              "      cursor: pointer;\n",
              "      display: none;\n",
              "      fill: #1967D2;\n",
              "      height: 32px;\n",
              "      padding: 0 0 0 0;\n",
              "      width: 32px;\n",
              "    }\n",
              "\n",
              "    .colab-df-convert:hover {\n",
              "      background-color: #E2EBFA;\n",
              "      box-shadow: 0px 1px 2px rgba(60, 64, 67, 0.3), 0px 1px 3px 1px rgba(60, 64, 67, 0.15);\n",
              "      fill: #174EA6;\n",
              "    }\n",
              "\n",
              "    [theme=dark] .colab-df-convert {\n",
              "      background-color: #3B4455;\n",
              "      fill: #D2E3FC;\n",
              "    }\n",
              "\n",
              "    [theme=dark] .colab-df-convert:hover {\n",
              "      background-color: #434B5C;\n",
              "      box-shadow: 0px 1px 3px 1px rgba(0, 0, 0, 0.15);\n",
              "      filter: drop-shadow(0px 1px 2px rgba(0, 0, 0, 0.3));\n",
              "      fill: #FFFFFF;\n",
              "    }\n",
              "  </style>\n",
              "\n",
              "      <script>\n",
              "        const buttonEl =\n",
              "          document.querySelector('#df-824d817f-751d-4e87-9176-9c56e143bced button.colab-df-convert');\n",
              "        buttonEl.style.display =\n",
              "          google.colab.kernel.accessAllowed ? 'block' : 'none';\n",
              "\n",
              "        async function convertToInteractive(key) {\n",
              "          const element = document.querySelector('#df-824d817f-751d-4e87-9176-9c56e143bced');\n",
              "          const dataTable =\n",
              "            await google.colab.kernel.invokeFunction('convertToInteractive',\n",
              "                                                     [key], {});\n",
              "          if (!dataTable) return;\n",
              "\n",
              "          const docLinkHtml = 'Like what you see? Visit the ' +\n",
              "            '<a target=\"_blank\" href=https://colab.research.google.com/notebooks/data_table.ipynb>data table notebook</a>'\n",
              "            + ' to learn more about interactive tables.';\n",
              "          element.innerHTML = '';\n",
              "          dataTable['output_type'] = 'display_data';\n",
              "          await google.colab.output.renderOutput(dataTable, element);\n",
              "          const docLink = document.createElement('div');\n",
              "          docLink.innerHTML = docLinkHtml;\n",
              "          element.appendChild(docLink);\n",
              "        }\n",
              "      </script>\n",
              "    </div>\n",
              "  </div>\n",
              "  "
            ]
          },
          "metadata": {},
          "execution_count": 86
        }
      ]
    },
    {
      "cell_type": "markdown",
      "source": [
        "1.Taking LotArea as the regressor"
      ],
      "metadata": {
        "id": "cjzxWYRYh06K"
      }
    },
    {
      "cell_type": "code",
      "source": [
        "X = kdf.iloc[:, 4].values\n",
        "y = kdf.iloc[:, -1].values"
      ],
      "metadata": {
        "id": "m3FbhMxWh4Ei"
      },
      "execution_count": 87,
      "outputs": []
    },
    {
      "cell_type": "code",
      "source": [
        "X"
      ],
      "metadata": {
        "colab": {
          "base_uri": "https://localhost:8080/"
        },
        "id": "m4LruraEiJKD",
        "outputId": "06014768-3d4b-430d-d651-ba2ede592739"
      },
      "execution_count": 88,
      "outputs": [
        {
          "output_type": "execute_result",
          "data": {
            "text/plain": [
              "array([-0.20714171, -0.09188637,  0.07347998, ..., -0.14781027,\n",
              "       -0.08016039, -0.05811155])"
            ]
          },
          "metadata": {},
          "execution_count": 88
        }
      ]
    },
    {
      "cell_type": "code",
      "source": [
        "y"
      ],
      "metadata": {
        "colab": {
          "base_uri": "https://localhost:8080/"
        },
        "id": "V85jDILKiK83",
        "outputId": "05392bd0-cfa4-486f-a7b4-a3f4b6ed69ca"
      },
      "execution_count": 89,
      "outputs": [
        {
          "output_type": "execute_result",
          "data": {
            "text/plain": [
              "array([208500, 181500, 223500, ..., 266500, 142125, 147500])"
            ]
          },
          "metadata": {},
          "execution_count": 89
        }
      ]
    },
    {
      "cell_type": "code",
      "source": [
        "X.reshape(-1, 1)\n",
        "y.reshape(-1, 1)"
      ],
      "metadata": {
        "colab": {
          "base_uri": "https://localhost:8080/"
        },
        "id": "vb6WJNuaiMuL",
        "outputId": "821b4077-07be-4e7d-b8d6-8dea22ac21d1"
      },
      "execution_count": 90,
      "outputs": [
        {
          "output_type": "execute_result",
          "data": {
            "text/plain": [
              "array([[208500],\n",
              "       [181500],\n",
              "       [223500],\n",
              "       ...,\n",
              "       [266500],\n",
              "       [142125],\n",
              "       [147500]])"
            ]
          },
          "metadata": {},
          "execution_count": 90
        }
      ]
    },
    {
      "cell_type": "code",
      "source": [
        "# Train test split\n",
        "\n",
        "from sklearn.model_selection import train_test_split\n",
        "\n",
        "X_trainm, X_testm, y_trainm, y_testm = train_test_split(X, y, test_size = 1/3, random_state = 0)"
      ],
      "metadata": {
        "id": "GjGP5St3iQST"
      },
      "execution_count": 91,
      "outputs": []
    },
    {
      "cell_type": "code",
      "source": [
        "import numpy as np\n",
        "import matplotlib.pyplot as plt\n",
        "\n",
        "# Code Taken from Geeks_for_Geeks\n",
        "  \n",
        "def estimate_coef(x, y):\n",
        "    # number of observations/points\n",
        "    n = np.size(x)\n",
        "  \n",
        "    # mean of x and y vector\n",
        "    m_x = np.mean(x)\n",
        "    m_y = np.mean(y)\n",
        "  \n",
        "    # calculating cross-deviation and deviation about x\n",
        "    SS_xy = np.sum(y*x) - n*m_y*m_x\n",
        "    SS_xx = np.sum(x*x) - n*m_x*m_x\n",
        "  \n",
        "    # calculating regression coefficients\n",
        "    b_1 = SS_xy / SS_xx\n",
        "    b_0 = m_y - b_1*m_x\n",
        "  \n",
        "    return (b_0, b_1)\n",
        "  \n",
        "def plot_regression_line(x, y, b):\n",
        "    # plotting the actual points as scatter plot\n",
        "    plt.scatter(x, y, color = \"m\",\n",
        "               marker = \"o\", s = 30)\n",
        "  \n",
        "    # predicted response vector\n",
        "    y_pred = b[0] + b[1]*x\n",
        "  \n",
        "    # plotting the regression line\n",
        "    plt.plot(x, y_pred, color = \"g\")\n",
        "  \n",
        "    # putting labels\n",
        "    plt.xlabel('x')\n",
        "    plt.ylabel('y')\n",
        "  \n",
        "    # function to show plot\n",
        "    plt.show()\n",
        "  \n",
        "def main(a,b):\n",
        "    # observations / data\n",
        "    x = a\n",
        "    y = b\n",
        "  \n",
        "    # estimating coefficients\n",
        "    b = estimate_coef(x, y)\n",
        "    print(\"Estimated coefficients:\\nb_0 = {}  \\\n",
        "          \\nb_1 = {}\".format(b[0], b[1]))\n",
        "  \n",
        "    # plotting regression line\n",
        "    plot_regression_line(x, y, b)\n",
        "  \n",
        "if __name__ == \"__main__\":\n",
        "    main(X_trainm,y_trainm)"
      ],
      "metadata": {
        "colab": {
          "base_uri": "https://localhost:8080/",
          "height": 334
        },
        "id": "QqANlGR2iiFy",
        "outputId": "aaef9edb-8ed3-42ac-f6e0-73d9beb69d99"
      },
      "execution_count": 92,
      "outputs": [
        {
          "output_type": "stream",
          "name": "stdout",
          "text": [
            "Estimated coefficients:\n",
            "b_0 = 181075.90182379176            \n",
            "b_1 = 19211.328575107585\n"
          ]
        },
        {
          "output_type": "display_data",
          "data": {
            "text/plain": [
              "<Figure size 432x288 with 1 Axes>"
            ],
            "image/png": "[encoded data removed]"
          },
          "metadata": {
            "needs_background": "light"
          }
        }
      ]
    },
    {
      "cell_type": "code",
      "source": [
        "b0,b1 = estimate_coef(X_trainm,y_trainm)\n"
      ],
      "metadata": {
        "id": "svde2DqTir7f"
      },
      "execution_count": 93,
      "outputs": []
    },
    {
      "cell_type": "code",
      "source": [
        "# Linear model with the coefficients\n",
        "def yhat(x):\n",
        "  return b0 + x*b1\n",
        "\n",
        "y_predm = yhat(X_testm)\n",
        "y_predm"
      ],
      "metadata": {
        "colab": {
          "base_uri": "https://localhost:8080/"
        },
        "id": "3Ndy8-qWiwEJ",
        "outputId": "261548cf-606d-43a7-817c-e9a2bbfd6046"
      },
      "execution_count": 94,
      "outputs": [
        {
          "output_type": "execute_result",
          "data": {
            "text/plain": [
              "array([223725.73201153, 179098.84871347, 174333.48776072, 180090.42887131,\n",
              "       164061.48748481, 174689.6864582 , 190200.69568459, 178155.40351474,\n",
              "       190907.31688445, 170655.97688406, 168971.25331491, 182968.8994266 ,\n",
              "       181547.95543342, 175918.09061491, 183284.66475842, 177000.16449589,\n",
              "       180438.92597533, 176364.78303553, 177277.42186042, 165640.3141439 ,\n",
              "       177231.21229966, 169371.73617477, 177138.79317815, 176470.67994559,\n",
              "       178386.45131851, 194850.53273544, 164902.8865702 , 164554.38946618,\n",
              "       186407.66090604, 177154.19636507, 182920.76446748, 178765.75479636,\n",
              "       175344.32190221, 188282.9989133 , 183631.23646408, 202939.13126574,\n",
              "       174907.25647342, 175652.38564057, 178877.42790152, 184424.50059035,\n",
              "       185115.71860329, 174562.61016613, 177706.78569575, 182703.19445227,\n",
              "       189973.49867755, 181282.25045909, 176682.47376571, 181332.31081657,\n",
              "       182360.47354334, 182198.7400807 , 187181.67104867, 180637.2420069 ,\n",
              "       179406.91245182, 175163.33445593, 185471.91730077, 176796.07226923,\n",
              "       179310.64253359, 180972.26132236, 177801.13021563, 172379.20842051,\n",
              "       177770.32384179, 180373.46243093, 180101.9812615 , 187998.03995532,\n",
              "       176470.67994559, 177000.16449589, 186434.61648314, 186163.13531371,\n",
              "       171150.8042638 , 184690.20556469, 175835.29848522, 175113.27409844,\n",
              "       180477.43394262, 176401.36560446, 178012.92403575, 181343.86320676,\n",
              "       180475.50854426, 178347.94335121, 198137.18774406, 178829.2929424 ,\n",
              "       174689.6864582 , 174304.60678525, 174304.60678525, 178627.1261141 ,\n",
              "       195541.75074839, 177096.43441413, 180870.21520903, 173904.12392538,\n",
              "       180889.46919268, 179048.78835598, 177674.05392355, 197024.30748924,\n",
              "       185916.68432303, 186723.42623786, 168378.23061856, 181852.16837505,\n",
              "       177000.16449589, 202761.99461618, 176461.05295376, 172841.30402804,\n",
              "       183248.08218949, 174884.15169304, 178270.92741663, 176133.73523176,\n",
              "       177231.21229966, 191746.79057148, 188003.81615041, 177702.93489903,\n",
              "       180537.12129193, 174077.40977821, 169067.52323314, 176120.2574432 ,\n",
              "       189328.49022536, 175844.92547705, 168018.18112436, 165270.63765787,\n",
              "       186765.78500188, 175267.30596762, 185856.99697372, 178155.40351474,\n",
              "       175267.30596762, 167765.95393858, 179974.90496942, 179888.26204301,\n",
              "       180589.10704778, 169304.34723201, 188648.8246026 , 174689.6864582 ,\n",
              "       169055.97084296, 182701.2690539 , 174420.13068713, 177300.52664079,\n",
              "       174339.26395582, 184982.86611613, 178835.0691375 , 180350.35765055,\n",
              "       179888.26204301, 177096.43441413, 172379.20842051, 174599.19273506,\n",
              "       187782.39533847, 167902.65722247, 201260.18389168, 177770.32384179,\n",
              "       185664.45713725, 175623.5046651 , 178010.99863738, 180094.27966804,\n",
              "       175571.51890925, 192010.57014745, 180417.74659332, 177710.63649248,\n",
              "       183783.34293489, 177726.0396794 , 170646.34989223, 192965.56773636,\n",
              "       172234.80354315, 182843.74853289, 177004.01529262, 178396.07831033,\n",
              "       181043.50106186, 184239.66234733, 176470.67994559, 179836.27628716,\n",
              "       183848.80647929, 177192.70433237, 185637.50156014, 180481.28473935,\n",
              "       176611.23402621, 176351.30524697, 197979.30507816, 177000.16449589,\n",
              "       171187.38683273, 187418.49504753, 202704.23266524, 181043.50106186,\n",
              "       174304.60678525, 181621.12057128, 174304.60678525, 178515.45300895,\n",
              "       184561.20387425, 180450.47836552, 169298.57103691, 182926.54066258,\n",
              "       184590.08484972, 183353.97909955, 164425.38777574, 175086.31852134,\n",
              "       168378.23061856, 169365.95997968, 176368.63383226, 182992.00420698,\n",
              "       180410.04499986, 177858.89216657, 175147.93126901, 176108.70505302,\n",
              "       163670.63161676, 181008.84389129, 178630.97691083, 164523.58309235,\n",
              "       175382.82986951, 169820.35399376, 174112.06694878, 177057.92644684,\n",
              "       174462.48945116, 183244.23139276, 177770.32384179, 182102.47016247,\n",
              "       189286.13146133, 176707.50394445, 187195.14883722, 171089.19151613,\n",
              "       177277.42186042, 172629.51020792, 257618.51942613, 196350.41806158,\n",
              "       183739.0587725 , 180812.45325809, 182191.03848725, 164465.8211414 ,\n",
              "       188003.81615041, 186935.22005798, 171050.68354883, 179233.626599  ,\n",
              "       166628.04350501, 181284.17585745, 182379.72752699, 192580.48806341,\n",
              "       174291.1289967 , 180850.96122538, 177277.42186042, 174689.6864582 ,\n",
              "       181043.50106186, 179166.23765623, 218509.82784143, 172379.20842051,\n",
              "       178155.40351474, 171223.96940166, 172456.22435509, 194713.82945155,\n",
              "       167565.71250864, 208349.50067067, 187793.94772865, 182487.54983542,\n",
              "       179310.64253359, 167943.09058813, 172021.08432466, 176846.13262671,\n",
              "       179310.64253359, 178188.13528694, 188908.75338184, 181482.49188902,\n",
              "       168643.9355929 , 187170.11865848, 177462.26010343, 178347.94335121,\n",
              "       168297.36388725, 167825.64128788, 263843.33233935, 283834.7435605 ,\n",
              "       165919.49690679, 178317.13697738, 184220.40836369, 181621.12057128,\n",
              "       189328.49022536, 178515.45300895, 187512.8395674 , 173003.03749068,\n",
              "       182968.8994266 , 180995.36610274, 179310.64253359, 181848.31757832,\n",
              "       178432.66087926, 193641.38256238, 171455.01720543, 180354.20844728,\n",
              "       184189.60198985, 186097.67176931, 184688.28016632, 182083.21617882,\n",
              "       179695.72220654, 193052.21066277, 175267.30596762, 181871.4223587 ,\n",
              "       173846.36197444, 181390.07276751, 164061.48748481, 181709.68889606,\n",
              "       190537.64039842, 177231.21229966, 171089.19151613, 174689.6864582 ,\n",
              "       183342.42670936, 173534.44743935, 186550.14038503, 186367.22754038,\n",
              "       187212.4774225 , 175267.30596762, 177496.917274  , 165778.94282616,\n",
              "       163899.75402217, 172379.20842051, 174171.75429808, 175415.56164171,\n",
              "       175652.38564057, 182603.0737373 , 183931.59860898, 191935.47961122,\n",
              "       178190.06068531, 179978.75576615, 174689.6864582 , 166603.01332627,\n",
              "       172610.25622427, 177009.79148772, 174689.6864582 , 169348.6313944 ,\n",
              "       184401.39580997, 177918.57951588, 166741.64200853, 179310.64253359,\n",
              "       171582.0934975 , 171732.27456995, 176736.38491992, 191369.41249199,\n",
              "       175517.60775504, 174400.87670349, 181582.61260399, 188939.55975568,\n",
              "       189280.35526624, 176097.15266283, 179614.85547522, 179222.07420881,\n",
              "       177649.02374481, 182343.14495806, 183386.71087175, 184965.53753084,\n",
              "       174246.84483431, 175748.65555881, 167330.81390814, 179926.77001031,\n",
              "       183635.0872608 , 169491.11087339, 174689.6864582 , 183538.81734257,\n",
              "       182487.54983542, 182668.5372817 , 171293.28374279, 174689.6864582 ,\n",
              "       171963.32237372, 174366.21953292, 179701.49840163, 189272.65367278,\n",
              "       180369.6116342 , 185283.22826103, 168643.9355929 , 187572.52691671,\n",
              "       184426.42598871, 174689.6864582 , 169972.46046457, 466965.1582265 ,\n",
              "       186819.69615609, 184104.8844618 , 178347.94335121, 181988.87165895,\n",
              "       177726.0396794 , 173534.44743935, 181590.31419745, 180554.44987721,\n",
              "       203050.80437089, 180350.35765055, 187191.29804049, 171840.09687838,\n",
              "       175452.14421064, 178548.18478115, 174264.17341959, 168755.60869805,\n",
              "       178609.79752882, 168224.19874939, 174651.1784909 , 178155.40351474,\n",
              "       185733.77147838, 172841.30402804, 172610.25622427, 172841.30402804,\n",
              "       175733.25237189, 179668.76662943, 227541.87157045, 176470.67994559,\n",
              "       182410.53390083, 185287.07905776, 171223.96940166, 177452.63311161,\n",
              "       185712.59209636, 178344.09255449, 176124.10823993, 176285.84170257,\n",
              "       184166.49720947, 177858.89216657, 191151.84247677, 175103.64710662,\n",
              "       182599.22294057, 178532.78159423, 179079.59472982, 163764.97613664,\n",
              "       176070.19708572, 188078.90668664, 183482.98078999, 178155.40351474,\n",
              "       181284.17585745, 179333.74731396, 180321.47667508, 183482.98078999,\n",
              "       176470.67994559, 172771.98968691, 181004.99309456, 178347.94335121,\n",
              "       188061.57810135, 164061.48748481, 211229.89662433, 165386.16155975,\n",
              "       182487.54983542, 192131.87024442, 177371.76638029, 165216.72650365,\n",
              "       175706.29679478, 174959.24222926, 187110.43130917, 180916.42476978,\n",
              "       181682.73331895, 182391.27991718, 178733.02302416, 180479.35934099,\n",
              "       184563.12927261, 236117.59588703, 179801.6191166 , 180922.20096488,\n",
              "       179711.12539345, 185701.03970618, 178877.42790152, 166385.44331105,\n",
              "       174703.16424675, 178270.92741663, 177000.16449589, 175929.6430051 ,\n",
              "       172966.45492175, 184114.51145363, 167902.65722247, 179743.85716566,\n",
              "       183715.95399212, 184255.06553425, 178925.56286064, 178738.79921926,\n",
              "       177908.95252405, 180465.88155243, 172708.45154088, 180537.12129193,\n",
              "       172610.25622427, 176538.06888835, 186821.62155446, 175748.65555881,\n",
              "       216081.90050349, 177577.78400532, 177600.88878569, 163778.45392519,\n",
              "       181621.12057128, 179310.64253359, 188933.78356058, 164465.8211414 ,\n",
              "       183839.17948747, 180080.80187949, 184399.47041161, 178629.05151247,\n",
              "       168432.14177278, 184362.88784268, 172610.25622427, 164627.55460404,\n",
              "       178706.06744706, 181365.04258877, 181303.4298411 , 186097.67176931,\n",
              "       176769.11669212, 181289.95205255, 188883.7232031 , 179123.87889221,\n",
              "       177654.79993991, 170455.73545412, 177693.3079072 ])"
            ]
          },
          "metadata": {},
          "execution_count": 94
        }
      ]
    },
    {
      "cell_type": "code",
      "source": [
        "# Evaluating Metrics\n",
        "Emetrics(y_testm,y_predm)"
      ],
      "metadata": {
        "colab": {
          "base_uri": "https://localhost:8080/"
        },
        "id": "1HG6dTEiizeS",
        "outputId": "c42576c4-8c4a-44f5-a092-1307ded66fb2"
      },
      "execution_count": 95,
      "outputs": [
        {
          "output_type": "stream",
          "name": "stdout",
          "text": [
            "Mean Absoulute error is : 54708.482573745845\n",
            "Mean Squared error is: 5948225304.756423\n",
            "Root Mean Square error is: 77124.73860413676\n",
            "R2 score is: 0.07614956656237903\n"
          ]
        }
      ]
    },
    {
      "cell_type": "markdown",
      "source": [
        "## 2.Taking Overall Condition as Regressor"
      ],
      "metadata": {
        "id": "6jam5c0mjRTB"
      }
    },
    {
      "cell_type": "code",
      "source": [
        "kdf.head(5)"
      ],
      "metadata": {
        "colab": {
          "base_uri": "https://localhost:8080/",
          "height": 299
        },
        "id": "6mzT5PdCkTny",
        "outputId": "01a71d0a-736b-4750-d5b7-2ba641b5ff54"
      },
      "execution_count": 96,
      "outputs": [
        {
          "output_type": "execute_result",
          "data": {
            "text/plain": [
              "   Id  MSSubClass  MSZoning  LotFrontage   LotArea  Street  LotShape  \\\n",
              "0   1    0.073375         3     0.001533 -0.207142       1         3   \n",
              "1   2   -0.872563         3     0.646396 -0.091886       1         3   \n",
              "2   3    0.073375         3     0.141663  0.073480       1         0   \n",
              "3   4    0.309859         3    -0.247054 -0.096897       1         0   \n",
              "4   5    0.073375         3     0.797923  0.375148       1         0   \n",
              "\n",
              "   LandContour  Utilities  LotConfig  ...  SaleType_COD  SaleType_CWD  \\\n",
              "0            3          0          4  ...             0             0   \n",
              "1            3          0          2  ...             0             0   \n",
              "2            3          0          4  ...             0             0   \n",
              "3            3          0          0  ...             0             0   \n",
              "4            3          0          2  ...             0             0   \n",
              "\n",
              "   SaleType_Con  SaleType_ConLD  SaleType_ConLI  SaleType_ConLw  SaleType_New  \\\n",
              "0             0               0               0               0             0   \n",
              "1             0               0               0               0             0   \n",
              "2             0               0               0               0             0   \n",
              "3             0               0               0               0             0   \n",
              "4             0               0               0               0             0   \n",
              "\n",
              "   SaleType_Oth  SaleType_WD  SalePrice  \n",
              "0             0            1     208500  \n",
              "1             0            1     181500  \n",
              "2             0            1     223500  \n",
              "3             0            1     140000  \n",
              "4             0            1     250000  \n",
              "\n",
              "[5 rows x 173 columns]"
            ],
            "text/html": [
              "\n",
              "  <div id=\"df-ecea56e4-896a-4f79-a353-3d70338b3357\">\n",
              "    <div class=\"colab-df-container\">\n",
              "      <div>\n",
              "<style scoped>\n",
              "    .dataframe tbody tr th:only-of-type {\n",
              "        vertical-align: middle;\n",
              "    }\n",
              "\n",
              "    .dataframe tbody tr th {\n",
              "        vertical-align: top;\n",
              "    }\n",
              "\n",
              "    .dataframe thead th {\n",
              "        text-align: right;\n",
              "    }\n",
              "</style>\n",
              "<table border=\"1\" class=\"dataframe\">\n",
              "  <thead>\n",
              "    <tr style=\"text-align: right;\">\n",
              "      <th></th>\n",
              "      <th>Id</th>\n",
              "      <th>MSSubClass</th>\n",
              "      <th>MSZoning</th>\n",
              "      <th>LotFrontage</th>\n",
              "      <th>LotArea</th>\n",
              "      <th>Street</th>\n",
              "      <th>LotShape</th>\n",
              "      <th>LandContour</th>\n",
              "      <th>Utilities</th>\n",
              "      <th>LotConfig</th>\n",
              "      <th>...</th>\n",
              "      <th>SaleType_COD</th>\n",
              "      <th>SaleType_CWD</th>\n",
              "      <th>SaleType_Con</th>\n",
              "      <th>SaleType_ConLD</th>\n",
              "      <th>SaleType_ConLI</th>\n",
              "      <th>SaleType_ConLw</th>\n",
              "      <th>SaleType_New</th>\n",
              "      <th>SaleType_Oth</th>\n",
              "      <th>SaleType_WD</th>\n",
              "      <th>SalePrice</th>\n",
              "    </tr>\n",
              "  </thead>\n",
              "  <tbody>\n",
              "    <tr>\n",
              "      <th>0</th>\n",
              "      <td>1</td>\n",
              "      <td>0.073375</td>\n",
              "      <td>3</td>\n",
              "      <td>0.001533</td>\n",
              "      <td>-0.207142</td>\n",
              "      <td>1</td>\n",
              "      <td>3</td>\n",
              "      <td>3</td>\n",
              "      <td>0</td>\n",
              "      <td>4</td>\n",
              "      <td>...</td>\n",
              "      <td>0</td>\n",
              "      <td>0</td>\n",
              "      <td>0</td>\n",
              "      <td>0</td>\n",
              "      <td>0</td>\n",
              "      <td>0</td>\n",
              "      <td>0</td>\n",
              "      <td>0</td>\n",
              "      <td>1</td>\n",
              "      <td>208500</td>\n",
              "    </tr>\n",
              "    <tr>\n",
              "      <th>1</th>\n",
              "      <td>2</td>\n",
              "      <td>-0.872563</td>\n",
              "      <td>3</td>\n",
              "      <td>0.646396</td>\n",
              "      <td>-0.091886</td>\n",
              "      <td>1</td>\n",
              "      <td>3</td>\n",
              "      <td>3</td>\n",
              "      <td>0</td>\n",
              "      <td>2</td>\n",
              "      <td>...</td>\n",
              "      <td>0</td>\n",
              "      <td>0</td>\n",
              "      <td>0</td>\n",
              "      <td>0</td>\n",
              "      <td>0</td>\n",
              "      <td>0</td>\n",
              "      <td>0</td>\n",
              "      <td>0</td>\n",
              "      <td>1</td>\n",
              "      <td>181500</td>\n",
              "    </tr>\n",
              "    <tr>\n",
              "      <th>2</th>\n",
              "      <td>3</td>\n",
              "      <td>0.073375</td>\n",
              "      <td>3</td>\n",
              "      <td>0.141663</td>\n",
              "      <td>0.073480</td>\n",
              "      <td>1</td>\n",
              "      <td>0</td>\n",
              "      <td>3</td>\n",
              "      <td>0</td>\n",
              "      <td>4</td>\n",
              "      <td>...</td>\n",
              "      <td>0</td>\n",
              "      <td>0</td>\n",
              "      <td>0</td>\n",
              "      <td>0</td>\n",
              "      <td>0</td>\n",
              "      <td>0</td>\n",
              "      <td>0</td>\n",
              "      <td>0</td>\n",
              "      <td>1</td>\n",
              "      <td>223500</td>\n",
              "    </tr>\n",
              "    <tr>\n",
              "      <th>3</th>\n",
              "      <td>4</td>\n",
              "      <td>0.309859</td>\n",
              "      <td>3</td>\n",
              "      <td>-0.247054</td>\n",
              "      <td>-0.096897</td>\n",
              "      <td>1</td>\n",
              "      <td>0</td>\n",
              "      <td>3</td>\n",
              "      <td>0</td>\n",
              "      <td>0</td>\n",
              "      <td>...</td>\n",
              "      <td>0</td>\n",
              "      <td>0</td>\n",
              "      <td>0</td>\n",
              "      <td>0</td>\n",
              "      <td>0</td>\n",
              "      <td>0</td>\n",
              "      <td>0</td>\n",
              "      <td>0</td>\n",
              "      <td>1</td>\n",
              "      <td>140000</td>\n",
              "    </tr>\n",
              "    <tr>\n",
              "      <th>4</th>\n",
              "      <td>5</td>\n",
              "      <td>0.073375</td>\n",
              "      <td>3</td>\n",
              "      <td>0.797923</td>\n",
              "      <td>0.375148</td>\n",
              "      <td>1</td>\n",
              "      <td>0</td>\n",
              "      <td>3</td>\n",
              "      <td>0</td>\n",
              "      <td>2</td>\n",
              "      <td>...</td>\n",
              "      <td>0</td>\n",
              "      <td>0</td>\n",
              "      <td>0</td>\n",
              "      <td>0</td>\n",
              "      <td>0</td>\n",
              "      <td>0</td>\n",
              "      <td>0</td>\n",
              "      <td>0</td>\n",
              "      <td>1</td>\n",
              "      <td>250000</td>\n",
              "    </tr>\n",
              "  </tbody>\n",
              "</table>\n",
              "<p>5 rows × 173 columns</p>\n",
              "</div>\n",
              "      <button class=\"colab-df-convert\" onclick=\"convertToInteractive('df-ecea56e4-896a-4f79-a353-3d70338b3357')\"\n",
              "              title=\"Convert this dataframe to an interactive table.\"\n",
              "              style=\"display:none;\">\n",
              "        \n",
              "  <svg xmlns=\"http://www.w3.org/2000/svg\" height=\"24px\"viewBox=\"0 0 24 24\"\n",
              "       width=\"24px\">\n",
              "    <path d=\"M0 0h24v24H0V0z\" fill=\"none\"/>\n",
              "    <path d=\"M18.56 5.44l.94 2.06.94-2.06 2.06-.94-2.06-.94-.94-2.06-.94 2.06-2.06.94zm-11 1L8.5 8.5l.94-2.06 2.06-.94-2.06-.94L8.5 2.5l-.94 2.06-2.06.94zm10 10l.94 2.06.94-2.06 2.06-.94-2.06-.94-.94-2.06-.94 2.06-2.06.94z\"/><path d=\"M17.41 7.96l-1.37-1.37c-.4-.4-.92-.59-1.43-.59-.52 0-1.04.2-1.43.59L10.3 9.45l-7.72 7.72c-.78.78-.78 2.05 0 2.83L4 21.41c.39.39.9.59 1.41.59.51 0 1.02-.2 1.41-.59l7.78-7.78 2.81-2.81c.8-.78.8-2.07 0-2.86zM5.41 20L4 18.59l7.72-7.72 1.47 1.35L5.41 20z\"/>\n",
              "  </svg>\n",
              "      </button>\n",
              "      \n",
              "  <style>\n",
              "    .colab-df-container {\n",
              "      display:flex;\n",
              "      flex-wrap:wrap;\n",
              "      gap: 12px;\n",
              "    }\n",
              "\n",
              "    .colab-df-convert {\n",
              "      background-color: #E8F0FE;\n",
              "      border: none;\n",
              "      border-radius: 50%;\n",
              "      cursor: pointer;\n",
              "      display: none;\n",
              "      fill: #1967D2;\n",
              "      height: 32px;\n",
              "      padding: 0 0 0 0;\n",
              "      width: 32px;\n",
              "    }\n",
              "\n",
              "    .colab-df-convert:hover {\n",
              "      background-color: #E2EBFA;\n",
              "      box-shadow: 0px 1px 2px rgba(60, 64, 67, 0.3), 0px 1px 3px 1px rgba(60, 64, 67, 0.15);\n",
              "      fill: #174EA6;\n",
              "    }\n",
              "\n",
              "    [theme=dark] .colab-df-convert {\n",
              "      background-color: #3B4455;\n",
              "      fill: #D2E3FC;\n",
              "    }\n",
              "\n",
              "    [theme=dark] .colab-df-convert:hover {\n",
              "      background-color: #434B5C;\n",
              "      box-shadow: 0px 1px 3px 1px rgba(0, 0, 0, 0.15);\n",
              "      filter: drop-shadow(0px 1px 2px rgba(0, 0, 0, 0.3));\n",
              "      fill: #FFFFFF;\n",
              "    }\n",
              "  </style>\n",
              "\n",
              "      <script>\n",
              "        const buttonEl =\n",
              "          document.querySelector('#df-ecea56e4-896a-4f79-a353-3d70338b3357 button.colab-df-convert');\n",
              "        buttonEl.style.display =\n",
              "          google.colab.kernel.accessAllowed ? 'block' : 'none';\n",
              "\n",
              "        async function convertToInteractive(key) {\n",
              "          const element = document.querySelector('#df-ecea56e4-896a-4f79-a353-3d70338b3357');\n",
              "          const dataTable =\n",
              "            await google.colab.kernel.invokeFunction('convertToInteractive',\n",
              "                                                     [key], {});\n",
              "          if (!dataTable) return;\n",
              "\n",
              "          const docLinkHtml = 'Like what you see? Visit the ' +\n",
              "            '<a target=\"_blank\" href=https://colab.research.google.com/notebooks/data_table.ipynb>data table notebook</a>'\n",
              "            + ' to learn more about interactive tables.';\n",
              "          element.innerHTML = '';\n",
              "          dataTable['output_type'] = 'display_data';\n",
              "          await google.colab.output.renderOutput(dataTable, element);\n",
              "          const docLink = document.createElement('div');\n",
              "          docLink.innerHTML = docLinkHtml;\n",
              "          element.appendChild(docLink);\n",
              "        }\n",
              "      </script>\n",
              "    </div>\n",
              "  </div>\n",
              "  "
            ]
          },
          "metadata": {},
          "execution_count": 96
        }
      ]
    },
    {
      "cell_type": "code",
      "source": [
        "X = kdf.iloc[:, 13].values\n",
        "y = kdf.iloc[:, -1].values"
      ],
      "metadata": {
        "id": "5H9B2n5wkbvc"
      },
      "execution_count": 97,
      "outputs": []
    },
    {
      "cell_type": "code",
      "source": [
        "X"
      ],
      "metadata": {
        "colab": {
          "base_uri": "https://localhost:8080/"
        },
        "id": "uS6Z2ZB6kj2z",
        "outputId": "0269c491-4630-4743-e1f4-2849a4283b5a"
      },
      "execution_count": 98,
      "outputs": [
        {
          "output_type": "execute_result",
          "data": {
            "text/plain": [
              "array([-0.51719981,  2.17962776, -0.51719981, ...,  3.07857028,\n",
              "        0.38174271,  0.38174271])"
            ]
          },
          "metadata": {},
          "execution_count": 98
        }
      ]
    },
    {
      "cell_type": "code",
      "source": [
        "y"
      ],
      "metadata": {
        "colab": {
          "base_uri": "https://localhost:8080/"
        },
        "id": "RADfRuQ9kk7x",
        "outputId": "f22c150d-c29a-49e9-a795-a9e9744fc4cd"
      },
      "execution_count": 99,
      "outputs": [
        {
          "output_type": "execute_result",
          "data": {
            "text/plain": [
              "array([208500, 181500, 223500, ..., 266500, 142125, 147500])"
            ]
          },
          "metadata": {},
          "execution_count": 99
        }
      ]
    },
    {
      "cell_type": "code",
      "source": [
        "X.reshape(-1, 1)\n",
        "y.reshape(-1, 1)"
      ],
      "metadata": {
        "colab": {
          "base_uri": "https://localhost:8080/"
        },
        "id": "YdMS17uMknm8",
        "outputId": "40aa5277-a538-4f69-fe2b-a8a32f0ac233"
      },
      "execution_count": 100,
      "outputs": [
        {
          "output_type": "execute_result",
          "data": {
            "text/plain": [
              "array([[208500],\n",
              "       [181500],\n",
              "       [223500],\n",
              "       ...,\n",
              "       [266500],\n",
              "       [142125],\n",
              "       [147500]])"
            ]
          },
          "metadata": {},
          "execution_count": 100
        }
      ]
    },
    {
      "cell_type": "code",
      "source": [
        "# Train test split\n",
        "\n",
        "X_trainm, X_testm, y_trainm, y_testm = train_test_split(X, y, test_size = .1, random_state = 0)"
      ],
      "metadata": {
        "id": "4j7yd9_xkqZD"
      },
      "execution_count": 101,
      "outputs": []
    },
    {
      "cell_type": "code",
      "source": [
        "import numpy as np\n",
        "import matplotlib.pyplot as plt\n",
        "\n",
        "# Code Taken from Geeks_for_Geeks\n",
        "  \n",
        "def estimate_coef(x, y):\n",
        "    # number of observations/points\n",
        "    n = np.size(x)\n",
        "  \n",
        "    # mean of x and y vector\n",
        "    m_x = np.mean(x)\n",
        "    m_y = np.mean(y)\n",
        "  \n",
        "    # calculating cross-deviation and deviation about x\n",
        "    SS_xy = np.sum(y*x) - n*m_y*m_x\n",
        "    SS_xx = np.sum(x*x) - n*m_x*m_x\n",
        "  \n",
        "    # calculating regression coefficients\n",
        "    b_1 = SS_xy / SS_xx\n",
        "    b_0 = m_y - b_1*m_x\n",
        "  \n",
        "    return (b_0, b_1)\n",
        "  \n",
        "def plot_regression_line(x, y, b):\n",
        "    # plotting the actual points as scatter plot\n",
        "    plt.scatter(x, y, color = \"m\",\n",
        "               marker = \"o\", s = 30)\n",
        "  \n",
        "    # predicted response vector\n",
        "    y_pred = b[0] + b[1]*x\n",
        "  \n",
        "    # plotting the regression line\n",
        "    plt.plot(x, y_pred, color = \"g\")\n",
        "  \n",
        "    # putting labels\n",
        "    plt.xlabel('x')\n",
        "    plt.ylabel('y')\n",
        "  \n",
        "    # function to show plot\n",
        "    plt.show()\n",
        "  \n",
        "def main(a,b):\n",
        "    # observations / data\n",
        "    x = a\n",
        "    y = b\n",
        "  \n",
        "    # estimating coefficients\n",
        "    b = estimate_coef(x, y)\n",
        "    print(\"Estimated coefficients:\\nb_0 = {}  \\\n",
        "          \\nb_1 = {}\".format(b[0], b[1]))\n",
        "  \n",
        "    # plotting regression line\n",
        "    plot_regression_line(x, y, b)\n",
        "  \n",
        "if __name__ == \"__main__\":\n",
        "    main(X_trainm,y_trainm)"
      ],
      "metadata": {
        "colab": {
          "base_uri": "https://localhost:8080/",
          "height": 334
        },
        "id": "uXWJzO9okt2R",
        "outputId": "0f545aa9-7da7-436f-cb1e-2b03c02362d1"
      },
      "execution_count": 102,
      "outputs": [
        {
          "output_type": "stream",
          "name": "stdout",
          "text": [
            "Estimated coefficients:\n",
            "b_0 = 181111.63566787622            \n",
            "b_1 = -5463.101328121409\n"
          ]
        },
        {
          "output_type": "display_data",
          "data": {
            "text/plain": [
              "<Figure size 432x288 with 1 Axes>"
            ],
            "image/png": "[encoded data removed]"
          },
          "metadata": {
            "needs_background": "light"
          }
        }
      ]
    },
    {
      "cell_type": "code",
      "source": [
        "b0,b1 = estimate_coef(X_trainm,y_trainm)"
      ],
      "metadata": {
        "id": "M8wY2w6ck5eI"
      },
      "execution_count": 103,
      "outputs": []
    },
    {
      "cell_type": "code",
      "source": [
        "# Linear model with the coefficients\n",
        "def yhat(x):\n",
        "  return b0 + x*b1\n",
        "\n",
        "y_predm = yhat(X_testm)\n",
        "y_predm"
      ],
      "metadata": {
        "colab": {
          "base_uri": "https://localhost:8080/"
        },
        "id": "zwBJRlT8k7rD",
        "outputId": "6e9c59cc-b49c-4cf3-a26a-42101df9b105"
      },
      "execution_count": 104,
      "outputs": [
        {
          "output_type": "execute_result",
          "data": {
            "text/plain": [
              "array([193759.17878742, 174115.12245281, 188848.16470377, 183937.15062011,\n",
              "       183937.15062011, 188848.16470377, 183937.15062011, 179026.13653646,\n",
              "       183937.15062011, 183937.15062011, 183937.15062011, 179026.13653646,\n",
              "       183937.15062011, 183937.15062011, 183937.15062011, 179026.13653646,\n",
              "       183937.15062011, 183937.15062011, 179026.13653646, 169204.10836916,\n",
              "       188848.16470377, 183937.15062011, 183937.15062011, 183937.15062011,\n",
              "       179026.13653646, 164293.09428551, 183937.15062011, 179026.13653646,\n",
              "       183937.15062011, 183937.15062011, 183937.15062011, 183937.15062011,\n",
              "       179026.13653646, 183937.15062011, 183937.15062011, 183937.15062011,\n",
              "       183937.15062011, 183937.15062011, 183937.15062011, 183937.15062011,\n",
              "       174115.12245281, 183937.15062011, 183937.15062011, 183937.15062011,\n",
              "       183937.15062011, 188848.16470377, 174115.12245281, 179026.13653646,\n",
              "       183937.15062011, 174115.12245281, 183937.15062011, 174115.12245281,\n",
              "       183937.15062011, 183937.15062011, 183937.15062011, 183937.15062011,\n",
              "       174115.12245281, 183937.15062011, 179026.13653646, 183937.15062011,\n",
              "       174115.12245281, 183937.15062011, 179026.13653646, 174115.12245281,\n",
              "       183937.15062011, 193759.17878742, 174115.12245281, 183937.15062011,\n",
              "       179026.13653646, 183937.15062011, 183937.15062011, 179026.13653646,\n",
              "       193759.17878742, 179026.13653646, 193759.17878742, 183937.15062011,\n",
              "       183937.15062011, 179026.13653646, 183937.15062011, 174115.12245281,\n",
              "       183937.15062011, 169204.10836916, 174115.12245281, 183937.15062011,\n",
              "       179026.13653646, 183937.15062011, 188848.16470377, 183937.15062011,\n",
              "       183937.15062011, 174115.12245281, 183937.15062011, 183937.15062011,\n",
              "       183937.15062011, 183937.15062011, 183937.15062011, 183937.15062011,\n",
              "       183937.15062011, 174115.12245281, 174115.12245281, 174115.12245281,\n",
              "       183937.15062011, 183937.15062011, 179026.13653646, 179026.13653646,\n",
              "       169204.10836916, 183937.15062011, 183937.15062011, 179026.13653646,\n",
              "       183937.15062011, 174115.12245281, 179026.13653646, 183937.15062011,\n",
              "       183937.15062011, 174115.12245281, 183937.15062011, 179026.13653646,\n",
              "       183937.15062011, 183937.15062011, 179026.13653646, 183937.15062011,\n",
              "       183937.15062011, 183937.15062011, 183937.15062011, 183937.15062011,\n",
              "       183937.15062011, 183937.15062011, 183937.15062011, 183937.15062011,\n",
              "       183937.15062011, 183937.15062011, 183937.15062011, 183937.15062011,\n",
              "       183937.15062011, 174115.12245281, 183937.15062011, 183937.15062011,\n",
              "       174115.12245281, 183937.15062011, 174115.12245281, 183937.15062011,\n",
              "       169204.10836916, 183937.15062011, 183937.15062011, 174115.12245281,\n",
              "       188848.16470377, 183937.15062011])"
            ]
          },
          "metadata": {},
          "execution_count": 104
        }
      ]
    },
    {
      "cell_type": "code",
      "source": [
        "# Evaluating Metrics\n",
        "Emetrics(y_testm,y_predm)"
      ],
      "metadata": {
        "colab": {
          "base_uri": "https://localhost:8080/"
        },
        "id": "fxRTQBohk-gG",
        "outputId": "fbb4c80e-6f9f-4851-e760-ac76f444c9d7"
      },
      "execution_count": 105,
      "outputs": [
        {
          "output_type": "stream",
          "name": "stdout",
          "text": [
            "Mean Absoulute error is : 53820.77601882564\n",
            "Mean Squared error is: 6769866821.34491\n",
            "Root Mean Square error is: 82279.2004175108\n",
            "R2 score is: 0.014878747087314514\n"
          ]
        }
      ]
    },
    {
      "cell_type": "markdown",
      "source": [
        "## 3. Taking Overall Quality as Regressor"
      ],
      "metadata": {
        "id": "hHmaH0iIo7kh"
      }
    },
    {
      "cell_type": "code",
      "source": [
        "X = kdf.iloc[:, 12].values\n",
        "y = kdf.iloc[:, -1].values"
      ],
      "metadata": {
        "id": "aZSpmE69pHLq"
      },
      "execution_count": 106,
      "outputs": []
    },
    {
      "cell_type": "code",
      "source": [
        "X"
      ],
      "metadata": {
        "colab": {
          "base_uri": "https://localhost:8080/"
        },
        "id": "oE8ISOz6pKEa",
        "outputId": "ea330b71-06f6-4add-a595-93983a6ad094"
      },
      "execution_count": 107,
      "outputs": [
        {
          "output_type": "execute_result",
          "data": {
            "text/plain": [
              "array([ 0.65147924, -0.07183611,  0.65147924, ...,  0.65147924,\n",
              "       -0.79515147, -0.79515147])"
            ]
          },
          "metadata": {},
          "execution_count": 107
        }
      ]
    },
    {
      "cell_type": "code",
      "source": [
        "y"
      ],
      "metadata": {
        "colab": {
          "base_uri": "https://localhost:8080/"
        },
        "id": "I9PUsUbmpNmF",
        "outputId": "1eb486c6-9cfa-413a-f125-6b51306ef750"
      },
      "execution_count": 108,
      "outputs": [
        {
          "output_type": "execute_result",
          "data": {
            "text/plain": [
              "array([208500, 181500, 223500, ..., 266500, 142125, 147500])"
            ]
          },
          "metadata": {},
          "execution_count": 108
        }
      ]
    },
    {
      "cell_type": "code",
      "source": [
        "X.reshape(-1, 1)\n",
        "y.reshape(-1, 1)"
      ],
      "metadata": {
        "colab": {
          "base_uri": "https://localhost:8080/"
        },
        "id": "GOfTf6mUpPkV",
        "outputId": "3f340539-0692-411b-f911-30e74ecedff5"
      },
      "execution_count": 109,
      "outputs": [
        {
          "output_type": "execute_result",
          "data": {
            "text/plain": [
              "array([[208500],\n",
              "       [181500],\n",
              "       [223500],\n",
              "       ...,\n",
              "       [266500],\n",
              "       [142125],\n",
              "       [147500]])"
            ]
          },
          "metadata": {},
          "execution_count": 109
        }
      ]
    },
    {
      "cell_type": "code",
      "source": [
        "# Train test split\n",
        "\n",
        "X_trainm, X_testm, y_trainm, y_testm = train_test_split(X, y, test_size = .2, random_state = 0)"
      ],
      "metadata": {
        "id": "KpwNMXEdpSQa"
      },
      "execution_count": 110,
      "outputs": []
    },
    {
      "cell_type": "code",
      "source": [
        "import numpy as np\n",
        "import matplotlib.pyplot as plt\n",
        "\n",
        "# Code Taken from Geeks_for_Geeks\n",
        "  \n",
        "def estimate_coef(x, y):\n",
        "    # number of observations/points\n",
        "    n = np.size(x)\n",
        "  \n",
        "    # mean of x and y vector\n",
        "    m_x = np.mean(x)\n",
        "    m_y = np.mean(y)\n",
        "  \n",
        "    # calculating cross-deviation and deviation about x\n",
        "    SS_xy = np.sum(y*x) - n*m_y*m_x\n",
        "    SS_xx = np.sum(x*x) - n*m_x*m_x\n",
        "  \n",
        "    # calculating regression coefficients\n",
        "    b_1 = SS_xy / SS_xx\n",
        "    b_0 = m_y - b_1*m_x\n",
        "  \n",
        "    return (b_0, b_1)\n",
        "  \n",
        "def plot_regression_line(x, y, b):\n",
        "    # plotting the actual points as scatter plot\n",
        "    plt.scatter(x, y, color = \"m\",\n",
        "               marker = \"o\", s = 30)\n",
        "  \n",
        "    # predicted response vector\n",
        "    y_pred = b[0] + b[1]*x\n",
        "  \n",
        "    # plotting the regression line\n",
        "    plt.plot(x, y_pred, color = \"g\")\n",
        "  \n",
        "    # putting labels\n",
        "    plt.xlabel('x')\n",
        "    plt.ylabel('y')\n",
        "  \n",
        "    # function to show plot\n",
        "    plt.show()\n",
        "  \n",
        "def main(a,b):\n",
        "    # observations / data\n",
        "    x = a\n",
        "    y = b\n",
        "  \n",
        "    # estimating coefficients\n",
        "    b = estimate_coef(x, y)\n",
        "    print(\"Estimated coefficients:\\nb_0 = {}  \\\n",
        "          \\nb_1 = {}\".format(b[0], b[1]))\n",
        "  \n",
        "    # plotting regression line\n",
        "    plot_regression_line(x, y, b)\n",
        "  \n",
        "if __name__ == \"__main__\":\n",
        "    main(X_trainm,y_trainm)"
      ],
      "metadata": {
        "colab": {
          "base_uri": "https://localhost:8080/",
          "height": 334
        },
        "id": "yg4Pv0cJpVED",
        "outputId": "4f8dd732-d8db-4583-d89d-03dec5252428"
      },
      "execution_count": 111,
      "outputs": [
        {
          "output_type": "stream",
          "name": "stdout",
          "text": [
            "Estimated coefficients:\n",
            "b_0 = 181391.77464071062            \n",
            "b_1 = 62747.99073354732\n"
          ]
        },
        {
          "output_type": "display_data",
          "data": {
            "text/plain": [
              "<Figure size 432x288 with 1 Axes>"
            ],
            "image/png": "[encoded data removed]"
          },
          "metadata": {
            "needs_background": "light"
          }
        }
      ]
    },
    {
      "cell_type": "code",
      "source": [
        "b0,b1 = estimate_coef(X_trainm,y_trainm)"
      ],
      "metadata": {
        "id": "uROccdjwpeLb"
      },
      "execution_count": 112,
      "outputs": []
    },
    {
      "cell_type": "code",
      "source": [
        "# Linear model with the coefficients\n",
        "def yhat(x):\n",
        "  return b0 + x*b1\n",
        "\n",
        "y_predm = yhat(X_testm)\n",
        "y_predm"
      ],
      "metadata": {
        "colab": {
          "base_uri": "https://localhost:8080/"
        },
        "id": "A6DJc-IxpgT7",
        "outputId": "9e731a2a-85e6-4339-d3d9-f2c5ae16c206"
      },
      "execution_count": 113,
      "outputs": [
        {
          "output_type": "execute_result",
          "data": {
            "text/plain": [
              "array([176884.20280734, 176884.20280734, 131497.61745068, 222270.78816401,\n",
              "       176884.20280734, 131497.61745068, 267657.37352068, 176884.20280734,\n",
              "       358430.54423401, 222270.78816401, 222270.78816401, 131497.61745068,\n",
              "       222270.78816401, 131497.61745068, 176884.20280734, 131497.61745068,\n",
              "       222270.78816401,  86111.03209401, 131497.61745068, 222270.78816401,\n",
              "       131497.61745068, 176884.20280734, 131497.61745068, 176884.20280734,\n",
              "       176884.20280734, 267657.37352068, 176884.20280734,  86111.03209401,\n",
              "       313043.95887735, 131497.61745068, 131497.61745068, 222270.78816401,\n",
              "       176884.20280734, 267657.37352068, 267657.37352068, 222270.78816401,\n",
              "       313043.95887735, 131497.61745068, 222270.78816401, 267657.37352068,\n",
              "       176884.20280734, 131497.61745068, 222270.78816401, 267657.37352068,\n",
              "       267657.37352068, 131497.61745068, 131497.61745068, 131497.61745068,\n",
              "       176884.20280734,  86111.03209401, 313043.95887735, 131497.61745068,\n",
              "       176884.20280734,  86111.03209401, 222270.78816401,  86111.03209401,\n",
              "       131497.61745068, 267657.37352068, 131497.61745068, 131497.61745068,\n",
              "       176884.20280734, 131497.61745068, 131497.61745068, 131497.61745068,\n",
              "       176884.20280734, 176884.20280734, 131497.61745068, 222270.78816401,\n",
              "       131497.61745068, 222270.78816401, 222270.78816401, 131497.61745068,\n",
              "        40724.44673734, 267657.37352068,  86111.03209401, 267657.37352068,\n",
              "       131497.61745068, 131497.61745068, 222270.78816401, 176884.20280734,\n",
              "       131497.61745068, 131497.61745068, 131497.61745068, 131497.61745068,\n",
              "       131497.61745068, 222270.78816401,  40724.44673734, 222270.78816401,\n",
              "       176884.20280734, 176884.20280734, 176884.20280734, 176884.20280734,\n",
              "       176884.20280734, 222270.78816401, 222270.78816401, 176884.20280734,\n",
              "       222270.78816401, 176884.20280734,  86111.03209401, 131497.61745068,\n",
              "       222270.78816401, 222270.78816401, 131497.61745068, 176884.20280734,\n",
              "       176884.20280734, 267657.37352068, 131497.61745068,  86111.03209401,\n",
              "       176884.20280734, 176884.20280734, 131497.61745068,  86111.03209401,\n",
              "       176884.20280734, 131497.61745068, 222270.78816401, 176884.20280734,\n",
              "       358430.54423401, 131497.61745068, 176884.20280734, 267657.37352068,\n",
              "       222270.78816401, 222270.78816401, 131497.61745068, 222270.78816401,\n",
              "       222270.78816401, 222270.78816401, 313043.95887735, 222270.78816401,\n",
              "       222270.78816401, 176884.20280734, 222270.78816401, 222270.78816401,\n",
              "       131497.61745068, 176884.20280734,  86111.03209401, 222270.78816401,\n",
              "       176884.20280734, 222270.78816401,  86111.03209401, 176884.20280734,\n",
              "       176884.20280734, 131497.61745068, 176884.20280734, 131497.61745068,\n",
              "        86111.03209401, 176884.20280734, 267657.37352068, 131497.61745068,\n",
              "       313043.95887735, 222270.78816401, 176884.20280734, 313043.95887735,\n",
              "       313043.95887735, 131497.61745068, 267657.37352068, 222270.78816401,\n",
              "        86111.03209401, 267657.37352068, 131497.61745068, 222270.78816401,\n",
              "        86111.03209401, 131497.61745068, 222270.78816401,  86111.03209401,\n",
              "       267657.37352068, 131497.61745068, 131497.61745068, 222270.78816401,\n",
              "       222270.78816401, 176884.20280734, 176884.20280734, 176884.20280734,\n",
              "       176884.20280734, 176884.20280734, 131497.61745068, 131497.61745068,\n",
              "       131497.61745068, 176884.20280734, 176884.20280734, 176884.20280734,\n",
              "       267657.37352068, 222270.78816401, 176884.20280734, 267657.37352068,\n",
              "        86111.03209401, 176884.20280734, 176884.20280734, 222270.78816401,\n",
              "       222270.78816401, 176884.20280734, 131497.61745068, 176884.20280734,\n",
              "       222270.78816401, 131497.61745068, 131497.61745068, 176884.20280734,\n",
              "        86111.03209401, 176884.20280734, 176884.20280734, 131497.61745068,\n",
              "       131497.61745068, 267657.37352068, 131497.61745068, 131497.61745068,\n",
              "       131497.61745068, 131497.61745068, 176884.20280734, 313043.95887735,\n",
              "       267657.37352068,  40724.44673734, 131497.61745068, 267657.37352068,\n",
              "        40724.44673734, 131497.61745068, 313043.95887735, 176884.20280734,\n",
              "       222270.78816401, 222270.78816401, 267657.37352068,  86111.03209401,\n",
              "       222270.78816401, 176884.20280734, 176884.20280734, 131497.61745068,\n",
              "       222270.78816401, 222270.78816401, 267657.37352068, 176884.20280734,\n",
              "       131497.61745068, 222270.78816401,  40724.44673734, 222270.78816401,\n",
              "        86111.03209401, 131497.61745068, 222270.78816401, 176884.20280734,\n",
              "       131497.61745068, 131497.61745068,  86111.03209401, 176884.20280734,\n",
              "       131497.61745068, 176884.20280734, 222270.78816401, 222270.78816401,\n",
              "       176884.20280734, 267657.37352068, 267657.37352068, 222270.78816401,\n",
              "       131497.61745068, 222270.78816401, 176884.20280734, 267657.37352068,\n",
              "       131497.61745068, 358430.54423401, 267657.37352068, 222270.78816401,\n",
              "       131497.61745068, 222270.78816401, 267657.37352068, 358430.54423401,\n",
              "       267657.37352068,  86111.03209401, 131497.61745068,  86111.03209401,\n",
              "       358430.54423401, 313043.95887735, 267657.37352068,  86111.03209401,\n",
              "       222270.78816401, 267657.37352068, 131497.61745068, 222270.78816401,\n",
              "       131497.61745068, 176884.20280734, 176884.20280734, 222270.78816401,\n",
              "       267657.37352068, 222270.78816401, 222270.78816401,  86111.03209401,\n",
              "       131497.61745068, 313043.95887735, 176884.20280734, 131497.61745068,\n",
              "       222270.78816401, 131497.61745068, 176884.20280734, 267657.37352068,\n",
              "       358430.54423401, 176884.20280734,  86111.03209401, 131497.61745068])"
            ]
          },
          "metadata": {},
          "execution_count": 113
        }
      ]
    },
    {
      "cell_type": "code",
      "source": [
        "# Evaluating Metrics\n",
        "Emetrics(y_testm,y_predm)"
      ],
      "metadata": {
        "colab": {
          "base_uri": "https://localhost:8080/"
        },
        "id": "nGMJ7KRjpjGx",
        "outputId": "703c6170-5256-45f6-f2b2-45204ff05f5e"
      },
      "execution_count": 114,
      "outputs": [
        {
          "output_type": "stream",
          "name": "stdout",
          "text": [
            "Mean Absoulute error is : 32160.942388859257\n",
            "Mean Squared error is: 2572969092.660074\n",
            "Root Mean Square error is: 50724.44275356876\n",
            "R2 score is: 0.6274218081667629\n"
          ]
        }
      ]
    },
    {
      "cell_type": "markdown",
      "source": [
        "## Overall Quality is good regressor over other three!\n",
        "## Its giving more R2 value and less RMSE...."
      ],
      "metadata": {
        "id": "108kYnszpoOm"
      }
    },
    {
      "cell_type": "markdown",
      "source": [
        "# Multiple Regression"
      ],
      "metadata": {
        "id": "xhr7NyUTqJ7S"
      }
    },
    {
      "cell_type": "code",
      "source": [
        "X = kdf.iloc[:, 1:-1].values\n",
        "y = kdf.iloc[:, -1].values"
      ],
      "metadata": {
        "id": "7QBPo3iPpsec"
      },
      "execution_count": 115,
      "outputs": []
    },
    {
      "cell_type": "code",
      "source": [
        "from sklearn.model_selection import train_test_split\n",
        "X_train, X_test, y_train, y_test = train_test_split(X, y, test_size = 1/3, random_state = 0)"
      ],
      "metadata": {
        "id": "KDy5CRh5qN3W"
      },
      "execution_count": 116,
      "outputs": []
    },
    {
      "cell_type": "code",
      "source": [
        "from sklearn.linear_model import LinearRegression\n",
        "regressor = LinearRegression()\n",
        "regressor.fit(X_train,y_train)"
      ],
      "metadata": {
        "colab": {
          "base_uri": "https://localhost:8080/",
          "height": 74
        },
        "id": "8VE0jwqIqQeP",
        "outputId": "a85bdefc-892a-4d35-b0b6-315745edac79"
      },
      "execution_count": 117,
      "outputs": [
        {
          "output_type": "execute_result",
          "data": {
            "text/plain": [
              "LinearRegression()"
            ],
            "text/html": [
              "<style>#sk-container-id-1 {color: black;background-color: white;}#sk-container-id-1 pre{padding: 0;}#sk-container-id-1 div.sk-toggleable {background-color: white;}#sk-container-id-1 label.sk-toggleable__label {cursor: pointer;display: block;width: 100%;margin-bottom: 0;padding: 0.3em;box-sizing: border-box;text-align: center;}#sk-container-id-1 label.sk-toggleable__label-arrow:before {content: \"▸\";float: left;margin-right: 0.25em;color: #696969;}#sk-container-id-1 label.sk-toggleable__label-arrow:hover:before {color: black;}#sk-container-id-1 div.sk-estimator:hover label.sk-toggleable__label-arrow:before {color: black;}#sk-container-id-1 div.sk-toggleable__content {max-height: 0;max-width: 0;overflow: hidden;text-align: left;background-color: #f0f8ff;}#sk-container-id-1 div.sk-toggleable__content pre {margin: 0.2em;color: black;border-radius: 0.25em;background-color: #f0f8ff;}#sk-container-id-1 input.sk-toggleable__control:checked~div.sk-toggleable__content {max-height: 200px;max-width: 100%;overflow: auto;}#sk-container-id-1 input.sk-toggleable__control:checked~label.sk-toggleable__label-arrow:before {content: \"▾\";}#sk-container-id-1 div.sk-estimator input.sk-toggleable__control:checked~label.sk-toggleable__label {background-color: #d4ebff;}#sk-container-id-1 div.sk-label input.sk-toggleable__control:checked~label.sk-toggleable__label {background-color: #d4ebff;}#sk-container-id-1 input.sk-hidden--visually {border: 0;clip: rect(1px 1px 1px 1px);clip: rect(1px, 1px, 1px, 1px);height: 1px;margin: -1px;overflow: hidden;padding: 0;position: absolute;width: 1px;}#sk-container-id-1 div.sk-estimator {font-family: monospace;background-color: #f0f8ff;border: 1px dotted black;border-radius: 0.25em;box-sizing: border-box;margin-bottom: 0.5em;}#sk-container-id-1 div.sk-estimator:hover {background-color: #d4ebff;}#sk-container-id-1 div.sk-parallel-item::after {content: \"\";width: 100%;border-bottom: 1px solid gray;flex-grow: 1;}#sk-container-id-1 div.sk-label:hover label.sk-toggleable__label {background-color: #d4ebff;}#sk-container-id-1 div.sk-serial::before {content: \"\";position: absolute;border-left: 1px solid gray;box-sizing: border-box;top: 0;bottom: 0;left: 50%;z-index: 0;}#sk-container-id-1 div.sk-serial {display: flex;flex-direction: column;align-items: center;background-color: white;padding-right: 0.2em;padding-left: 0.2em;position: relative;}#sk-container-id-1 div.sk-item {position: relative;z-index: 1;}#sk-container-id-1 div.sk-parallel {display: flex;align-items: stretch;justify-content: center;background-color: white;position: relative;}#sk-container-id-1 div.sk-item::before, #sk-container-id-1 div.sk-parallel-item::before {content: \"\";position: absolute;border-left: 1px solid gray;box-sizing: border-box;top: 0;bottom: 0;left: 50%;z-index: -1;}#sk-container-id-1 div.sk-parallel-item {display: flex;flex-direction: column;z-index: 1;position: relative;background-color: white;}#sk-container-id-1 div.sk-parallel-item:first-child::after {align-self: flex-end;width: 50%;}#sk-container-id-1 div.sk-parallel-item:last-child::after {align-self: flex-start;width: 50%;}#sk-container-id-1 div.sk-parallel-item:only-child::after {width: 0;}#sk-container-id-1 div.sk-dashed-wrapped {border: 1px dashed gray;margin: 0 0.4em 0.5em 0.4em;box-sizing: border-box;padding-bottom: 0.4em;background-color: white;}#sk-container-id-1 div.sk-label label {font-family: monospace;font-weight: bold;display: inline-block;line-height: 1.2em;}#sk-container-id-1 div.sk-label-container {text-align: center;}#sk-container-id-1 div.sk-container {/* jupyter's `normalize.less` sets `[hidden] { display: none; }` but bootstrap.min.css set `[hidden] { display: none !important; }` so we also need the `!important` here to be able to override the default hidden behavior on the sphinx rendered scikit-learn.org. See: https://github.com/scikit-learn/scikit-learn/issues/21755 */display: inline-block !important;position: relative;}#sk-container-id-1 div.sk-text-repr-fallback {display: none;}</style><div id=\"sk-container-id-1\" class=\"sk-top-container\"><div class=\"sk-text-repr-fallback\"><pre>LinearRegression()</pre><b>In a Jupyter environment, please rerun this cell to show the HTML representation or trust the notebook. <br />On GitHub, the HTML representation is unable to render, please try loading this page with nbviewer.org.</b></div><div class=\"sk-container\" hidden><div class=\"sk-item\"><div class=\"sk-estimator sk-toggleable\"><input class=\"sk-toggleable__control sk-hidden--visually\" id=\"sk-estimator-id-1\" type=\"checkbox\" checked><label for=\"sk-estimator-id-1\" class=\"sk-toggleable__label sk-toggleable__label-arrow\">LinearRegression</label><div class=\"sk-toggleable__content\"><pre>LinearRegression()</pre></div></div></div></div></div>"
            ]
          },
          "metadata": {},
          "execution_count": 117
        }
      ]
    },
    {
      "cell_type": "markdown",
      "source": [
        "## Predicting the Test Result"
      ],
      "metadata": {
        "id": "-0UT99s9qR36"
      }
    },
    {
      "cell_type": "code",
      "source": [
        "y_pred = regressor.predict(X_test)\n",
        "y_pred"
      ],
      "metadata": {
        "colab": {
          "base_uri": "https://localhost:8080/"
        },
        "id": "ViI92KIPqYgx",
        "outputId": "b009af67-923f-4369-c696-0a86fa0d0c32"
      },
      "execution_count": 118,
      "outputs": [
        {
          "output_type": "execute_result",
          "data": {
            "text/plain": [
              "array([ 2.60040000e+05,  1.36792000e+05,  1.18840000e+05,  2.23864000e+05,\n",
              "        1.05944000e+05,  9.16880000e+04,  2.43752000e+05,  1.43448000e+05,\n",
              "        5.46728000e+05,  1.44920000e+05,  2.05952000e+05, -6.71448280e+15,\n",
              "        2.31048000e+05,  1.13128000e+05,  1.05240000e+05,  1.49224000e+05,\n",
              "        2.62184000e+05,  1.16200000e+05,  1.32264000e+05,  1.78680000e+05,\n",
              "        1.35576000e+05,  1.47784000e+05,  7.54320000e+04,  1.46696000e+05,\n",
              "        1.94152000e+05,  1.66696000e+05,  1.66408000e+05,  7.28400000e+04,\n",
              "        3.36056000e+05,  1.05736000e+05,  1.40664000e+05,  2.08440000e+05,\n",
              "        1.40872000e+05,  3.06952000e+05,  3.52144000e+05,  1.87368000e+05,\n",
              "        2.97176000e+05,  1.04776000e+05,  2.33256000e+05,  3.68680000e+05,\n",
              "        2.23912000e+05,  9.71600000e+04,  1.99664000e+05,  3.15544000e+05,\n",
              "        3.50952000e+05,  1.32504000e+05, -6.71541021e+15,  1.21688000e+05,\n",
              "        1.69080000e+05,  9.43440000e+04,  3.82632000e+05,  1.51432000e+05,\n",
              "        1.69704000e+05,  6.49360000e+04,  2.31816000e+05,  8.72240000e+04,\n",
              "        9.97360000e+04,  2.24840000e+05,  1.18376000e+05,  8.77520000e+04,\n",
              "        1.21128000e+05,  1.29992000e+05,  1.25288000e+05,  1.60728000e+05,\n",
              "        2.17128000e+05,  1.65272000e+05,  1.35128000e+05,  2.41840000e+05,\n",
              "        1.28472000e+05,  2.04616000e+05,  1.83752000e+05,  1.05096000e+05,\n",
              "        5.71280000e+04,  2.97936000e+05,  6.55600000e+04,  2.54416000e+05,\n",
              "        1.24040000e+05,  6.85360000e+04,  3.04656000e+05,  2.30936000e+05,\n",
              "        1.33640000e+05,  1.34440000e+05,  1.34248000e+05,  1.43752000e+05,\n",
              "        2.66888000e+05,  1.91944000e+05,  7.63920000e+04,  2.15360000e+05,\n",
              "        1.70600000e+05,  1.50744000e+05,  1.83576000e+05,  1.79368000e+05,\n",
              "        1.68840000e+05,  2.29336000e+05,  2.22128000e+05,  1.71272000e+05,\n",
              "        2.18312000e+05,  1.72424000e+05,  1.12488000e+05,  1.51928000e+05,\n",
              "        2.51544000e+05,  2.28944000e+05,  1.14936000e+05,  1.59720000e+05,\n",
              "        1.05064000e+05,  3.03496000e+05,  1.74632000e+05,  7.99120000e+04,\n",
              "        1.95680000e+05,  1.14120000e+05,  1.43720000e+05,  9.51120000e+04,\n",
              "        1.79112000e+05,  9.87440000e+04,  1.75864000e+05,  1.85880000e+05,\n",
              "        3.87144000e+05,  9.76240000e+04,  2.27848000e+05,  2.48488000e+05,\n",
              "        1.61832000e+05,  1.50200000e+05,  1.26856000e+05,  1.65352000e+05,\n",
              "        2.25384000e+05,  2.84768000e+05,  3.81808000e+05,  2.10096000e+05,\n",
              "        1.96144000e+05,  1.62024000e+05,  1.67144000e+05,  1.91960000e+05,\n",
              "        1.29592000e+05,  1.99848000e+05,  7.94080000e+04,  2.17768000e+05,\n",
              "        1.37544000e+05,  1.71048000e+05,  1.02216000e+05,  1.84296000e+05,\n",
              "        1.65736000e+05,  1.14952000e+05,  2.57176000e+05,  1.51688000e+05,\n",
              "        1.28392000e+05,  1.66584000e+05,  2.04024000e+05,  1.44888000e+05,\n",
              "        3.04456000e+05,  2.37864000e+05,  1.69304000e+05,  3.58384000e+05,\n",
              "        2.76296000e+05,  1.60824000e+05,  1.61048000e+05,  2.97832000e+05,\n",
              "        1.60392000e+05,  2.13864000e+05,  1.27360000e+05,  1.61960000e+05,\n",
              "        1.13720000e+05,  1.32848000e+05,  2.04464000e+05,  1.30008000e+05,\n",
              "        2.26488000e+05,  1.20872000e+05,  1.46760000e+05,  2.87832000e+05,\n",
              "        2.18888000e+05,  1.60056000e+05,  1.65480000e+05,  1.63976000e+05,\n",
              "        2.17480000e+05,  1.69640000e+05,  8.91120000e+04,  5.82739863e+14,\n",
              "        1.32856000e+05,  2.53080000e+05,  9.82640000e+04,  1.35752000e+05,\n",
              "        2.77832000e+05,  1.79912000e+05,  1.36504000e+05,  2.98696000e+05,\n",
              "        9.95600000e+04,  5.82739863e+14,  1.03720000e+05,  2.22976000e+05,\n",
              "        2.33952000e+05,  1.29864000e+05,  1.37416000e+05,  1.88472000e+05,\n",
              "        2.22792000e+05,  1.39656000e+05,  1.07480000e+05,  1.42184000e+05,\n",
              "        6.49040000e+04,  1.49608000e+05,  1.67080000e+05,  1.04232000e+05,\n",
              "        1.18544000e+05,  2.11048000e+05,  1.06184000e+05,  1.13560000e+05,\n",
              "        1.27128000e+05,  1.96872000e+05,  1.68808000e+05,  2.90664000e+05,\n",
              "        2.44360000e+05,  6.67280000e+04,  1.31960000e+05,  2.75464000e+05,\n",
              "        6.16720000e+04,  1.15128000e+05,  4.38952000e+05, -5.48209556e+15,\n",
              "        1.76072000e+05,  2.70760000e+05,  2.34472000e+05,  8.81680000e+04,\n",
              "        1.97704000e+05,  1.45432000e+05,  1.30520000e+05,  1.23176000e+05,\n",
              "        1.93288000e+05,  2.81240000e+05,  2.27048000e+05,  2.05368000e+05,\n",
              "        1.11272000e+05,  1.47336000e+05,  6.50640000e+04,  1.42904000e+05,\n",
              "        9.96720000e+04,  1.46856000e+05,  2.79784000e+05,  1.34888000e+05,\n",
              "        1.38744000e+05,  1.17352000e+05,  7.52080000e+04,  1.79288000e+05,\n",
              "        1.24120000e+05,  1.87400000e+05,  2.05992000e+05,  2.11624000e+05,\n",
              "        1.89592000e+05,  1.74776000e+05,  2.19112000e+05,  1.88056000e+05,\n",
              "        1.57608000e+05,  2.02376000e+05,  1.85224000e+05,  2.64992000e+05,\n",
              "        9.51440000e+04,  4.26928000e+05,  2.49680000e+05,  2.25784000e+05,\n",
              "        1.12184000e+05,  2.25880000e+05,  4.22408000e+05, -1.18011476e+15,\n",
              "        1.82040000e+05,  9.92240000e+04,  1.47528000e+05,  7.23440000e+04,\n",
              "       -7.88800000e+03,  3.42160000e+05,  3.40440000e+05, -6.71541021e+15,\n",
              "        2.45928000e+05,  2.36808000e+05,  1.33224000e+05,  2.54168000e+05,\n",
              "        1.44552000e+05,  1.66472000e+05,  1.33704000e+05,  2.41368000e+05,\n",
              "        2.24840000e+05,  2.59888000e+05,  2.08712000e+05,  1.12776000e+05,\n",
              "        1.20952000e+05,  3.53352000e+05,  1.77048000e+05,  1.28936000e+05,\n",
              "        2.11616000e+05,  1.73896000e+05,  1.28488000e+05,  2.89576000e+05,\n",
              "        4.40936000e+05,  2.66184000e+05,  1.20392000e+05,  7.54960000e+04,\n",
              "        3.59952000e+05,  8.78000000e+04,  1.48056000e+05,  2.73080000e+05,\n",
              "        2.18312000e+05,  1.83864000e+05,  1.35960000e+05,  1.73304000e+05,\n",
              "        9.54960000e+04,  1.34872000e+05,  2.02856000e+05,  2.00648000e+05,\n",
              "        1.34952000e+05,  1.33992000e+05,  1.41416000e+05,  1.97656000e+05,\n",
              "        2.12672000e+05,  1.70696000e+05,  1.14920000e+05,  1.75440000e+05,\n",
              "        1.03672000e+05,  1.30056000e+05,  1.19352000e+05,  1.33928000e+05,\n",
              "        2.86296000e+05,  1.30984000e+05,  1.83112000e+05,  1.53608000e+05,\n",
              "        9.11200000e+04,  2.72872000e+05,  8.97520000e+04,  2.16456000e+05,\n",
              "        1.29464000e+05,  2.34568000e+05,  1.15240000e+05,  3.36728000e+05,\n",
              "        2.30312000e+05,  1.62088000e+05,  1.11816000e+05,  2.21992000e+05,\n",
              "        1.98280000e+05,  2.06912000e+05,  1.57096000e+05,  1.44328000e+05,\n",
              "        1.13304000e+05,  1.99016000e+05,  1.46024000e+05,  1.17512000e+05,\n",
              "        3.40840000e+05,  1.69864000e+05,  1.86120000e+05,  2.21384000e+05,\n",
              "        1.93192000e+05,  1.16984000e+05,  1.08568000e+05,  7.77680000e+04,\n",
              "        8.33680000e+04,  1.37448000e+05,  2.16872000e+05,  3.32456000e+05,\n",
              "        7.65680000e+04,  9.06320000e+04,  1.46984000e+05,  3.97712000e+05,\n",
              "        3.15480000e+05,  1.51656000e+05,  2.54248000e+05,  3.21640000e+05,\n",
              "       -6.71406033e+15,  2.00600000e+05,  2.29016000e+05,  2.36496000e+05,\n",
              "        9.27440000e+04,  1.47368000e+05,  1.73976000e+05,  1.37960000e+05,\n",
              "        1.97384000e+05,  1.80968000e+05,  3.68088000e+05,  6.20880000e+04,\n",
              "        1.19760000e+05,  1.21256000e+05,  1.37384000e+05,  4.33840000e+04,\n",
              "        2.05384000e+05,  2.85960000e+05,  1.24664000e+05,  2.57752000e+05,\n",
              "        1.44088000e+05,  8.40240000e+04,  1.39592000e+05,  1.39688000e+05,\n",
              "        1.29256000e+05,  6.66480000e+04,  1.41688000e+05,  2.08752000e+05,\n",
              "        2.39232000e+05,  3.69328000e+05,  7.53360000e+04,  1.04728000e+05,\n",
              "        2.41288000e+05,  7.65520000e+04,  1.41560000e+05,  1.57944000e+05,\n",
              "        2.20600000e+05,  1.80032000e+05,  1.71432000e+05,  1.73416000e+05,\n",
              "        3.56968000e+05,  2.21544000e+05,  1.50200000e+05,  9.84080000e+04,\n",
              "        1.73288000e+05,  3.12048000e+05,  1.31864000e+05,  3.33936000e+05,\n",
              "        2.49800000e+05,  2.16144000e+05,  1.11896000e+05,  1.18024000e+05,\n",
              "        2.19832000e+05,  1.44424000e+05,  1.00360000e+05,  9.23120000e+04,\n",
              "        2.12984000e+05,  1.23240000e+05,  2.93656000e+05,  1.05752000e+05,\n",
              "        2.65832000e+05,  3.52832000e+05,  1.10856000e+05,  1.72360000e+05,\n",
              "        1.39208000e+05,  1.13592000e+05,  2.92712000e+05,  1.14152000e+05,\n",
              "        2.01256000e+05,  1.37544000e+05,  1.30760000e+05,  2.31952000e+05,\n",
              "        1.32520000e+05, -1.18011877e+15,  1.62280000e+05,  3.53272000e+05,\n",
              "        2.14856000e+05,  4.47168000e+05,  2.36472000e+05,  1.85576000e+05,\n",
              "        1.30024000e+05,  1.17032000e+05,  3.98960000e+04,  1.50056000e+05,\n",
              "        1.55576000e+05,  1.75624000e+05,  1.21416000e+05,  1.43974654e+16,\n",
              "        1.28616000e+05,  3.08072000e+05,  1.53880000e+05,  2.21160000e+05,\n",
              "        1.54376000e+05,  1.89720000e+05,  1.47064000e+05,  1.92752000e+05,\n",
              "        9.23600000e+04,  1.06216000e+05,  2.40792000e+05,  1.61256000e+05,\n",
              "        1.89800000e+05,  1.50680000e+05,  1.81800000e+05,  9.12240000e+04,\n",
              "        2.23096000e+05,  1.32232000e+05,  2.06168000e+05,  1.18088000e+05,\n",
              "        1.94008000e+05,  2.47864000e+05,  1.91496000e+05,  1.16552000e+05,\n",
              "        1.04312000e+05,  2.27352000e+05,  1.42312000e+05,  8.15600000e+04,\n",
              "        1.48840000e+05,  2.00936000e+05,  2.46344000e+05,  1.96072000e+05,\n",
              "        1.09704000e+05,  1.78840000e+05,  2.46152000e+05,  1.36072000e+05,\n",
              "        1.32776000e+05,  2.16504000e+05,  2.45392000e+05])"
            ]
          },
          "metadata": {},
          "execution_count": 118
        }
      ]
    },
    {
      "cell_type": "code",
      "source": [
        "y_test"
      ],
      "metadata": {
        "colab": {
          "base_uri": "https://localhost:8080/"
        },
        "id": "qcYEYjUjqnGb",
        "outputId": "9e88473d-7bba-48fb-85e1-32ed652f99ae"
      },
      "execution_count": 119,
      "outputs": [
        {
          "output_type": "execute_result",
          "data": {
            "text/plain": [
              "array([200624, 133000, 110000, 192000,  88000,  85000, 282922, 141000,\n",
              "       745000, 148800, 208900, 136905, 225000, 123000, 119200, 145000,\n",
              "       190000, 123600, 149350, 155000, 166000, 144500, 110000, 174000,\n",
              "       185000, 168000, 177500,  84500, 320000, 118500, 110000, 213000,\n",
              "       156000, 250000, 372500, 175000, 277500, 112500, 263000, 325000,\n",
              "       243000, 130000, 164990, 280000, 403000, 119000, 125000, 128200,\n",
              "       172500,  84900, 412500, 156000, 167900, 100000, 275000, 123000,\n",
              "       132000, 239900, 139000, 115000, 137500, 135000, 134450, 180500,\n",
              "       193500, 156500, 132000, 224500, 139000, 225000, 188500, 118000,\n",
              "        82000, 392000, 112000, 248900, 134500,  79500, 320000, 158000,\n",
              "       140000, 136500, 107500, 145000, 200500, 185000, 105000, 202665,\n",
              "       186000, 136000, 200500, 190000, 187500, 200000, 172500, 157000,\n",
              "       213000, 185000, 124500, 162900, 260000, 198500, 120000, 159500,\n",
              "       105900, 260000, 143000, 106500, 178900, 127000,  90350, 118500,\n",
              "       190000, 119900, 183900, 155000, 386250, 133000, 193500, 270000,\n",
              "       141000, 146000, 128500, 176000, 214000, 222000, 415298, 187750,\n",
              "       199900, 180000, 206300, 194000, 142953, 182900, 116050, 213250,\n",
              "       139500, 179000, 107900, 175900, 158500, 145000, 217000, 150500,\n",
              "       108959, 165600, 201000, 145500, 319900, 215000, 180500, 367294,\n",
              "       239000, 145900, 161000, 250000,  89471, 230000, 147000, 163900,\n",
              "        97000, 142000, 197000, 129000, 232000, 115000, 175000, 265000,\n",
              "       207000, 181000, 176000, 171000, 196000, 176000, 113000, 139000,\n",
              "       135000, 240000, 112000, 134000, 316600, 170000, 116000, 306000,\n",
              "        82500, 175000, 106000, 194000, 194201, 155900, 138000, 177000,\n",
              "       214000, 148000, 127000, 142500,  80000, 145000, 171000, 122500,\n",
              "       139000, 189000, 120500, 124000, 160000, 200000, 160000, 313000,\n",
              "       275000,  67000, 159000, 251000,  92900, 109500, 385000, 129000,\n",
              "        82500, 301000, 249700,  81000, 187500, 110000, 117000, 128500,\n",
              "       213490, 284000, 230500, 190000, 135000, 152000,  87500, 155000,\n",
              "       115000, 144000, 248000, 132500, 136000, 117000,  82000, 157500,\n",
              "       110000, 181000, 192500, 223500, 181500, 170000, 187500, 185900,\n",
              "       160000, 192000, 181900, 266000,  99900, 438780, 229456, 216837,\n",
              "       110500, 175900, 538000, 160000, 172500, 108000, 131500, 106250,\n",
              "       385000, 370878, 345000,  68500, 250000, 245350, 125000, 234000,\n",
              "       145000, 181000, 104000, 233000, 164000, 219500, 195000, 108000,\n",
              "       149900, 315000, 177500, 140000, 193879, 137900, 118000, 324000,\n",
              "       555000, 136000,  82500, 101000, 314813, 109500, 163500, 271000,\n",
              "       205000, 185000, 160000, 155000,  91000, 131000, 165400, 194700,\n",
              "       155000, 140000, 147000, 194000, 179540, 173000, 109500, 173733,\n",
              "       129900, 119000, 125500, 149300, 305000, 102000, 178740, 129500,\n",
              "        79900, 278000, 118400, 197000, 140000, 226000, 132500, 315000,\n",
              "       224000, 132500, 119500, 215000, 210000, 200141, 185000, 149900,\n",
              "       129000, 184100, 135000, 128000, 374000, 164000, 157000, 215000,\n",
              "       165000, 144000, 125500,  98300,  91300, 135960, 226700, 333168,\n",
              "       114500,  97000, 181000, 465000, 290000, 175000, 235000, 277000,\n",
              "       325000, 178000, 235000, 239000,  85000, 107500, 160000, 145000,\n",
              "       192140, 181000, 380000,  66500, 124500, 124000, 144000,  52500,\n",
              "       217000, 275000, 127000, 262500, 162000, 103000, 137500, 127500,\n",
              "       127000,  91000, 145000, 186500, 221500, 253293, 108480, 127000,\n",
              "       237500,  86000, 141000, 176000, 178400, 173900, 157000, 193000,\n",
              "       335000, 201000, 146500,  86000, 148000, 280000, 112000, 303477,\n",
              "       250000, 244600, 126000, 130500, 241000, 118500, 115000, 129900,\n",
              "       202500, 118000, 335000, 125000, 255900, 342643, 109008, 148500,\n",
              "       132500, 110000, 244000, 115000, 194500, 129500, 167500, 227875,\n",
              "       169900, 241500, 127500, 350000, 227000, 611657, 219500, 173000,\n",
              "       116500, 105000,  60000, 149500, 119750, 158000, 148000, 100000,\n",
              "       214500, 359100, 139000, 204000, 147000, 175000, 137450, 169990,\n",
              "        88000, 126000, 255000, 162000, 185000, 155000, 153000,  97000,\n",
              "       159500, 135000, 214000, 113000, 190000, 240000, 175000, 135000,\n",
              "       115000, 244000, 132000,  83500, 143500, 212000, 232000, 208900,\n",
              "       124000, 167000, 259000, 144000, 137000, 230000, 239799])"
            ]
          },
          "metadata": {},
          "execution_count": 119
        }
      ]
    },
    {
      "cell_type": "code",
      "source": [
        "# Evaluation metrics for Multiple Linear Regression\n",
        "Emetrics(y_test,y_pred)"
      ],
      "metadata": {
        "colab": {
          "base_uri": "https://localhost:8080/"
        },
        "id": "aPC43DKqqp_4",
        "outputId": "1625cb94-1ace-4347-a292-da49d450bcaa"
      },
      "execution_count": 120,
      "outputs": [
        {
          "output_type": "stream",
          "name": "stdout",
          "text": [
            "Mean Absoulute error is : 103212808670190.5\n",
            "Mean Squared error is: 8.648075146872115e+29\n",
            "Root Mean Square error is: 929950275384233.4\n",
            "R2 score is: -1.3431784378527485e+20\n"
          ]
        }
      ]
    },
    {
      "cell_type": "markdown",
      "source": [
        "## Lets do multiple linear regression with only starting numeric columns "
      ],
      "metadata": {
        "id": "7gwlLOmbq6ir"
      }
    },
    {
      "cell_type": "code",
      "source": [
        "copyff = numeric_columns_orig"
      ],
      "metadata": {
        "id": "eeBDVW2frl3y"
      },
      "execution_count": 121,
      "outputs": []
    },
    {
      "cell_type": "code",
      "source": [
        "\n",
        "cut_df = df_encoded[copyff]"
      ],
      "metadata": {
        "id": "2H7iRpYYrYqz"
      },
      "execution_count": 122,
      "outputs": []
    },
    {
      "cell_type": "code",
      "source": [
        "len(list(cut_df.columns))"
      ],
      "metadata": {
        "colab": {
          "base_uri": "https://localhost:8080/"
        },
        "id": "crfG8tJKr7Jb",
        "outputId": "5a78a577-99d1-4557-87cb-f29d979df0cc"
      },
      "execution_count": 123,
      "outputs": [
        {
          "output_type": "execute_result",
          "data": {
            "text/plain": [
              "36"
            ]
          },
          "metadata": {},
          "execution_count": 123
        }
      ]
    },
    {
      "cell_type": "code",
      "source": [
        "cut_df.insert(36, \"SalePrice\", df_encoded['SalePrice'], True)"
      ],
      "metadata": {
        "id": "b6H6zHqpr45y"
      },
      "execution_count": 124,
      "outputs": []
    },
    {
      "cell_type": "code",
      "source": [
        "cut_df.head(5)"
      ],
      "metadata": {
        "colab": {
          "base_uri": "https://localhost:8080/",
          "height": 299
        },
        "id": "QQiq9NIprrDE",
        "outputId": "61193e4a-7406-4bc4-f3de-48beeeb1ae7a"
      },
      "execution_count": 125,
      "outputs": [
        {
          "output_type": "execute_result",
          "data": {
            "text/plain": [
              "   MSSubClass  LotFrontage   LotArea  OverallQual  OverallCond  YearBuilt  \\\n",
              "0    0.073375     0.001533 -0.207142     0.651479    -0.517200   1.050994   \n",
              "1   -0.872563     0.646396 -0.091886    -0.071836     2.179628   0.156734   \n",
              "2    0.073375     0.141663  0.073480     0.651479    -0.517200   0.984752   \n",
              "3    0.309859    -0.247054 -0.096897     0.651479    -0.517200  -1.863632   \n",
              "4    0.073375     0.797923  0.375148     1.374795    -0.517200   0.951632   \n",
              "\n",
              "   YearRemodAdd  MasVnrArea  BsmtFinSF1  BsmtFinSF2  ...  WoodDeckSF  \\\n",
              "0      0.878668    1.204192    0.575425   -0.288653  ...   -0.752176   \n",
              "1     -0.429577   -0.805930    1.171992   -0.288653  ...    1.626195   \n",
              "2      0.830215    1.131635    0.092907   -0.288653  ...   -0.752176   \n",
              "3     -0.720298   -0.805930   -0.499274   -0.288653  ...   -0.752176   \n",
              "4      0.733308    1.425011    0.463568   -0.288653  ...    0.780197   \n",
              "\n",
              "   OpenPorchSF  EnclosedPorch  3SsnPorch  ScreenPorch  PoolArea   MiscVal  \\\n",
              "0     0.216503      -0.359325  -0.116339    -0.270208 -0.068692 -0.087688   \n",
              "1    -0.704483      -0.359325  -0.116339    -0.270208 -0.068692 -0.087688   \n",
              "2    -0.070361      -0.359325  -0.116339    -0.270208 -0.068692 -0.087688   \n",
              "3    -0.176048       4.092524  -0.116339    -0.270208 -0.068692 -0.087688   \n",
              "4     0.563760      -0.359325  -0.116339    -0.270208 -0.068692 -0.087688   \n",
              "\n",
              "     MoSold    YrSold  SalePrice  \n",
              "0 -1.599111  0.138777     208500  \n",
              "1 -0.489110 -0.614439     181500  \n",
              "2  0.990891  0.138777     223500  \n",
              "3 -1.599111 -1.367655     140000  \n",
              "4  2.100892  0.138777     250000  \n",
              "\n",
              "[5 rows x 37 columns]"
            ],
            "text/html": [
              "\n",
              "  <div id=\"df-8365d757-4797-45f4-a25e-dcc24cc933cd\">\n",
              "    <div class=\"colab-df-container\">\n",
              "      <div>\n",
              "<style scoped>\n",
              "    .dataframe tbody tr th:only-of-type {\n",
              "        vertical-align: middle;\n",
              "    }\n",
              "\n",
              "    .dataframe tbody tr th {\n",
              "        vertical-align: top;\n",
              "    }\n",
              "\n",
              "    .dataframe thead th {\n",
              "        text-align: right;\n",
              "    }\n",
              "</style>\n",
              "<table border=\"1\" class=\"dataframe\">\n",
              "  <thead>\n",
              "    <tr style=\"text-align: right;\">\n",
              "      <th></th>\n",
              "      <th>MSSubClass</th>\n",
              "      <th>LotFrontage</th>\n",
              "      <th>LotArea</th>\n",
              "      <th>OverallQual</th>\n",
              "      <th>OverallCond</th>\n",
              "      <th>YearBuilt</th>\n",
              "      <th>YearRemodAdd</th>\n",
              "      <th>MasVnrArea</th>\n",
              "      <th>BsmtFinSF1</th>\n",
              "      <th>BsmtFinSF2</th>\n",
              "      <th>...</th>\n",
              "      <th>WoodDeckSF</th>\n",
              "      <th>OpenPorchSF</th>\n",
              "      <th>EnclosedPorch</th>\n",
              "      <th>3SsnPorch</th>\n",
              "      <th>ScreenPorch</th>\n",
              "      <th>PoolArea</th>\n",
              "      <th>MiscVal</th>\n",
              "      <th>MoSold</th>\n",
              "      <th>YrSold</th>\n",
              "      <th>SalePrice</th>\n",
              "    </tr>\n",
              "  </thead>\n",
              "  <tbody>\n",
              "    <tr>\n",
              "      <th>0</th>\n",
              "      <td>0.073375</td>\n",
              "      <td>0.001533</td>\n",
              "      <td>-0.207142</td>\n",
              "      <td>0.651479</td>\n",
              "      <td>-0.517200</td>\n",
              "      <td>1.050994</td>\n",
              "      <td>0.878668</td>\n",
              "      <td>1.204192</td>\n",
              "      <td>0.575425</td>\n",
              "      <td>-0.288653</td>\n",
              "      <td>...</td>\n",
              "      <td>-0.752176</td>\n",
              "      <td>0.216503</td>\n",
              "      <td>-0.359325</td>\n",
              "      <td>-0.116339</td>\n",
              "      <td>-0.270208</td>\n",
              "      <td>-0.068692</td>\n",
              "      <td>-0.087688</td>\n",
              "      <td>-1.599111</td>\n",
              "      <td>0.138777</td>\n",
              "      <td>208500</td>\n",
              "    </tr>\n",
              "    <tr>\n",
              "      <th>1</th>\n",
              "      <td>-0.872563</td>\n",
              "      <td>0.646396</td>\n",
              "      <td>-0.091886</td>\n",
              "      <td>-0.071836</td>\n",
              "      <td>2.179628</td>\n",
              "      <td>0.156734</td>\n",
              "      <td>-0.429577</td>\n",
              "      <td>-0.805930</td>\n",
              "      <td>1.171992</td>\n",
              "      <td>-0.288653</td>\n",
              "      <td>...</td>\n",
              "      <td>1.626195</td>\n",
              "      <td>-0.704483</td>\n",
              "      <td>-0.359325</td>\n",
              "      <td>-0.116339</td>\n",
              "      <td>-0.270208</td>\n",
              "      <td>-0.068692</td>\n",
              "      <td>-0.087688</td>\n",
              "      <td>-0.489110</td>\n",
              "      <td>-0.614439</td>\n",
              "      <td>181500</td>\n",
              "    </tr>\n",
              "    <tr>\n",
              "      <th>2</th>\n",
              "      <td>0.073375</td>\n",
              "      <td>0.141663</td>\n",
              "      <td>0.073480</td>\n",
              "      <td>0.651479</td>\n",
              "      <td>-0.517200</td>\n",
              "      <td>0.984752</td>\n",
              "      <td>0.830215</td>\n",
              "      <td>1.131635</td>\n",
              "      <td>0.092907</td>\n",
              "      <td>-0.288653</td>\n",
              "      <td>...</td>\n",
              "      <td>-0.752176</td>\n",
              "      <td>-0.070361</td>\n",
              "      <td>-0.359325</td>\n",
              "      <td>-0.116339</td>\n",
              "      <td>-0.270208</td>\n",
              "      <td>-0.068692</td>\n",
              "      <td>-0.087688</td>\n",
              "      <td>0.990891</td>\n",
              "      <td>0.138777</td>\n",
              "      <td>223500</td>\n",
              "    </tr>\n",
              "    <tr>\n",
              "      <th>3</th>\n",
              "      <td>0.309859</td>\n",
              "      <td>-0.247054</td>\n",
              "      <td>-0.096897</td>\n",
              "      <td>0.651479</td>\n",
              "      <td>-0.517200</td>\n",
              "      <td>-1.863632</td>\n",
              "      <td>-0.720298</td>\n",
              "      <td>-0.805930</td>\n",
              "      <td>-0.499274</td>\n",
              "      <td>-0.288653</td>\n",
              "      <td>...</td>\n",
              "      <td>-0.752176</td>\n",
              "      <td>-0.176048</td>\n",
              "      <td>4.092524</td>\n",
              "      <td>-0.116339</td>\n",
              "      <td>-0.270208</td>\n",
              "      <td>-0.068692</td>\n",
              "      <td>-0.087688</td>\n",
              "      <td>-1.599111</td>\n",
              "      <td>-1.367655</td>\n",
              "      <td>140000</td>\n",
              "    </tr>\n",
              "    <tr>\n",
              "      <th>4</th>\n",
              "      <td>0.073375</td>\n",
              "      <td>0.797923</td>\n",
              "      <td>0.375148</td>\n",
              "      <td>1.374795</td>\n",
              "      <td>-0.517200</td>\n",
              "      <td>0.951632</td>\n",
              "      <td>0.733308</td>\n",
              "      <td>1.425011</td>\n",
              "      <td>0.463568</td>\n",
              "      <td>-0.288653</td>\n",
              "      <td>...</td>\n",
              "      <td>0.780197</td>\n",
              "      <td>0.563760</td>\n",
              "      <td>-0.359325</td>\n",
              "      <td>-0.116339</td>\n",
              "      <td>-0.270208</td>\n",
              "      <td>-0.068692</td>\n",
              "      <td>-0.087688</td>\n",
              "      <td>2.100892</td>\n",
              "      <td>0.138777</td>\n",
              "      <td>250000</td>\n",
              "    </tr>\n",
              "  </tbody>\n",
              "</table>\n",
              "<p>5 rows × 37 columns</p>\n",
              "</div>\n",
              "      <button class=\"colab-df-convert\" onclick=\"convertToInteractive('df-8365d757-4797-45f4-a25e-dcc24cc933cd')\"\n",
              "              title=\"Convert this dataframe to an interactive table.\"\n",
              "              style=\"display:none;\">\n",
              "        \n",
              "  <svg xmlns=\"http://www.w3.org/2000/svg\" height=\"24px\"viewBox=\"0 0 24 24\"\n",
              "       width=\"24px\">\n",
              "    <path d=\"M0 0h24v24H0V0z\" fill=\"none\"/>\n",
              "    <path d=\"M18.56 5.44l.94 2.06.94-2.06 2.06-.94-2.06-.94-.94-2.06-.94 2.06-2.06.94zm-11 1L8.5 8.5l.94-2.06 2.06-.94-2.06-.94L8.5 2.5l-.94 2.06-2.06.94zm10 10l.94 2.06.94-2.06 2.06-.94-2.06-.94-.94-2.06-.94 2.06-2.06.94z\"/><path d=\"M17.41 7.96l-1.37-1.37c-.4-.4-.92-.59-1.43-.59-.52 0-1.04.2-1.43.59L10.3 9.45l-7.72 7.72c-.78.78-.78 2.05 0 2.83L4 21.41c.39.39.9.59 1.41.59.51 0 1.02-.2 1.41-.59l7.78-7.78 2.81-2.81c.8-.78.8-2.07 0-2.86zM5.41 20L4 18.59l7.72-7.72 1.47 1.35L5.41 20z\"/>\n",
              "  </svg>\n",
              "      </button>\n",
              "      \n",
              "  <style>\n",
              "    .colab-df-container {\n",
              "      display:flex;\n",
              "      flex-wrap:wrap;\n",
              "      gap: 12px;\n",
              "    }\n",
              "\n",
              "    .colab-df-convert {\n",
              "      background-color: #E8F0FE;\n",
              "      border: none;\n",
              "      border-radius: 50%;\n",
              "      cursor: pointer;\n",
              "      display: none;\n",
              "      fill: #1967D2;\n",
              "      height: 32px;\n",
              "      padding: 0 0 0 0;\n",
              "      width: 32px;\n",
              "    }\n",
              "\n",
              "    .colab-df-convert:hover {\n",
              "      background-color: #E2EBFA;\n",
              "      box-shadow: 0px 1px 2px rgba(60, 64, 67, 0.3), 0px 1px 3px 1px rgba(60, 64, 67, 0.15);\n",
              "      fill: #174EA6;\n",
              "    }\n",
              "\n",
              "    [theme=dark] .colab-df-convert {\n",
              "      background-color: #3B4455;\n",
              "      fill: #D2E3FC;\n",
              "    }\n",
              "\n",
              "    [theme=dark] .colab-df-convert:hover {\n",
              "      background-color: #434B5C;\n",
              "      box-shadow: 0px 1px 3px 1px rgba(0, 0, 0, 0.15);\n",
              "      filter: drop-shadow(0px 1px 2px rgba(0, 0, 0, 0.3));\n",
              "      fill: #FFFFFF;\n",
              "    }\n",
              "  </style>\n",
              "\n",
              "      <script>\n",
              "        const buttonEl =\n",
              "          document.querySelector('#df-8365d757-4797-45f4-a25e-dcc24cc933cd button.colab-df-convert');\n",
              "        buttonEl.style.display =\n",
              "          google.colab.kernel.accessAllowed ? 'block' : 'none';\n",
              "\n",
              "        async function convertToInteractive(key) {\n",
              "          const element = document.querySelector('#df-8365d757-4797-45f4-a25e-dcc24cc933cd');\n",
              "          const dataTable =\n",
              "            await google.colab.kernel.invokeFunction('convertToInteractive',\n",
              "                                                     [key], {});\n",
              "          if (!dataTable) return;\n",
              "\n",
              "          const docLinkHtml = 'Like what you see? Visit the ' +\n",
              "            '<a target=\"_blank\" href=https://colab.research.google.com/notebooks/data_table.ipynb>data table notebook</a>'\n",
              "            + ' to learn more about interactive tables.';\n",
              "          element.innerHTML = '';\n",
              "          dataTable['output_type'] = 'display_data';\n",
              "          await google.colab.output.renderOutput(dataTable, element);\n",
              "          const docLink = document.createElement('div');\n",
              "          docLink.innerHTML = docLinkHtml;\n",
              "          element.appendChild(docLink);\n",
              "        }\n",
              "      </script>\n",
              "    </div>\n",
              "  </div>\n",
              "  "
            ]
          },
          "metadata": {},
          "execution_count": 125
        }
      ]
    },
    {
      "cell_type": "code",
      "source": [
        "# Lets do multiple regression with this dataframe\n",
        "\n",
        "X = kdf.iloc[:, 0:-1].values\n",
        "y = kdf.iloc[:, -1].values"
      ],
      "metadata": {
        "id": "RSoNikqEsHJr"
      },
      "execution_count": 126,
      "outputs": []
    },
    {
      "cell_type": "code",
      "source": [
        "from sklearn.model_selection import train_test_split\n",
        "X_train, X_test, y_train, y_test = train_test_split(X, y, test_size = 1/3, random_state = 0)"
      ],
      "metadata": {
        "id": "OeOYGB1usOP_"
      },
      "execution_count": 127,
      "outputs": []
    },
    {
      "cell_type": "code",
      "source": [
        "from sklearn.linear_model import LinearRegression\n",
        "regressor = LinearRegression()\n",
        "regressor.fit(X_train,y_train)"
      ],
      "metadata": {
        "colab": {
          "base_uri": "https://localhost:8080/",
          "height": 74
        },
        "id": "8OKoc36hsQwZ",
        "outputId": "b4595b45-b8e7-41f9-806a-2e0dab3cece5"
      },
      "execution_count": 128,
      "outputs": [
        {
          "output_type": "execute_result",
          "data": {
            "text/plain": [
              "LinearRegression()"
            ],
            "text/html": [
              "<style>#sk-container-id-2 {color: black;background-color: white;}#sk-container-id-2 pre{padding: 0;}#sk-container-id-2 div.sk-toggleable {background-color: white;}#sk-container-id-2 label.sk-toggleable__label {cursor: pointer;display: block;width: 100%;margin-bottom: 0;padding: 0.3em;box-sizing: border-box;text-align: center;}#sk-container-id-2 label.sk-toggleable__label-arrow:before {content: \"▸\";float: left;margin-right: 0.25em;color: #696969;}#sk-container-id-2 label.sk-toggleable__label-arrow:hover:before {color: black;}#sk-container-id-2 div.sk-estimator:hover label.sk-toggleable__label-arrow:before {color: black;}#sk-container-id-2 div.sk-toggleable__content {max-height: 0;max-width: 0;overflow: hidden;text-align: left;background-color: #f0f8ff;}#sk-container-id-2 div.sk-toggleable__content pre {margin: 0.2em;color: black;border-radius: 0.25em;background-color: #f0f8ff;}#sk-container-id-2 input.sk-toggleable__control:checked~div.sk-toggleable__content {max-height: 200px;max-width: 100%;overflow: auto;}#sk-container-id-2 input.sk-toggleable__control:checked~label.sk-toggleable__label-arrow:before {content: \"▾\";}#sk-container-id-2 div.sk-estimator input.sk-toggleable__control:checked~label.sk-toggleable__label {background-color: #d4ebff;}#sk-container-id-2 div.sk-label input.sk-toggleable__control:checked~label.sk-toggleable__label {background-color: #d4ebff;}#sk-container-id-2 input.sk-hidden--visually {border: 0;clip: rect(1px 1px 1px 1px);clip: rect(1px, 1px, 1px, 1px);height: 1px;margin: -1px;overflow: hidden;padding: 0;position: absolute;width: 1px;}#sk-container-id-2 div.sk-estimator {font-family: monospace;background-color: #f0f8ff;border: 1px dotted black;border-radius: 0.25em;box-sizing: border-box;margin-bottom: 0.5em;}#sk-container-id-2 div.sk-estimator:hover {background-color: #d4ebff;}#sk-container-id-2 div.sk-parallel-item::after {content: \"\";width: 100%;border-bottom: 1px solid gray;flex-grow: 1;}#sk-container-id-2 div.sk-label:hover label.sk-toggleable__label {background-color: #d4ebff;}#sk-container-id-2 div.sk-serial::before {content: \"\";position: absolute;border-left: 1px solid gray;box-sizing: border-box;top: 0;bottom: 0;left: 50%;z-index: 0;}#sk-container-id-2 div.sk-serial {display: flex;flex-direction: column;align-items: center;background-color: white;padding-right: 0.2em;padding-left: 0.2em;position: relative;}#sk-container-id-2 div.sk-item {position: relative;z-index: 1;}#sk-container-id-2 div.sk-parallel {display: flex;align-items: stretch;justify-content: center;background-color: white;position: relative;}#sk-container-id-2 div.sk-item::before, #sk-container-id-2 div.sk-parallel-item::before {content: \"\";position: absolute;border-left: 1px solid gray;box-sizing: border-box;top: 0;bottom: 0;left: 50%;z-index: -1;}#sk-container-id-2 div.sk-parallel-item {display: flex;flex-direction: column;z-index: 1;position: relative;background-color: white;}#sk-container-id-2 div.sk-parallel-item:first-child::after {align-self: flex-end;width: 50%;}#sk-container-id-2 div.sk-parallel-item:last-child::after {align-self: flex-start;width: 50%;}#sk-container-id-2 div.sk-parallel-item:only-child::after {width: 0;}#sk-container-id-2 div.sk-dashed-wrapped {border: 1px dashed gray;margin: 0 0.4em 0.5em 0.4em;box-sizing: border-box;padding-bottom: 0.4em;background-color: white;}#sk-container-id-2 div.sk-label label {font-family: monospace;font-weight: bold;display: inline-block;line-height: 1.2em;}#sk-container-id-2 div.sk-label-container {text-align: center;}#sk-container-id-2 div.sk-container {/* jupyter's `normalize.less` sets `[hidden] { display: none; }` but bootstrap.min.css set `[hidden] { display: none !important; }` so we also need the `!important` here to be able to override the default hidden behavior on the sphinx rendered scikit-learn.org. See: https://github.com/scikit-learn/scikit-learn/issues/21755 */display: inline-block !important;position: relative;}#sk-container-id-2 div.sk-text-repr-fallback {display: none;}</style><div id=\"sk-container-id-2\" class=\"sk-top-container\"><div class=\"sk-text-repr-fallback\"><pre>LinearRegression()</pre><b>In a Jupyter environment, please rerun this cell to show the HTML representation or trust the notebook. <br />On GitHub, the HTML representation is unable to render, please try loading this page with nbviewer.org.</b></div><div class=\"sk-container\" hidden><div class=\"sk-item\"><div class=\"sk-estimator sk-toggleable\"><input class=\"sk-toggleable__control sk-hidden--visually\" id=\"sk-estimator-id-2\" type=\"checkbox\" checked><label for=\"sk-estimator-id-2\" class=\"sk-toggleable__label sk-toggleable__label-arrow\">LinearRegression</label><div class=\"sk-toggleable__content\"><pre>LinearRegression()</pre></div></div></div></div></div>"
            ]
          },
          "metadata": {},
          "execution_count": 128
        }
      ]
    },
    {
      "cell_type": "code",
      "source": [
        "y_pred = regressor.predict(X_test)\n",
        "y_pred"
      ],
      "metadata": {
        "colab": {
          "base_uri": "https://localhost:8080/"
        },
        "id": "t2GckklOsSNC",
        "outputId": "c1c4f2f2-da36-43e3-8d63-d78954528f53"
      },
      "execution_count": 129,
      "outputs": [
        {
          "output_type": "execute_result",
          "data": {
            "text/plain": [
              "array([257575.28238551, 144847.48172581, 117229.99246332, 220656.4094153 ,\n",
              "        99976.88405615,  82864.01339917, 249270.13957887, 150121.2796135 ,\n",
              "       550278.46881039, 148131.9634524 , 208064.39737404,  30246.06319226,\n",
              "       230213.45534647, 114281.31706208, 109332.53133551, 147741.7110541 ,\n",
              "       264514.00306267, 114026.63647773, 138219.90669899, 178954.83856741,\n",
              "       138469.3217047 , 156693.10090598,  69741.33884884, 147103.55302784,\n",
              "       193026.05492728, 174467.42503383, 167695.59076796,  70537.07552897,\n",
              "       330822.67595821, 107434.69427308, 140883.27841725, 210094.10249253,\n",
              "       140267.44116725, 305501.18624705, 355396.67464043, 190646.38407378,\n",
              "       294724.90793509, 107407.03462764, 232976.81689245, 365160.7420222 ,\n",
              "       219714.40419332, 101153.93363226, 201093.35756201, 313437.75650493,\n",
              "       350248.88494749, 132339.03813616,  12590.62422414, 121734.25729626,\n",
              "       179548.61808015,  93036.37310663, 379519.43410571, 148745.80965626,\n",
              "       168070.88863814,  70449.05128201, 234292.21333352,  86145.48975994,\n",
              "       107837.28140517, 221816.10177113, 127341.80723314,  87171.1320586 ,\n",
              "       125361.0153475 , 128183.96322211, 123919.85109628, 158863.46651466,\n",
              "       214010.39230891, 169768.44081269, 132288.46707418, 244634.62093417,\n",
              "       127852.66704541, 201653.47275977, 182419.84433922, 115305.75015472,\n",
              "        42921.25949224, 294786.35451424,  68057.38412761, 261224.13581446,\n",
              "       123649.07692028,  78987.97045397, 301413.81767447, 239165.20610955,\n",
              "       129716.99177507, 130435.12854219, 128370.08690673, 140398.48551042,\n",
              "       257790.5326387 , 192204.69482717,  77933.36590211, 220466.88526157,\n",
              "       164943.01408913, 146768.14594009, 183872.52327044, 181760.59024838,\n",
              "       169090.51645737, 229933.25653473, 218082.16358884, 168998.18639356,\n",
              "       216128.31368333, 171362.40353282, 107731.79099265, 151499.04742319,\n",
              "       250386.76817771, 229626.51057992, 114187.85419766, 157304.41476911,\n",
              "       106053.20941046, 303728.92906957, 169689.80423578,  84296.28329447,\n",
              "       191103.03319663, 122600.44480127, 123651.98757513, 102930.790502  ,\n",
              "       180297.24912113, 104164.35950009, 177878.14484602, 175372.37703074,\n",
              "       381014.97632887, 111469.29132767, 225898.88700345, 247096.72322069,\n",
              "       157282.48227475, 152269.40461738, 128941.89130036, 171967.34264374,\n",
              "       225027.0599097 , 290174.14242991, 376502.52695732, 212760.88921075,\n",
              "       200737.80373733, 164093.83608916, 168161.75452683, 191904.68572736,\n",
              "       129880.05284896, 196752.20464357,  81845.96223132, 212492.01344614,\n",
              "       139476.67747209, 167498.58409785,  95940.5414018 , 184741.98688934,\n",
              "       164170.04120335, 112122.99827765, 264321.23733526, 153099.54702324,\n",
              "       137779.31290078, 166850.18005415, 207640.71212057, 144919.94744875,\n",
              "       301962.20485363, 237093.02209643, 167427.82537363, 353442.07004468,\n",
              "       274944.11861064, 168712.87245509, 165391.61344259, 300700.85006923,\n",
              "       151592.97787861, 204219.65534991, 128040.18783505, 164629.92585949,\n",
              "       111149.89846447, 131224.57991599, 207462.1863503 , 118189.27098296,\n",
              "       224593.603302  , 123940.9121556 , 161541.68489322, 286858.59688395,\n",
              "       224773.98845039, 158687.48444861, 163697.39179547, 165386.70744278,\n",
              "       221061.64339903, 171395.37894446,  94167.10837458, 136553.80241597,\n",
              "       129083.0206453 , 252540.8762314 , 109024.79976602, 134855.83811219,\n",
              "       275404.73059721, 184067.43618859, 135733.2580188 , 297936.55857317,\n",
              "       100062.11056456, 197951.57719633, 100358.48180762, 228727.33419292,\n",
              "       232938.49569997, 131768.67552914, 134521.42584805, 184197.4800832 ,\n",
              "       219327.97196549, 136156.83123147, 124050.09106478, 139949.16627836,\n",
              "        63843.0502711 , 151327.52985153, 166258.73128667, 104912.67821456,\n",
              "       121675.22192605, 217011.98313272, 107267.727195  , 115898.60046142,\n",
              "       119434.14640528, 201164.7365241 , 165039.66241781, 296181.86897493,\n",
              "       243150.05906822,  58533.25041856, 134179.33855697, 275906.5195148 ,\n",
              "        55017.21805279, 121474.30798454, 436738.2276324 , 206404.80797613,\n",
              "       174265.43814884, 273458.67327789, 234309.3727365 ,  85105.05581579,\n",
              "       196333.58182064, 140387.11425254, 136819.55272374, 120332.700594  ,\n",
              "       192451.37180232, 277884.38538801, 223663.0780409 , 211121.92513932,\n",
              "       120841.50654792, 149007.37956458,  56255.48464824, 140350.51649391,\n",
              "        96141.13266427, 145058.68733766, 280916.17060853, 136259.21447805,\n",
              "       141366.30529604, 113545.02689266,  81087.80157126, 179135.34229996,\n",
              "       126563.62027034, 181994.43193804, 207098.0983621 , 212327.35282578,\n",
              "       197808.90701903, 179041.7888428 , 222211.10758094, 189525.0911558 ,\n",
              "       161630.25899402, 202257.94164121, 181825.89999511, 264626.78375757,\n",
              "        97776.78032851, 428889.73842114, 252949.29803301, 223748.26343315,\n",
              "       112920.21866919, 225906.58161089, 416714.5028409 , 822391.54037127,\n",
              "       186813.91909604,  95176.27176776, 140842.09179574,  69184.16342136,\n",
              "       -10787.43461183, 348566.21928342, 338060.46396107, -33189.88652277,\n",
              "       242985.32239994, 239066.85343322, 133571.22599856, 250925.33246461,\n",
              "       140752.85109222, 166986.73406647, 135122.37275749, 238646.62423053,\n",
              "       218610.38133514, 264800.78490676, 208580.36484053, 114260.83343339,\n",
              "       120610.75688989, 348531.7189325 , 175373.01027063, 139375.21642156,\n",
              "       211488.24803907, 164335.18146167, 125594.52814474, 293362.73650435,\n",
              "       436937.21412065, 273009.51317324, 123643.78819539,  74229.55967339,\n",
              "       351727.51946153,  86931.93157626, 149762.47756654, 262375.50905047,\n",
              "       216480.08546184, 186608.84286706, 137795.2981915 , 176314.40950831,\n",
              "        92927.14175414, 137685.98469037, 203959.0191018 , 203801.7554808 ,\n",
              "       139740.27986681, 134131.22107506, 139170.31719253, 205524.99727648,\n",
              "       211010.92361542, 172033.19558617, 114969.65272754, 185571.71734375,\n",
              "       114462.04383716, 127300.79946159, 127577.66290328, 136580.62326544,\n",
              "       289906.41325413, 130452.41269652, 183774.6049762 , 143295.10133355,\n",
              "       105257.25478099, 271796.91093247, 101572.58207667, 220538.27618615,\n",
              "       133662.50532788, 237171.47648185, 115251.16633449, 336598.23409166,\n",
              "       228985.01016527, 159105.90515984, 108141.68079223, 222589.10034942,\n",
              "       203255.88746673, 206441.3287238 , 162805.18648361, 141903.76409828,\n",
              "       127893.37029839, 200575.36301221, 144938.94720768, 121959.54289068,\n",
              "       339267.06181107, 168740.12768217, 183916.55405903, 217856.84720036,\n",
              "       192738.28646424, 121913.30928772, 114854.52330933,  79818.74453499,\n",
              "        90731.59269275, 132745.38666689, 217917.17213211, 331023.82636435,\n",
              "        85771.85083642,  92430.12756422, 147651.8022251 , 398730.22286466,\n",
              "       309813.81572153, 155782.07279162, 260333.93172662, 321480.22334454,\n",
              "       202254.42382791, 206352.02126988, 228827.04683691, 238060.17755774,\n",
              "        96632.34330688, 145441.9826869 , 175729.99035465, 142359.98060788,\n",
              "       190372.34609133, 187291.76280957, 366434.08007353,  71577.48496776,\n",
              "       123503.52789463, 129078.42695073, 133219.42383038,  43098.41514062,\n",
              "       205124.574345  , 287891.92514873, 123585.7887097 , 260879.26881743,\n",
              "       145634.42347821,  90519.29604082, 136215.64209653, 141113.02356531,\n",
              "       134003.82096722,  70480.79474471, 137835.09757159, 211856.71644279,\n",
              "       238191.35285302, 361727.31100015,  74011.18369927, 105340.3128322 ,\n",
              "       241828.98209169,  73053.3691722 , 140769.97489304, 156208.73041784,\n",
              "       220818.1398403 , 182226.08850524, 165810.98706301, 172371.78401595,\n",
              "       357894.32120034, 216249.58218887, 157702.71342251,  94112.05148749,\n",
              "       167155.80360596, 306396.93464297, 125056.18516751, 332891.22088238,\n",
              "       245224.47582663, 230013.71893566, 113095.69892588, 114980.11723713,\n",
              "       222396.78823699, 135601.87919856,  97990.25746522,  95354.31270652,\n",
              "       212613.49454519, 120509.55964928, 291876.53490917, 106128.78449355,\n",
              "       258624.88211727, 357950.93305296, 107167.15457391, 161294.19804757,\n",
              "       137788.62963671, 109006.4419686 , 287428.89773856, 108746.21410395,\n",
              "       200417.03174497, 142540.54508474, 133974.61362389, 235426.86563708,\n",
              "       130738.14387342, 192690.44448535, 158985.29125366, 351438.40620599,\n",
              "       213720.33153328, 447712.56280991, 238325.70513044, 179694.68560289,\n",
              "       129804.84429167, 114512.10839918,  36741.13337432, 155110.05498373,\n",
              "       151757.17689556, 173574.86202894, 119017.40745244, 112895.99172581,\n",
              "       135629.33105479, 308409.94827718, 155541.57583377, 221929.12688057,\n",
              "       150296.13721651, 194196.55106183, 146827.9378419 , 187516.98704022,\n",
              "        91260.36607876, 102468.89909314, 246032.36049044, 157815.69462422,\n",
              "       187011.70600741, 149479.12158307, 174545.17625195,  86818.81994246,\n",
              "       227883.66840707, 132155.57497688, 217970.90803568, 115038.69166321,\n",
              "       194770.06685403, 249133.91871835, 189936.19932096, 119001.62830951,\n",
              "       107963.82411563, 224049.65447779, 145676.51099369,  78265.26815957,\n",
              "       147882.36571436, 205232.94199405, 249065.92835644, 195398.15480618,\n",
              "       110972.36832444, 171728.40547297, 240640.68572746, 138455.58547608,\n",
              "       136723.94960738, 219250.86487562, 246352.56253081])"
            ]
          },
          "metadata": {},
          "execution_count": 129
        }
      ]
    },
    {
      "cell_type": "code",
      "source": [
        "y_test"
      ],
      "metadata": {
        "colab": {
          "base_uri": "https://localhost:8080/"
        },
        "id": "lqI7UN9CsTrm",
        "outputId": "ecaf6b2e-3720-49e7-9de9-100c44d1eee8"
      },
      "execution_count": 130,
      "outputs": [
        {
          "output_type": "execute_result",
          "data": {
            "text/plain": [
              "array([200624, 133000, 110000, 192000,  88000,  85000, 282922, 141000,\n",
              "       745000, 148800, 208900, 136905, 225000, 123000, 119200, 145000,\n",
              "       190000, 123600, 149350, 155000, 166000, 144500, 110000, 174000,\n",
              "       185000, 168000, 177500,  84500, 320000, 118500, 110000, 213000,\n",
              "       156000, 250000, 372500, 175000, 277500, 112500, 263000, 325000,\n",
              "       243000, 130000, 164990, 280000, 403000, 119000, 125000, 128200,\n",
              "       172500,  84900, 412500, 156000, 167900, 100000, 275000, 123000,\n",
              "       132000, 239900, 139000, 115000, 137500, 135000, 134450, 180500,\n",
              "       193500, 156500, 132000, 224500, 139000, 225000, 188500, 118000,\n",
              "        82000, 392000, 112000, 248900, 134500,  79500, 320000, 158000,\n",
              "       140000, 136500, 107500, 145000, 200500, 185000, 105000, 202665,\n",
              "       186000, 136000, 200500, 190000, 187500, 200000, 172500, 157000,\n",
              "       213000, 185000, 124500, 162900, 260000, 198500, 120000, 159500,\n",
              "       105900, 260000, 143000, 106500, 178900, 127000,  90350, 118500,\n",
              "       190000, 119900, 183900, 155000, 386250, 133000, 193500, 270000,\n",
              "       141000, 146000, 128500, 176000, 214000, 222000, 415298, 187750,\n",
              "       199900, 180000, 206300, 194000, 142953, 182900, 116050, 213250,\n",
              "       139500, 179000, 107900, 175900, 158500, 145000, 217000, 150500,\n",
              "       108959, 165600, 201000, 145500, 319900, 215000, 180500, 367294,\n",
              "       239000, 145900, 161000, 250000,  89471, 230000, 147000, 163900,\n",
              "        97000, 142000, 197000, 129000, 232000, 115000, 175000, 265000,\n",
              "       207000, 181000, 176000, 171000, 196000, 176000, 113000, 139000,\n",
              "       135000, 240000, 112000, 134000, 316600, 170000, 116000, 306000,\n",
              "        82500, 175000, 106000, 194000, 194201, 155900, 138000, 177000,\n",
              "       214000, 148000, 127000, 142500,  80000, 145000, 171000, 122500,\n",
              "       139000, 189000, 120500, 124000, 160000, 200000, 160000, 313000,\n",
              "       275000,  67000, 159000, 251000,  92900, 109500, 385000, 129000,\n",
              "        82500, 301000, 249700,  81000, 187500, 110000, 117000, 128500,\n",
              "       213490, 284000, 230500, 190000, 135000, 152000,  87500, 155000,\n",
              "       115000, 144000, 248000, 132500, 136000, 117000,  82000, 157500,\n",
              "       110000, 181000, 192500, 223500, 181500, 170000, 187500, 185900,\n",
              "       160000, 192000, 181900, 266000,  99900, 438780, 229456, 216837,\n",
              "       110500, 175900, 538000, 160000, 172500, 108000, 131500, 106250,\n",
              "       385000, 370878, 345000,  68500, 250000, 245350, 125000, 234000,\n",
              "       145000, 181000, 104000, 233000, 164000, 219500, 195000, 108000,\n",
              "       149900, 315000, 177500, 140000, 193879, 137900, 118000, 324000,\n",
              "       555000, 136000,  82500, 101000, 314813, 109500, 163500, 271000,\n",
              "       205000, 185000, 160000, 155000,  91000, 131000, 165400, 194700,\n",
              "       155000, 140000, 147000, 194000, 179540, 173000, 109500, 173733,\n",
              "       129900, 119000, 125500, 149300, 305000, 102000, 178740, 129500,\n",
              "        79900, 278000, 118400, 197000, 140000, 226000, 132500, 315000,\n",
              "       224000, 132500, 119500, 215000, 210000, 200141, 185000, 149900,\n",
              "       129000, 184100, 135000, 128000, 374000, 164000, 157000, 215000,\n",
              "       165000, 144000, 125500,  98300,  91300, 135960, 226700, 333168,\n",
              "       114500,  97000, 181000, 465000, 290000, 175000, 235000, 277000,\n",
              "       325000, 178000, 235000, 239000,  85000, 107500, 160000, 145000,\n",
              "       192140, 181000, 380000,  66500, 124500, 124000, 144000,  52500,\n",
              "       217000, 275000, 127000, 262500, 162000, 103000, 137500, 127500,\n",
              "       127000,  91000, 145000, 186500, 221500, 253293, 108480, 127000,\n",
              "       237500,  86000, 141000, 176000, 178400, 173900, 157000, 193000,\n",
              "       335000, 201000, 146500,  86000, 148000, 280000, 112000, 303477,\n",
              "       250000, 244600, 126000, 130500, 241000, 118500, 115000, 129900,\n",
              "       202500, 118000, 335000, 125000, 255900, 342643, 109008, 148500,\n",
              "       132500, 110000, 244000, 115000, 194500, 129500, 167500, 227875,\n",
              "       169900, 241500, 127500, 350000, 227000, 611657, 219500, 173000,\n",
              "       116500, 105000,  60000, 149500, 119750, 158000, 148000, 100000,\n",
              "       214500, 359100, 139000, 204000, 147000, 175000, 137450, 169990,\n",
              "        88000, 126000, 255000, 162000, 185000, 155000, 153000,  97000,\n",
              "       159500, 135000, 214000, 113000, 190000, 240000, 175000, 135000,\n",
              "       115000, 244000, 132000,  83500, 143500, 212000, 232000, 208900,\n",
              "       124000, 167000, 259000, 144000, 137000, 230000, 239799])"
            ]
          },
          "metadata": {},
          "execution_count": 130
        }
      ]
    },
    {
      "cell_type": "code",
      "source": [
        "# Evaluation metrics for Linear Regression\n",
        "Emetrics(y_test,y_pred)"
      ],
      "metadata": {
        "colab": {
          "base_uri": "https://localhost:8080/"
        },
        "id": "LUfBMSq4sWnA",
        "outputId": "211b01ad-8219-41ea-8bb5-a4319be0ea2e"
      },
      "execution_count": 131,
      "outputs": [
        {
          "output_type": "stream",
          "name": "stdout",
          "text": [
            "Mean Absoulute error is : 21278.52378962575\n",
            "Mean Squared error is: 2077030344.2028449\n",
            "Root Mean Square error is: 45574.44836970432\n",
            "R2 score is: 0.677405396493557\n"
          ]
        }
      ]
    },
    {
      "cell_type": "markdown",
      "source": [
        "## This is giving good R2 score than the columns that have categorical values encoded in them as tuples... Lets proceed with this only\n",
        "cut_df"
      ],
      "metadata": {
        "id": "vrkcDk5FsZS2"
      }
    },
    {
      "cell_type": "markdown",
      "source": [
        "## Polynomial Regression"
      ],
      "metadata": {
        "id": "RoUbHAdLsnRk"
      }
    },
    {
      "cell_type": "markdown",
      "source": [
        "# Using original dataframe"
      ],
      "metadata": {
        "id": "s7xUEPuTtCgj"
      }
    },
    {
      "cell_type": "code",
      "source": [
        "import numpy as np\n",
        "from sklearn.linear_model import LinearRegression\n",
        "from sklearn.preprocessing import PolynomialFeatures\n",
        "\n",
        "# Load your dataset and split into X (independent variables) and y (dependent variable)\n",
        "X = kdf.iloc[:, 1:-1].values\n",
        "y = kdf.iloc[:, -1].values\n",
        "\n",
        "# Fit polynomial regression model\n",
        "poly = PolynomialFeatures(degree=1) # set degree of polynomial\n",
        "X_poly = poly.fit_transform(X) # create polynomial features\n",
        "poly_reg = LinearRegression() # create linear regression model\n",
        "poly_reg.fit(X_poly, y) # fit model on polynomial features\n",
        "\n",
        "# Make predictions\n",
        "y_pred = poly_reg.predict(X_poly)\n",
        "\n",
        "# Evaluate model performance\n",
        "from sklearn.metrics import mean_squared_error, r2_score\n",
        "rmse = np.sqrt(mean_squared_error(y, y_pred))\n",
        "r2 = r2_score(y, y_pred)\n",
        "print(f\"RMSE: {rmse}\")\n",
        "print(f\"R^2 score: {r2}\")"
      ],
      "metadata": {
        "colab": {
          "base_uri": "https://localhost:8080/"
        },
        "id": "5YFdYn0SsxEp",
        "outputId": "ee072748-453d-4c83-a96d-2fccf135a54c"
      },
      "execution_count": 132,
      "outputs": [
        {
          "output_type": "stream",
          "name": "stdout",
          "text": [
            "RMSE: 23228.31085246846\n",
            "R^2 score: 0.9144486266255553\n"
          ]
        }
      ]
    },
    {
      "cell_type": "markdown",
      "source": [
        "# Using dataframe with only numeric columns"
      ],
      "metadata": {
        "id": "4n_3f9hetFQN"
      }
    },
    {
      "cell_type": "code",
      "source": [
        "import numpy as np\n",
        "from sklearn.linear_model import LinearRegression\n",
        "from sklearn.preprocessing import PolynomialFeatures\n",
        "\n",
        "# Load your dataset and split into X (independent variables) and y (dependent variable)\n",
        "X = cut_df.iloc[:, 0:-1].values\n",
        "y = cut_df.iloc[:, -1].values\n",
        "\n",
        "# Fit polynomial regression model\n",
        "poly = PolynomialFeatures(degree=1) # set degree of polynomial\n",
        "X_poly = poly.fit_transform(X) # create polynomial features\n",
        "poly_reg = LinearRegression() # create linear regression model\n",
        "poly_reg.fit(X_poly, y) # fit model on polynomial features\n",
        "\n",
        "# Make predictions\n",
        "y_pred = poly_reg.predict(X_poly)\n",
        "\n",
        "# Evaluate model performance\n",
        "from sklearn.metrics import mean_squared_error, r2_score\n",
        "rmse = np.sqrt(mean_squared_error(y, y_pred))\n",
        "r2 = r2_score(y, y_pred)\n",
        "print(f\"RMSE: {rmse}\")\n",
        "print(f\"R^2 score: {r2}\")"
      ],
      "metadata": {
        "colab": {
          "base_uri": "https://localhost:8080/"
        },
        "id": "tVCOfr_Gs1dp",
        "outputId": "dba81522-da4c-43cd-a8be-b40f31f2b3d9"
      },
      "execution_count": 133,
      "outputs": [
        {
          "output_type": "stream",
          "name": "stdout",
          "text": [
            "RMSE: 34558.364222176955\n",
            "R^2 score: 0.8106357107820358\n"
          ]
        }
      ]
    },
    {
      "cell_type": "markdown",
      "source": [
        "## The earlier dataframe with all columns is good for this polynomial regression!"
      ],
      "metadata": {
        "id": "JmpmAVoDtTg8"
      }
    },
    {
      "cell_type": "markdown",
      "source": [
        "# Decision Tree Regression"
      ],
      "metadata": {
        "id": "zGONUHfftZW6"
      }
    },
    {
      "cell_type": "markdown",
      "source": [
        "# using original dataframe"
      ],
      "metadata": {
        "id": "yKFCg8z_tdq5"
      }
    },
    {
      "cell_type": "code",
      "source": [
        "import numpy as np\n",
        "import pandas as pd\n",
        "from sklearn.tree import DecisionTreeRegressor\n",
        "from sklearn.model_selection import train_test_split\n",
        "from sklearn.metrics import mean_squared_error, r2_score\n",
        "\n",
        "# Load your dataset and split into X (independent variables) and y (dependent variable)\n",
        "X = kdf.iloc[:, 1:-1].values\n",
        "y = kdf.iloc[:, -1].values\n",
        "\n",
        "# Split the dataset into training and testing data\n",
        "X_train, X_test, y_train, y_test = train_test_split(X, y, test_size=0.2, random_state=42)\n",
        "\n",
        "# Create decision tree regression model\n",
        "model = DecisionTreeRegressor(max_depth=5) # Set max_depth to avoid overfitting\n",
        "model.fit(X_train, y_train)\n",
        "\n",
        "# Make predictions on test data\n",
        "y_pred = model.predict(X_test)\n",
        "\n",
        "Emetrics(y_test,y_pred)"
      ],
      "metadata": {
        "colab": {
          "base_uri": "https://localhost:8080/"
        },
        "id": "9hMKNvcQtb3y",
        "outputId": "feb209b9-0799-4e54-c560-817993be413a"
      },
      "execution_count": 134,
      "outputs": [
        {
          "output_type": "stream",
          "name": "stdout",
          "text": [
            "Mean Absoulute error is : 27100.32392724044\n",
            "Mean Squared error is: 1494099148.052245\n",
            "Root Mean Square error is: 38653.578722444894\n",
            "R2 score is: 0.8052104815760941\n"
          ]
        }
      ]
    },
    {
      "cell_type": "markdown",
      "source": [
        "# using dataframe that only contains numeric columns"
      ],
      "metadata": {
        "id": "MOMsrMNht3mJ"
      }
    },
    {
      "cell_type": "code",
      "source": [
        "import numpy as np\n",
        "import pandas as pd\n",
        "from sklearn.tree import DecisionTreeRegressor\n",
        "from sklearn.model_selection import train_test_split\n",
        "from sklearn.metrics import mean_squared_error, r2_score\n",
        "\n",
        "# Load your dataset and split into X (independent variables) and y (dependent variable)\n",
        "X = cut_df.iloc[:, 0:-1].values\n",
        "y = cut_df.iloc[:, -1].values\n",
        "\n",
        "# Split the dataset into training and testing data\n",
        "X_train, X_test, y_train, y_test = train_test_split(X, y, test_size=0.2, random_state=42)\n",
        "\n",
        "# Create decision tree regression model\n",
        "model = DecisionTreeRegressor(max_depth=5) # Set max_depth to avoid overfitting\n",
        "model.fit(X_train, y_train)\n",
        "\n",
        "# Make predictions on test data\n",
        "y_pred = model.predict(X_test)\n",
        "\n",
        "Emetrics(y_test,y_pred)"
      ],
      "metadata": {
        "colab": {
          "base_uri": "https://localhost:8080/"
        },
        "id": "14argt9huCGE",
        "outputId": "da3f889a-b241-4e07-c530-7d998f7399c9"
      },
      "execution_count": 135,
      "outputs": [
        {
          "output_type": "stream",
          "name": "stdout",
          "text": [
            "Mean Absoulute error is : 27520.79792996894\n",
            "Mean Squared error is: 1570585737.2610302\n",
            "Root Mean Square error is: 39630.61616050185\n",
            "R2 score is: 0.7952387297701387\n"
          ]
        }
      ]
    },
    {
      "cell_type": "markdown",
      "source": [
        "## Both are giving the same results"
      ],
      "metadata": {
        "id": "c-zmsGTKuJj-"
      }
    },
    {
      "cell_type": "markdown",
      "source": [
        "# Random Forest Regression"
      ],
      "metadata": {
        "id": "w6pbYlFluPuQ"
      }
    },
    {
      "cell_type": "markdown",
      "source": [
        "# using the original dataframe"
      ],
      "metadata": {
        "id": "Qa6Hqwg7uShD"
      }
    },
    {
      "cell_type": "code",
      "source": [
        "# Importing the necessary libraries\n",
        "import pandas as pd\n",
        "import numpy as np\n",
        "from sklearn.ensemble import RandomForestRegressor\n",
        "from sklearn.model_selection import train_test_split\n",
        "from sklearn.metrics import r2_score, mean_squared_error\n",
        "\n",
        "# Load the dataset\n",
        "\n",
        "# Splitting the data into training and testing sets\n",
        "X = kdf.iloc[:, 1:-1].values\n",
        "y = kdf.iloc[:, -1].values\n",
        "X_train, X_test, y_train, y_test = train_test_split(X, y, test_size=0.4, random_state=0)\n",
        "\n",
        "# Training the model\n",
        "rf_model = RandomForestRegressor(n_estimators=100, random_state=0)\n",
        "rf_model.fit(X_train, y_train)\n",
        "\n",
        "# Predicting the target values\n",
        "y_pred = rf_model.predict(X_test)\n",
        "\n",
        "Emetrics(y_test,y_pred)"
      ],
      "metadata": {
        "colab": {
          "base_uri": "https://localhost:8080/"
        },
        "id": "_yc9Ss1lt3Gx",
        "outputId": "17f6a10d-9d4f-4754-8d68-90081b36bd3f"
      },
      "execution_count": 136,
      "outputs": [
        {
          "output_type": "stream",
          "name": "stdout",
          "text": [
            "Mean Absoulute error is : 17387.970188356165\n",
            "Mean Squared error is: 904889858.8495914\n",
            "Root Mean Square error is: 30081.387249420386\n",
            "R2 score is: 0.8547469175395225\n"
          ]
        }
      ]
    },
    {
      "cell_type": "markdown",
      "source": [
        "# Using the dataframe that has only numeric columns"
      ],
      "metadata": {
        "id": "J1vAakFPuZ7k"
      }
    },
    {
      "cell_type": "code",
      "source": [
        "# Importing the necessary libraries\n",
        "import pandas as pd\n",
        "import numpy as np\n",
        "from sklearn.ensemble import RandomForestRegressor\n",
        "from sklearn.model_selection import train_test_split\n",
        "from sklearn.metrics import r2_score, mean_squared_error\n",
        "\n",
        "# Load the dataset\n",
        "\n",
        "# Splitting the data into training and testing sets\n",
        "X = cut_df.iloc[:, 0:-1].values\n",
        "y = cut_df.iloc[:, -1].values\n",
        "X_train, X_test, y_train, y_test = train_test_split(X, y, test_size=0.3, random_state=0)\n",
        "\n",
        "# Training the model\n",
        "rf_model = RandomForestRegressor(n_estimators=100, random_state=0)\n",
        "rf_model.fit(X_train, y_train)\n",
        "\n",
        "# Predicting the target values\n",
        "y_pred = rf_model.predict(X_test)\n",
        "\n",
        "Emetrics(y_test,y_pred)"
      ],
      "metadata": {
        "colab": {
          "base_uri": "https://localhost:8080/"
        },
        "id": "_pXI-zOJueGE",
        "outputId": "dbd73eac-3b9f-4ecc-b494-390208336800"
      },
      "execution_count": 137,
      "outputs": [
        {
          "output_type": "stream",
          "name": "stdout",
          "text": [
            "Mean Absoulute error is : 18005.11657534247\n",
            "Mean Squared error is: 1036507304.8436159\n",
            "Root Mean Square error is: 32194.83351166171\n",
            "R2 score is: 0.8473252892042858\n"
          ]
        }
      ]
    },
    {
      "cell_type": "markdown",
      "source": [
        "## The original dataframe is little better!"
      ],
      "metadata": {
        "id": "lYLKSha9umIH"
      }
    },
    {
      "cell_type": "markdown",
      "source": [
        "#5) Specific to Random Forest Algorithm -\n",
        "### a. Find the importance of each of the features and visualize them\n",
        "### b. Build a new model by only taking the most important metrics\n",
        "### c. Compare the results of both the models"
      ],
      "metadata": {
        "id": "e8Skoe0JurDV"
      }
    },
    {
      "cell_type": "markdown",
      "source": [
        "# a)Feature Selection"
      ],
      "metadata": {
        "id": "groNG0ETu0XC"
      }
    },
    {
      "cell_type": "markdown",
      "source": [
        "## We are using the original dataframe only"
      ],
      "metadata": {
        "id": "3yBhgioru7v7"
      }
    },
    {
      "cell_type": "code",
      "source": [
        "# Train_Test_Split Method\n",
        "\n",
        "X = kdf.iloc[:, 1:-1].values\n",
        "y = kdf.iloc[:, -1].values"
      ],
      "metadata": {
        "id": "PN3RzDghuqsU"
      },
      "execution_count": 138,
      "outputs": []
    },
    {
      "cell_type": "code",
      "source": [
        "from sklearn.model_selection import train_test_split\n",
        "\n",
        "X_train, X_test, y_train, y_test = train_test_split(X, y, test_size=0.33, random_state=42)"
      ],
      "metadata": {
        "id": "rqJUAH52u6_w"
      },
      "execution_count": 139,
      "outputs": []
    },
    {
      "cell_type": "code",
      "source": [
        "from sklearn.datasets import make_regression\n",
        "from sklearn.model_selection import train_test_split\n",
        "from sklearn.feature_selection import SelectKBest\n",
        "from sklearn.feature_selection import f_regression"
      ],
      "metadata": {
        "id": "GGmf0mFku_3P"
      },
      "execution_count": 140,
      "outputs": []
    },
    {
      "cell_type": "code",
      "source": [
        "# configure to select all features\n",
        "fs = SelectKBest(score_func=f_regression, k='all')\n",
        "# learn relationship from training data\n",
        "fs.fit(X_train, y_train)\n",
        "# transform train input data\n",
        "X_train_fs = fs.transform(X_train)\n",
        "# transform test input data\n",
        "X_test_fs = fs.transform(X_test)\n",
        "print(X_train_fs) \n",
        "print(X_test_fs)\n",
        "print(fs)"
      ],
      "metadata": {
        "colab": {
          "base_uri": "https://localhost:8080/"
        },
        "id": "ryFolHIbvCqo",
        "outputId": "7103206f-0e99-4caf-c310-62c890fcfb70"
      },
      "execution_count": 141,
      "outputs": [
        {
          "output_type": "stream",
          "name": "stdout",
          "text": [
            "[[ 0.66458604  3.          0.64639567 ...  0.          0.\n",
            "   1.        ]\n",
            " [-0.87256276  3.          0.23168926 ...  1.          0.\n",
            "   0.        ]\n",
            " [-0.87256276  3.          0.36201683 ...  0.          0.\n",
            "   1.        ]\n",
            " ...\n",
            " [-0.87256276  3.         -0.24705417 ...  0.          0.\n",
            "   1.        ]\n",
            " [-0.16310947  3.         -0.51728408 ...  0.          0.\n",
            "   1.        ]\n",
            " [ 1.49228154  3.         -0.63232259 ...  0.          0.\n",
            "   1.        ]]\n",
            "[[-0.87256276  3.          0.23168926 ...  0.          0.\n",
            "   1.        ]\n",
            " [ 0.07337496  3.          1.27666597 ...  0.          0.\n",
            "   1.        ]\n",
            " [-0.63607833  4.         -0.46132428 ...  0.          0.\n",
            "   1.        ]\n",
            " ...\n",
            " [ 0.07337496  3.         -1.07224445 ...  0.          0.\n",
            "   1.        ]\n",
            " [-0.87256276  3.         -1.83351754 ...  0.          0.\n",
            "   1.        ]\n",
            " [-0.16310947  3.         -0.81328745 ...  0.          0.\n",
            "   1.        ]]\n",
            "SelectKBest(k='all', score_func=<function f_regression at 0x7f9aaf13db80>)\n"
          ]
        }
      ]
    },
    {
      "cell_type": "code",
      "source": [
        "import matplotlib.pyplot as plt"
      ],
      "metadata": {
        "id": "x9rRWeeKvEs9"
      },
      "execution_count": 142,
      "outputs": []
    },
    {
      "cell_type": "code",
      "source": [
        "# what are scores for the features\n",
        "for i in range(len(fs.scores_)):\n",
        " print('Feature %d: %f' % (i, fs.scores_[i]))\n",
        "# plot the scores\n",
        "plt.bar([i for i in range(len(fs.scores_))], fs.scores_)\n",
        "plt.show()"
      ],
      "metadata": {
        "colab": {
          "base_uri": "https://localhost:8080/",
          "height": 1000
        },
        "id": "4szFsGaYvHmd",
        "outputId": "ba16a6c6-0ae5-47f9-899e-09151f34b263"
      },
      "execution_count": 143,
      "outputs": [
        {
          "output_type": "stream",
          "name": "stdout",
          "text": [
            "Feature 0: 10.019839\n",
            "Feature 1: 40.774917\n",
            "Feature 2: 106.701111\n",
            "Feature 3: 75.604001\n",
            "Feature 4: 0.017610\n",
            "Feature 5: 55.270919\n",
            "Feature 6: 0.001959\n",
            "Feature 7: 0.326907\n",
            "Feature 8: 0.540190\n",
            "Feature 9: 6.843808\n",
            "Feature 10: 7.364512\n",
            "Feature 11: 1579.075242\n",
            "Feature 12: 4.651362\n",
            "Feature 13: 357.477597\n",
            "Feature 14: 365.768894\n",
            "Feature 15: 49.561754\n",
            "Feature 16: 0.950521\n",
            "Feature 17: 180.485381\n",
            "Feature 18: 589.539687\n",
            "Feature 19: 20.604019\n",
            "Feature 20: 144.626680\n",
            "Feature 21: 550.841809\n",
            "Feature 22: 6.149227\n",
            "Feature 23: 100.756861\n",
            "Feature 24: 5.274337\n",
            "Feature 25: 141.845226\n",
            "Feature 26: 0.079603\n",
            "Feature 27: 0.008230\n",
            "Feature 28: 53.039936\n",
            "Feature 29: 521.882716\n",
            "Feature 30: 9.008291\n",
            "Feature 31: 204.040644\n",
            "Feature 32: 79.072705\n",
            "Feature 33: 55.748040\n",
            "Feature 34: 501.613274\n",
            "Feature 35: 90.004688\n",
            "Feature 36: 0.013533\n",
            "Feature 37: 824.979408\n",
            "Feature 38: 58.463805\n",
            "Feature 39: 2.681404\n",
            "Feature 40: 402.863882\n",
            "Feature 41: 78.624768\n",
            "Feature 42: 23.799477\n",
            "Feature 43: 23.122425\n",
            "Feature 44: 464.074076\n",
            "Feature 45: 355.552977\n",
            "Feature 46: 261.348986\n",
            "Feature 47: 6.035762\n",
            "Feature 48: 97.168480\n",
            "Feature 49: 169.922996\n",
            "Feature 50: 384.077865\n",
            "Feature 51: 696.398232\n",
            "Feature 52: 628.535291\n",
            "Feature 53: 6.875182\n",
            "Feature 54: 19.271068\n",
            "Feature 55: 57.450035\n",
            "Feature 56: 124.270506\n",
            "Feature 57: 77.699876\n",
            "Feature 58: 20.996265\n",
            "Feature 59: 3.807175\n",
            "Feature 60: 16.659069\n",
            "Feature 61: 1.993186\n",
            "Feature 62: 0.279237\n",
            "Feature 63: 2.612536\n",
            "Feature 64: 0.118967\n",
            "Feature 65: 52.595534\n",
            "Feature 66: 0.287800\n",
            "Feature 67: 0.561149\n",
            "Feature 68: 13.175401\n",
            "Feature 69: 26.884330\n",
            "Feature 70: 6.191815\n",
            "Feature 71: 7.958386\n",
            "Feature 72: 7.242071\n",
            "Feature 73: 37.085304\n",
            "Feature 74: 2.976931\n",
            "Feature 75: 25.846015\n",
            "Feature 76: 11.021425\n",
            "Feature 77: 2.993783\n",
            "Feature 78: 33.983146\n",
            "Feature 79: 1.197395\n",
            "Feature 80: 0.619992\n",
            "Feature 81: 91.947810\n",
            "Feature 82: 180.856972\n",
            "Feature 83: 36.745048\n",
            "Feature 84: 4.321679\n",
            "Feature 85: 14.791518\n",
            "Feature 86: 0.083518\n",
            "Feature 87: 16.714890\n",
            "Feature 88: 50.858474\n",
            "Feature 89: 15.796326\n",
            "Feature 90: 6.586563\n",
            "Feature 91: 12.761975\n",
            "Feature 92: 15.590343\n",
            "Feature 93: 16.758786\n",
            "Feature 94: 0.556446\n",
            "Feature 95: 3.353548\n",
            "Feature 96: 2.945643\n",
            "Feature 97: 0.169460\n",
            "Feature 98: 0.006107\n",
            "Feature 99: 0.013711\n",
            "Feature 100: 1.921110\n",
            "Feature 101: 1.525000\n",
            "Feature 102: 0.374592\n",
            "Feature 103: 0.000000\n",
            "Feature 104: 3.733584\n",
            "Feature 105: 0.013814\n",
            "Feature 106: 0.335905\n",
            "Feature 107: 0.000000\n",
            "Feature 108: 27.774907\n",
            "Feature 109: 8.736403\n",
            "Feature 110: 1.530703\n",
            "Feature 111: 4.027080\n",
            "Feature 112: 2.100855\n",
            "Feature 113: 46.588809\n",
            "Feature 114: 6.736368\n",
            "Feature 115: 1.400227\n",
            "Feature 116: 0.076344\n",
            "Feature 117: 5.936555\n",
            "Feature 118: 0.000000\n",
            "Feature 119: 0.000189\n",
            "Feature 120: 0.334460\n",
            "Feature 121: 0.201088\n",
            "Feature 122: 1.369243\n",
            "Feature 123: 20.802712\n",
            "Feature 124: 12.507146\n",
            "Feature 125: 1.133290\n",
            "Feature 126: 1.693553\n",
            "Feature 127: 5.347993\n",
            "Feature 128: 0.997633\n",
            "Feature 129: 21.298529\n",
            "Feature 130: 13.823511\n",
            "Feature 131: 0.000000\n",
            "Feature 132: 26.966037\n",
            "Feature 133: 0.013795\n",
            "Feature 134: 0.413149\n",
            "Feature 135: 0.071122\n",
            "Feature 136: 102.029415\n",
            "Feature 137: 37.846298\n",
            "Feature 138: 1.788447\n",
            "Feature 139: 9.969839\n",
            "Feature 140: 1.308680\n",
            "Feature 141: 1.743236\n",
            "Feature 142: 8.037228\n",
            "Feature 143: 0.997633\n",
            "Feature 144: 18.889510\n",
            "Feature 145: 8.118782\n",
            "Feature 146: 1.144762\n",
            "Feature 147: 25.602779\n",
            "Feature 148: 3.290698\n",
            "Feature 149: 2.999457\n",
            "Feature 150: 0.122563\n",
            "Feature 151: 0.003029\n",
            "Feature 152: 105.081583\n",
            "Feature 153: 26.598956\n",
            "Feature 154: 1.530997\n",
            "Feature 155: 1.002630\n",
            "Feature 156: 4.094241\n",
            "Feature 157: 4.205065\n",
            "Feature 158: 6.715692\n",
            "Feature 159: 0.000239\n",
            "Feature 160: 0.467049\n",
            "Feature 161: 13.104787\n",
            "Feature 162: 8.254593\n",
            "Feature 163: 0.604272\n",
            "Feature 164: 3.534438\n",
            "Feature 165: 1.474573\n",
            "Feature 166: 0.541637\n",
            "Feature 167: 1.308680\n",
            "Feature 168: 146.201700\n",
            "Feature 169: 0.166141\n",
            "Feature 170: 64.731089\n"
          ]
        },
        {
          "output_type": "display_data",
          "data": {
            "text/plain": [
              "<Figure size 432x288 with 1 Axes>"
            ],
            "image/png": "[encoded data removed]"
          },
          "metadata": {
            "needs_background": "light"
          }
        }
      ]
    },
    {
      "cell_type": "code",
      "source": [
        "index1 = []\n",
        "for i in range(0,len(fs.scores_)):\n",
        "  if(fs.scores_[i]>=200):\n",
        "    index1.append(i+1)\n",
        "index1.append(len(list(kdf.columns))-1)   # we are including the normlaized target column also \n",
        "index1"
      ],
      "metadata": {
        "colab": {
          "base_uri": "https://localhost:8080/"
        },
        "id": "ITUoASvfvOKi",
        "outputId": "a04291b6-ba10-4259-b2aa-5da2ebf7e24a"
      },
      "execution_count": 144,
      "outputs": [
        {
          "output_type": "execute_result",
          "data": {
            "text/plain": [
              "[12, 14, 15, 19, 22, 30, 32, 35, 38, 41, 45, 46, 47, 51, 52, 53, 172]"
            ]
          },
          "metadata": {},
          "execution_count": 144
        }
      ]
    },
    {
      "cell_type": "markdown",
      "source": [
        "# b. Building a new dataframe from important columns and applying Random Forest Algorithm"
      ],
      "metadata": {
        "id": "rjfizxDWvaS1"
      }
    },
    {
      "cell_type": "code",
      "source": [
        "# Now our feature selected dataframe is ready\n",
        "fit_kdf = kdf.iloc[:,index1]\n",
        "fit_kdf"
      ],
      "metadata": {
        "colab": {
          "base_uri": "https://localhost:8080/",
          "height": 487
        },
        "id": "LpgsAIxjvVjc",
        "outputId": "7fd78836-fa78-4636-891c-814a543558c2"
      },
      "execution_count": 145,
      "outputs": [
        {
          "output_type": "execute_result",
          "data": {
            "text/plain": [
              "      OverallQual  YearBuilt  YearRemodAdd  ExterQual  BsmtQual  TotalBsmtSF  \\\n",
              "0        0.651479   1.050994      0.878668          2         2    -0.459303   \n",
              "1       -0.071836   0.156734     -0.429577          3         2     0.466465   \n",
              "2        0.651479   0.984752      0.830215          2         2    -0.313369   \n",
              "3        0.651479  -1.863632     -0.720298          3         3    -0.687324   \n",
              "4        1.374795   0.951632      0.733308          2         2     0.199680   \n",
              "...           ...        ...           ...        ...       ...          ...   \n",
              "1455    -0.071836   0.918511      0.733308          3         2    -0.238122   \n",
              "1456    -0.071836   0.222975      0.151865          3         2     1.104925   \n",
              "1457     0.651479  -1.002492      1.024029          0         3     0.215641   \n",
              "1458    -0.795151  -0.704406      0.539493          3         3     0.046905   \n",
              "1459    -0.795151  -0.207594     -0.962566          2         3     0.452784   \n",
              "\n",
              "      HeatingQC  1stFlrSF  GrLivArea  FullBath  KitchenQual  TotRmsAbvGrd  \\\n",
              "0             0 -0.793434   0.370333  0.789741            2      0.912210   \n",
              "1             0  0.257140  -0.482512  0.789741            3     -0.318683   \n",
              "2             0 -0.627826   0.515013  0.789741            2     -0.318683   \n",
              "3             2 -0.521734   0.383659 -1.026041            2      0.296763   \n",
              "4             0 -0.045611   1.299326  0.789741            2      1.527656   \n",
              "...         ...       ...        ...       ...          ...           ...   \n",
              "1455          0 -0.542435   0.250402  0.789741            3      0.296763   \n",
              "1456          4  2.355701   1.061367  0.789741            3      0.296763   \n",
              "1457          0  0.065656   1.569647  0.789741            2      1.527656   \n",
              "1458          2 -0.218982  -0.832788 -1.026041            2     -0.934130   \n",
              "1459          2  0.241615  -0.493934 -1.026041            3     -0.318683   \n",
              "\n",
              "      Fireplaces  GarageFinish  GarageCars  GarageArea  SalePrice  \n",
              "0      -0.951226             1    0.311725    0.351000     208500  \n",
              "1       0.600495             1    0.311725   -0.060731     181500  \n",
              "2       0.600495             1    0.311725    0.631726     223500  \n",
              "3       0.600495             2    1.650307    0.790804     140000  \n",
              "4       0.600495             1    1.650307    1.698485     250000  \n",
              "...          ...           ...         ...         ...        ...  \n",
              "1455    0.600495             1    0.311725   -0.060731     175000  \n",
              "1456    2.152216             2    0.311725    0.126420     210000  \n",
              "1457    2.152216             1   -1.026858   -1.033914     266500  \n",
              "1458   -0.951226             2   -1.026858   -1.090059     142125  \n",
              "1459   -0.951226             0   -1.026858   -0.921624     147500  \n",
              "\n",
              "[1460 rows x 17 columns]"
            ],
            "text/html": [
              "\n",
              "  <div id=\"df-96262622-767f-4e13-81a1-e34af0cf43c6\">\n",
              "    <div class=\"colab-df-container\">\n",
              "      <div>\n",
              "<style scoped>\n",
              "    .dataframe tbody tr th:only-of-type {\n",
              "        vertical-align: middle;\n",
              "    }\n",
              "\n",
              "    .dataframe tbody tr th {\n",
              "        vertical-align: top;\n",
              "    }\n",
              "\n",
              "    .dataframe thead th {\n",
              "        text-align: right;\n",
              "    }\n",
              "</style>\n",
              "<table border=\"1\" class=\"dataframe\">\n",
              "  <thead>\n",
              "    <tr style=\"text-align: right;\">\n",
              "      <th></th>\n",
              "      <th>OverallQual</th>\n",
              "      <th>YearBuilt</th>\n",
              "      <th>YearRemodAdd</th>\n",
              "      <th>ExterQual</th>\n",
              "      <th>BsmtQual</th>\n",
              "      <th>TotalBsmtSF</th>\n",
              "      <th>HeatingQC</th>\n",
              "      <th>1stFlrSF</th>\n",
              "      <th>GrLivArea</th>\n",
              "      <th>FullBath</th>\n",
              "      <th>KitchenQual</th>\n",
              "      <th>TotRmsAbvGrd</th>\n",
              "      <th>Fireplaces</th>\n",
              "      <th>GarageFinish</th>\n",
              "      <th>GarageCars</th>\n",
              "      <th>GarageArea</th>\n",
              "      <th>SalePrice</th>\n",
              "    </tr>\n",
              "  </thead>\n",
              "  <tbody>\n",
              "    <tr>\n",
              "      <th>0</th>\n",
              "      <td>0.651479</td>\n",
              "      <td>1.050994</td>\n",
              "      <td>0.878668</td>\n",
              "      <td>2</td>\n",
              "      <td>2</td>\n",
              "      <td>-0.459303</td>\n",
              "      <td>0</td>\n",
              "      <td>-0.793434</td>\n",
              "      <td>0.370333</td>\n",
              "      <td>0.789741</td>\n",
              "      <td>2</td>\n",
              "      <td>0.912210</td>\n",
              "      <td>-0.951226</td>\n",
              "      <td>1</td>\n",
              "      <td>0.311725</td>\n",
              "      <td>0.351000</td>\n",
              "      <td>208500</td>\n",
              "    </tr>\n",
              "    <tr>\n",
              "      <th>1</th>\n",
              "      <td>-0.071836</td>\n",
              "      <td>0.156734</td>\n",
              "      <td>-0.429577</td>\n",
              "      <td>3</td>\n",
              "      <td>2</td>\n",
              "      <td>0.466465</td>\n",
              "      <td>0</td>\n",
              "      <td>0.257140</td>\n",
              "      <td>-0.482512</td>\n",
              "      <td>0.789741</td>\n",
              "      <td>3</td>\n",
              "      <td>-0.318683</td>\n",
              "      <td>0.600495</td>\n",
              "      <td>1</td>\n",
              "      <td>0.311725</td>\n",
              "      <td>-0.060731</td>\n",
              "      <td>181500</td>\n",
              "    </tr>\n",
              "    <tr>\n",
              "      <th>2</th>\n",
              "      <td>0.651479</td>\n",
              "      <td>0.984752</td>\n",
              "      <td>0.830215</td>\n",
              "      <td>2</td>\n",
              "      <td>2</td>\n",
              "      <td>-0.313369</td>\n",
              "      <td>0</td>\n",
              "      <td>-0.627826</td>\n",
              "      <td>0.515013</td>\n",
              "      <td>0.789741</td>\n",
              "      <td>2</td>\n",
              "      <td>-0.318683</td>\n",
              "      <td>0.600495</td>\n",
              "      <td>1</td>\n",
              "      <td>0.311725</td>\n",
              "      <td>0.631726</td>\n",
              "      <td>223500</td>\n",
              "    </tr>\n",
              "    <tr>\n",
              "      <th>3</th>\n",
              "      <td>0.651479</td>\n",
              "      <td>-1.863632</td>\n",
              "      <td>-0.720298</td>\n",
              "      <td>3</td>\n",
              "      <td>3</td>\n",
              "      <td>-0.687324</td>\n",
              "      <td>2</td>\n",
              "      <td>-0.521734</td>\n",
              "      <td>0.383659</td>\n",
              "      <td>-1.026041</td>\n",
              "      <td>2</td>\n",
              "      <td>0.296763</td>\n",
              "      <td>0.600495</td>\n",
              "      <td>2</td>\n",
              "      <td>1.650307</td>\n",
              "      <td>0.790804</td>\n",
              "      <td>140000</td>\n",
              "    </tr>\n",
              "    <tr>\n",
              "      <th>4</th>\n",
              "      <td>1.374795</td>\n",
              "      <td>0.951632</td>\n",
              "      <td>0.733308</td>\n",
              "      <td>2</td>\n",
              "      <td>2</td>\n",
              "      <td>0.199680</td>\n",
              "      <td>0</td>\n",
              "      <td>-0.045611</td>\n",
              "      <td>1.299326</td>\n",
              "      <td>0.789741</td>\n",
              "      <td>2</td>\n",
              "      <td>1.527656</td>\n",
              "      <td>0.600495</td>\n",
              "      <td>1</td>\n",
              "      <td>1.650307</td>\n",
              "      <td>1.698485</td>\n",
              "      <td>250000</td>\n",
              "    </tr>\n",
              "    <tr>\n",
              "      <th>...</th>\n",
              "      <td>...</td>\n",
              "      <td>...</td>\n",
              "      <td>...</td>\n",
              "      <td>...</td>\n",
              "      <td>...</td>\n",
              "      <td>...</td>\n",
              "      <td>...</td>\n",
              "      <td>...</td>\n",
              "      <td>...</td>\n",
              "      <td>...</td>\n",
              "      <td>...</td>\n",
              "      <td>...</td>\n",
              "      <td>...</td>\n",
              "      <td>...</td>\n",
              "      <td>...</td>\n",
              "      <td>...</td>\n",
              "      <td>...</td>\n",
              "    </tr>\n",
              "    <tr>\n",
              "      <th>1455</th>\n",
              "      <td>-0.071836</td>\n",
              "      <td>0.918511</td>\n",
              "      <td>0.733308</td>\n",
              "      <td>3</td>\n",
              "      <td>2</td>\n",
              "      <td>-0.238122</td>\n",
              "      <td>0</td>\n",
              "      <td>-0.542435</td>\n",
              "      <td>0.250402</td>\n",
              "      <td>0.789741</td>\n",
              "      <td>3</td>\n",
              "      <td>0.296763</td>\n",
              "      <td>0.600495</td>\n",
              "      <td>1</td>\n",
              "      <td>0.311725</td>\n",
              "      <td>-0.060731</td>\n",
              "      <td>175000</td>\n",
              "    </tr>\n",
              "    <tr>\n",
              "      <th>1456</th>\n",
              "      <td>-0.071836</td>\n",
              "      <td>0.222975</td>\n",
              "      <td>0.151865</td>\n",
              "      <td>3</td>\n",
              "      <td>2</td>\n",
              "      <td>1.104925</td>\n",
              "      <td>4</td>\n",
              "      <td>2.355701</td>\n",
              "      <td>1.061367</td>\n",
              "      <td>0.789741</td>\n",
              "      <td>3</td>\n",
              "      <td>0.296763</td>\n",
              "      <td>2.152216</td>\n",
              "      <td>2</td>\n",
              "      <td>0.311725</td>\n",
              "      <td>0.126420</td>\n",
              "      <td>210000</td>\n",
              "    </tr>\n",
              "    <tr>\n",
              "      <th>1457</th>\n",
              "      <td>0.651479</td>\n",
              "      <td>-1.002492</td>\n",
              "      <td>1.024029</td>\n",
              "      <td>0</td>\n",
              "      <td>3</td>\n",
              "      <td>0.215641</td>\n",
              "      <td>0</td>\n",
              "      <td>0.065656</td>\n",
              "      <td>1.569647</td>\n",
              "      <td>0.789741</td>\n",
              "      <td>2</td>\n",
              "      <td>1.527656</td>\n",
              "      <td>2.152216</td>\n",
              "      <td>1</td>\n",
              "      <td>-1.026858</td>\n",
              "      <td>-1.033914</td>\n",
              "      <td>266500</td>\n",
              "    </tr>\n",
              "    <tr>\n",
              "      <th>1458</th>\n",
              "      <td>-0.795151</td>\n",
              "      <td>-0.704406</td>\n",
              "      <td>0.539493</td>\n",
              "      <td>3</td>\n",
              "      <td>3</td>\n",
              "      <td>0.046905</td>\n",
              "      <td>2</td>\n",
              "      <td>-0.218982</td>\n",
              "      <td>-0.832788</td>\n",
              "      <td>-1.026041</td>\n",
              "      <td>2</td>\n",
              "      <td>-0.934130</td>\n",
              "      <td>-0.951226</td>\n",
              "      <td>2</td>\n",
              "      <td>-1.026858</td>\n",
              "      <td>-1.090059</td>\n",
              "      <td>142125</td>\n",
              "    </tr>\n",
              "    <tr>\n",
              "      <th>1459</th>\n",
              "      <td>-0.795151</td>\n",
              "      <td>-0.207594</td>\n",
              "      <td>-0.962566</td>\n",
              "      <td>2</td>\n",
              "      <td>3</td>\n",
              "      <td>0.452784</td>\n",
              "      <td>2</td>\n",
              "      <td>0.241615</td>\n",
              "      <td>-0.493934</td>\n",
              "      <td>-1.026041</td>\n",
              "      <td>3</td>\n",
              "      <td>-0.318683</td>\n",
              "      <td>-0.951226</td>\n",
              "      <td>0</td>\n",
              "      <td>-1.026858</td>\n",
              "      <td>-0.921624</td>\n",
              "      <td>147500</td>\n",
              "    </tr>\n",
              "  </tbody>\n",
              "</table>\n",
              "<p>1460 rows × 17 columns</p>\n",
              "</div>\n",
              "      <button class=\"colab-df-convert\" onclick=\"convertToInteractive('df-96262622-767f-4e13-81a1-e34af0cf43c6')\"\n",
              "              title=\"Convert this dataframe to an interactive table.\"\n",
              "              style=\"display:none;\">\n",
              "        \n",
              "  <svg xmlns=\"http://www.w3.org/2000/svg\" height=\"24px\"viewBox=\"0 0 24 24\"\n",
              "       width=\"24px\">\n",
              "    <path d=\"M0 0h24v24H0V0z\" fill=\"none\"/>\n",
              "    <path d=\"M18.56 5.44l.94 2.06.94-2.06 2.06-.94-2.06-.94-.94-2.06-.94 2.06-2.06.94zm-11 1L8.5 8.5l.94-2.06 2.06-.94-2.06-.94L8.5 2.5l-.94 2.06-2.06.94zm10 10l.94 2.06.94-2.06 2.06-.94-2.06-.94-.94-2.06-.94 2.06-2.06.94z\"/><path d=\"M17.41 7.96l-1.37-1.37c-.4-.4-.92-.59-1.43-.59-.52 0-1.04.2-1.43.59L10.3 9.45l-7.72 7.72c-.78.78-.78 2.05 0 2.83L4 21.41c.39.39.9.59 1.41.59.51 0 1.02-.2 1.41-.59l7.78-7.78 2.81-2.81c.8-.78.8-2.07 0-2.86zM5.41 20L4 18.59l7.72-7.72 1.47 1.35L5.41 20z\"/>\n",
              "  </svg>\n",
              "      </button>\n",
              "      \n",
              "  <style>\n",
              "    .colab-df-container {\n",
              "      display:flex;\n",
              "      flex-wrap:wrap;\n",
              "      gap: 12px;\n",
              "    }\n",
              "\n",
              "    .colab-df-convert {\n",
              "      background-color: #E8F0FE;\n",
              "      border: none;\n",
              "      border-radius: 50%;\n",
              "      cursor: pointer;\n",
              "      display: none;\n",
              "      fill: #1967D2;\n",
              "      height: 32px;\n",
              "      padding: 0 0 0 0;\n",
              "      width: 32px;\n",
              "    }\n",
              "\n",
              "    .colab-df-convert:hover {\n",
              "      background-color: #E2EBFA;\n",
              "      box-shadow: 0px 1px 2px rgba(60, 64, 67, 0.3), 0px 1px 3px 1px rgba(60, 64, 67, 0.15);\n",
              "      fill: #174EA6;\n",
              "    }\n",
              "\n",
              "    [theme=dark] .colab-df-convert {\n",
              "      background-color: #3B4455;\n",
              "      fill: #D2E3FC;\n",
              "    }\n",
              "\n",
              "    [theme=dark] .colab-df-convert:hover {\n",
              "      background-color: #434B5C;\n",
              "      box-shadow: 0px 1px 3px 1px rgba(0, 0, 0, 0.15);\n",
              "      filter: drop-shadow(0px 1px 2px rgba(0, 0, 0, 0.3));\n",
              "      fill: #FFFFFF;\n",
              "    }\n",
              "  </style>\n",
              "\n",
              "      <script>\n",
              "        const buttonEl =\n",
              "          document.querySelector('#df-96262622-767f-4e13-81a1-e34af0cf43c6 button.colab-df-convert');\n",
              "        buttonEl.style.display =\n",
              "          google.colab.kernel.accessAllowed ? 'block' : 'none';\n",
              "\n",
              "        async function convertToInteractive(key) {\n",
              "          const element = document.querySelector('#df-96262622-767f-4e13-81a1-e34af0cf43c6');\n",
              "          const dataTable =\n",
              "            await google.colab.kernel.invokeFunction('convertToInteractive',\n",
              "                                                     [key], {});\n",
              "          if (!dataTable) return;\n",
              "\n",
              "          const docLinkHtml = 'Like what you see? Visit the ' +\n",
              "            '<a target=\"_blank\" href=https://colab.research.google.com/notebooks/data_table.ipynb>data table notebook</a>'\n",
              "            + ' to learn more about interactive tables.';\n",
              "          element.innerHTML = '';\n",
              "          dataTable['output_type'] = 'display_data';\n",
              "          await google.colab.output.renderOutput(dataTable, element);\n",
              "          const docLink = document.createElement('div');\n",
              "          docLink.innerHTML = docLinkHtml;\n",
              "          element.appendChild(docLink);\n",
              "        }\n",
              "      </script>\n",
              "    </div>\n",
              "  </div>\n",
              "  "
            ]
          },
          "metadata": {},
          "execution_count": 145
        }
      ]
    },
    {
      "cell_type": "code",
      "source": [
        "# Now our dataframe is ready with selected features and normalized data\n",
        "\n",
        "# Importing the necessary libraries\n",
        "import pandas as pd\n",
        "import numpy as np\n",
        "from sklearn.ensemble import RandomForestRegressor\n",
        "from sklearn.model_selection import train_test_split\n",
        "from sklearn.metrics import r2_score, mean_squared_error\n",
        "\n",
        "# Load the dataset\n",
        "\n",
        "# Splitting the data into training and testing sets\n",
        "X = fit_kdf.iloc[:, 0:-1].values\n",
        "y = fit_kdf.iloc[:, -1].values\n",
        "X_train, X_test, y_train, y_test = train_test_split(X, y, test_size=0.4, random_state=0)\n",
        "\n",
        "# Training the model\n",
        "rf_model = RandomForestRegressor(n_estimators=100, random_state=0)\n",
        "rf_model.fit(X_train, y_train)\n",
        "\n",
        "# Predicting the target values\n",
        "y_pred = rf_model.predict(X_test)"
      ],
      "metadata": {
        "id": "eee93awrvym9"
      },
      "execution_count": 146,
      "outputs": []
    },
    {
      "cell_type": "markdown",
      "source": [
        "## Evaluating the new model performance on Random Forest Algorithm"
      ],
      "metadata": {
        "id": "o63oMZVFv3NK"
      }
    },
    {
      "cell_type": "code",
      "source": [
        "Emetrics(y_test,y_pred)"
      ],
      "metadata": {
        "colab": {
          "base_uri": "https://localhost:8080/"
        },
        "id": "isYFDyBev1G6",
        "outputId": "b570894a-c509-435d-f8bd-ee49f268a179"
      },
      "execution_count": 147,
      "outputs": [
        {
          "output_type": "stream",
          "name": "stdout",
          "text": [
            "Mean Absoulute error is : 18922.447101272017\n",
            "Mean Squared error is: 910420217.325716\n",
            "Root Mean Square error is: 30173.170488460706\n",
            "R2 score is: 0.8538591834049066\n"
          ]
        }
      ]
    },
    {
      "cell_type": "markdown",
      "source": [
        "# The R2 Value of both the models is very close\n",
        "##But the non_pruned dataframe has little more R2 values maybe because of other remaining colums also contributing little more individually \n",
        "## ------------------THE DIFFERENCE OBSERVED IS------------------\n",
        "### New Model R2 is: 0.8538 Vs Old Model R2: 0.8547\n",
        "### RMSE New Model: 30.173K Vs Old Model: 30.081K"
      ],
      "metadata": {
        "id": "S-dMMVRixSgq"
      }
    },
    {
      "cell_type": "markdown",
      "source": [
        "## Conculsion:\n",
        "\n",
        "Both models in the Random Forest Regression is almost the same. We can observe that all the columns are having something little to contribute to enhance the model little by little...\n",
        "Furthermore.........\n",
        "If we remove too many columns and see take the best columns which are contributing the most, we would get a lesser R2-value.\n",
        "\n",
        "So Majority of the columns should be included(Not all), Very less contributing columns should be removed!!!"
      ],
      "metadata": {
        "id": "xxV37bqTymPy"
      }
    }
  ]
}